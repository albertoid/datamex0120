{
 "cells": [
  {
   "cell_type": "markdown",
   "metadata": {},
   "source": [
    "# Hackaton"
   ]
  },
  {
   "cell_type": "markdown",
   "metadata": {},
   "source": [
    "Creación de Estructura de Base de Datos"
   ]
  },
  {
   "cell_type": "code",
   "execution_count": 1,
   "metadata": {},
   "outputs": [],
   "source": [
    "import pandas as pd\n",
    "import numpy as np\n",
    "from bs4 import BeautifulSoup as bs\n",
    "from pymongo import MongoClient\n",
    "from tqdm import tqdm_notebook as tqdm\n",
    "import json\n"
   ]
  },
  {
   "cell_type": "code",
   "execution_count": 11,
   "metadata": {},
   "outputs": [],
   "source": [
    "#Login\n",
    "f= open(\"k.txt\",\"r\")\n",
    "pw=f.read()\n",
    "f.close()\n",
    "connect_local='mongodb://localhost:27017'\n",
    "connect='mongodb+srv://albertoid:{}@ironhack-hackaton-6ah57.azure.mongodb.net/test?retryWrites=true&w=majority'.format(pw)\n",
    "\n",
    "try:\n",
    "    client=MongoClient(connect)\n",
    "except:\n",
    "    print('Error de conexion')"
   ]
  },
  {
   "cell_type": "code",
   "execution_count": 12,
   "metadata": {},
   "outputs": [
    {
     "data": {
      "text/plain": [
       "['Hackaton', 'admin', 'local']"
      ]
     },
     "execution_count": 12,
     "metadata": {},
     "output_type": "execute_result"
    }
   ],
   "source": [
    "client.list_database_names()"
   ]
  },
  {
   "cell_type": "code",
   "execution_count": 13,
   "metadata": {},
   "outputs": [],
   "source": [
    "cHack_Places=client.Hackaton.Places\n",
    "cHack_Users=client.Hackaton.Users"
   ]
  },
  {
   "cell_type": "code",
   "execution_count": 14,
   "metadata": {},
   "outputs": [],
   "source": [
    "df_Users=pd.DataFrame()\n",
    "df_Users=pd.DataFrame(columns=['user_id','email','google_id','password'])\n",
    "df_Users=df_Users.append({'user_id':'alberto','email':'a@gmail.com','google_id':'a@gmail.com','password':'1234'},ignore_index=True)\n",
    "df_Users=df_Users.append({'user_id':'karen','email':'k@gmail.com','google_id':'k@gmail.com','password':'qwer'},ignore_index=True)\n",
    "df_Users=df_Users.append({'user_id':'israel','email':'i@gmail.com','google_id':'i@gmail.com','password':'asdf'},ignore_index=True)\n",
    "df_Users=df_Users.append({'user_id':'ale','email':'ale@gmail.com','google_id':'ale@gmail.com','password':'zxcv'},ignore_index=True)"
   ]
  },
  {
   "cell_type": "code",
   "execution_count": 16,
   "metadata": {},
   "outputs": [],
   "source": [
    "Users=df_Users.to_dict('records')\n"
   ]
  },
  {
   "cell_type": "code",
   "execution_count": 216,
   "metadata": {},
   "outputs": [],
   "source": [
    "try:\n",
    "    cHack_Users.insert_many(Users)\n",
    "except:\n",
    "    print('No cargó')"
   ]
  },
  {
   "cell_type": "code",
   "execution_count": 17,
   "metadata": {},
   "outputs": [],
   "source": [
    "#Estructura Básica del Data Frame\n",
    "df_Places=pd.DataFrame(columns=['name','gps','address','price','kind','cap',\n",
    "                                'schedule','menu','service','bike','phone',\n",
    "                                'email','social','reviews'])"
   ]
  },
  {
   "cell_type": "code",
   "execution_count": 18,
   "metadata": {},
   "outputs": [],
   "source": [
    "df_Users=pd.DataFrame(columns=['user_id','email','google_id','password'])"
   ]
  },
  {
   "cell_type": "code",
   "execution_count": 19,
   "metadata": {},
   "outputs": [
    {
     "name": "stderr",
     "output_type": "stream",
     "text": [
      "/usr/local/lib/python3.7/site-packages/IPython/core/interactiveshell.py:3051: DtypeWarning: Columns (34) have mixed types. Specify dtype option on import or set low_memory=False.\n",
      "  interactivity=interactivity, compiler=compiler, result=result)\n"
     ]
    }
   ],
   "source": [
    "#Carga de datos iniciales del INEGI\n",
    "inegi=pd.read_csv('./inegi_cdmx.csv',encoding='ISO-8859-1')\n",
    "\n",
    "#Busqueda de actividades economicas\n",
    "actividades=inegi.nombre_act.unique()\n",
    "af=[]\n",
    "for i in actividades:\n",
    "    #i=i.upper()\n",
    "    #print(i)\n",
    "    if i.find('Restaurante')>=0:\n",
    "        af.append(i)\n",
    "    elif i.find('COMIDA')>=0:\n",
    "        af.append(i)\n",
    "\n",
    "#Limpieza de columnas no relevantes\n",
    "dcol=['id','codigo_act','raz_social','tipo_vial','manzana','fecha_alta','ageb','entidad','cve_mun','cve_loc','tipo_v_e_1','nom_v_e_1','tipo_v_e_2','tipo_v_e_3','nom_v_e_3','nom_v_e_2','cve_ent','localidad','tipoUniEco','edificio','edificio_e','numero_int','letra_int','tipoCenCom','nom_CenCom','num_local']\n",
    "inegi = inegi.drop(columns=dcol)\n",
    "\n",
    "#Filtro Restaurantes\n",
    "inegi = inegi[(inegi.nombre_act==af[0]) | (inegi.nombre_act==af[1]) | (inegi.nombre_act==af[2]) | (inegi.nombre_act==af[3]) | (inegi.nombre_act==af[4]) | (inegi.nombre_act==af[5]) | (inegi.nombre_act==af[6])]\n",
    "\n",
    "#Filtro Municipio = Cuahutemoc\n",
    "inegi=inegi[inegi.municipio=='Cuauhtémoc']\n",
    "\n",
    "inegi=inegi.reset_index()\n",
    "inegi=inegi.drop(columns='index')\n",
    "inegi=inegi.drop(columns='nombre_act')\n",
    "inegi=inegi.fillna('')\n"
   ]
  },
  {
   "cell_type": "code",
   "execution_count": 20,
   "metadata": {},
   "outputs": [],
   "source": [
    "inegi.numero_ext=inegi.numero_ext.apply(lambda x: str(x))\n",
    "inegi.cod_postal=inegi.cod_postal.apply(lambda x: str(x))"
   ]
  },
  {
   "cell_type": "code",
   "execution_count": 21,
   "metadata": {},
   "outputs": [],
   "source": [
    "inegi['address'] = [{'street':inegi.nom_vial[i], 'number':inegi.numero_ext[i],\n",
    "                     'letter':inegi.letra_ext[i], 'townshiptype':inegi.tipo_asent[i],\n",
    "                      'township':inegi.nomb_asent[i], 'zip':inegi.cod_postal[i],\n",
    "                      'town':inegi.municipio[i]} for i in range(len(inegi))]\n",
    "inegi['gps'] = [{'latitude':inegi.latitud[i],'logitude':inegi.longitud[i]} for i in range(len(inegi))]\n",
    "inegi['social'] = [{'web':inegi.www[i]}for i in range(len(inegi))]"
   ]
  },
  {
   "cell_type": "code",
   "execution_count": null,
   "metadata": {},
   "outputs": [],
   "source": [
    "inegi.rename(columns={'nom_estab':'name','per_ocu':'cap','telefono':'phone','correoelec':'email'},inplace=True)\n",
    "inegi=inegi.drop(columns = ['nom_vial','numero_ext','letra_ext','tipo_asent','nomb_asent','cod_postal',\n",
    "                            'municipio','latitud','longitud','www'])\n",
    "\n",
    "imagen='https://www.ironhack.com/assets/icons/ironhack_logos/logo.svg'\n",
    "inegi['picture']=imagen"
   ]
  },
  {
   "cell_type": "code",
   "execution_count": 25,
   "metadata": {},
   "outputs": [
    {
     "data": {
      "text/html": [
       "<div>\n",
       "<style scoped>\n",
       "    .dataframe tbody tr th:only-of-type {\n",
       "        vertical-align: middle;\n",
       "    }\n",
       "\n",
       "    .dataframe tbody tr th {\n",
       "        vertical-align: top;\n",
       "    }\n",
       "\n",
       "    .dataframe thead th {\n",
       "        text-align: right;\n",
       "    }\n",
       "</style>\n",
       "<table border=\"1\" class=\"dataframe\">\n",
       "  <thead>\n",
       "    <tr style=\"text-align: right;\">\n",
       "      <th></th>\n",
       "      <th>name</th>\n",
       "      <th>cap</th>\n",
       "      <th>phone</th>\n",
       "      <th>email</th>\n",
       "      <th>address</th>\n",
       "      <th>gps</th>\n",
       "      <th>social</th>\n",
       "      <th>picture</th>\n",
       "    </tr>\n",
       "  </thead>\n",
       "  <tbody>\n",
       "    <tr>\n",
       "      <th>0</th>\n",
       "      <td>100% CARNÍVORO</td>\n",
       "      <td>0 a 5 personas</td>\n",
       "      <td>5.51916e+09</td>\n",
       "      <td></td>\n",
       "      <td>{'street': 'RIO SENA', 'number': '', 'letter':...</td>\n",
       "      <td>{'latitude': 19.43408487, 'logitude': -99.1680...</td>\n",
       "      <td>{'web': ''}</td>\n",
       "      <td>https://www.ironhack.com/assets/icons/ironhack...</td>\n",
       "    </tr>\n",
       "  </tbody>\n",
       "</table>\n",
       "</div>"
      ],
      "text/plain": [
       "             name             cap        phone email  \\\n",
       "0  100% CARNÍVORO  0 a 5 personas  5.51916e+09         \n",
       "\n",
       "                                             address  \\\n",
       "0  {'street': 'RIO SENA', 'number': '', 'letter':...   \n",
       "\n",
       "                                                 gps       social  \\\n",
       "0  {'latitude': 19.43408487, 'logitude': -99.1680...  {'web': ''}   \n",
       "\n",
       "                                             picture  \n",
       "0  https://www.ironhack.com/assets/icons/ironhack...  "
      ]
     },
     "execution_count": 25,
     "metadata": {},
     "output_type": "execute_result"
    }
   ],
   "source": [
    "inegi.head(1)"
   ]
  },
  {
   "cell_type": "code",
   "execution_count": 26,
   "metadata": {},
   "outputs": [],
   "source": [
    "data=inegi.to_dict('records')"
   ]
  },
  {
   "cell_type": "code",
   "execution_count": 27,
   "metadata": {},
   "outputs": [
    {
     "data": {
      "text/plain": [
       "<pymongo.results.InsertManyResult at 0x1150a33c0>"
      ]
     },
     "execution_count": 27,
     "metadata": {},
     "output_type": "execute_result"
    }
   ],
   "source": [
    "cHack_Places.insert_many(data)"
   ]
  },
  {
   "cell_type": "code",
   "execution_count": null,
   "metadata": {},
   "outputs": [],
   "source": []
  }
 ],
 "metadata": {
  "kernelspec": {
   "display_name": "Python 3",
   "language": "python",
   "name": "python3"
  },
  "language_info": {
   "codemirror_mode": {
    "name": "ipython",
    "version": 3
   },
   "file_extension": ".py",
   "mimetype": "text/x-python",
   "name": "python",
   "nbconvert_exporter": "python",
   "pygments_lexer": "ipython3",
   "version": "3.7.6"
  }
 },
 "nbformat": 4,
 "nbformat_minor": 4
}
