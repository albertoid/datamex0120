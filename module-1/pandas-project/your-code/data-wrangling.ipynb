{
 "cells": [
  {
   "cell_type": "markdown",
   "metadata": {},
   "source": [
    "# Pandas Project - Alberto Ibarra"
   ]
  },
  {
   "cell_type": "markdown",
   "metadata": {},
   "source": [
    "### Importar librerias para la limpieza y Cargar base de datos"
   ]
  },
  {
   "cell_type": "code",
   "execution_count": 15,
   "metadata": {},
   "outputs": [],
   "source": [
    "import pandas as pd\n",
    "import numpy as np\n",
    "import re"
   ]
  },
  {
   "cell_type": "code",
   "execution_count": 16,
   "metadata": {},
   "outputs": [],
   "source": [
    "df_raw_data = pd.read_csv('attacks.csv', encoding='latin-1')"
   ]
  },
  {
   "cell_type": "code",
   "execution_count": 17,
   "metadata": {},
   "outputs": [
    {
     "name": "stdout",
     "output_type": "stream",
     "text": [
      "Registros iniciales: 25723\n"
     ]
    }
   ],
   "source": [
    "print('Registros iniciales:',df_raw_data.shape[0])"
   ]
  },
  {
   "cell_type": "code",
   "execution_count": 18,
   "metadata": {},
   "outputs": [
    {
     "data": {
      "text/plain": [
       "Index(['Case Number', 'Date', 'Year', 'Type', 'Country', 'Area', 'Location',\n",
       "       'Activity', 'Name', 'Sex ', 'Age', 'Injury', 'Fatal (Y/N)', 'Time',\n",
       "       'Species ', 'Investigator or Source', 'pdf', 'href formula', 'href',\n",
       "       'Case Number.1', 'Case Number.2', 'original order', 'Unnamed: 22',\n",
       "       'Unnamed: 23'],\n",
       "      dtype='object')"
      ]
     },
     "execution_count": 18,
     "metadata": {},
     "output_type": "execute_result"
    }
   ],
   "source": [
    "df_raw_data.columns"
   ]
  },
  {
   "cell_type": "code",
   "execution_count": 19,
   "metadata": {},
   "outputs": [],
   "source": [
    "df_raw_data = df_raw_data.rename(columns= {'Case Number':'Case','Sex ':'Sex','Species ':'Species','Fatal (Y/N)':'Fatal','Investigator or Source':'Source'})"
   ]
  },
  {
   "cell_type": "markdown",
   "metadata": {},
   "source": [
    "# Limpieza inicial de filas"
   ]
  },
  {
   "cell_type": "markdown",
   "metadata": {},
   "source": [
    "### Quitar filas duplicadas"
   ]
  },
  {
   "cell_type": "code",
   "execution_count": 20,
   "metadata": {},
   "outputs": [
    {
     "name": "stdout",
     "output_type": "stream",
     "text": [
      "Filas descartadas por duplicacion: 19411\n",
      "Registros actuales: 6312\n"
     ]
    }
   ],
   "source": [
    "df_lessdup_data=df_raw_data.copy()\n",
    "df_lessdup_data=df_lessdup_data.drop_duplicates()\n",
    "print('Filas descartadas por duplicacion:',df_raw_data.shape[0]-df_lessdup_data.shape[0])\n",
    "print('Registros actuales:',df_lessdup_data.shape[0])"
   ]
  },
  {
   "cell_type": "markdown",
   "metadata": {},
   "source": [
    "### Detección de cantidad de datos invalidos"
   ]
  },
  {
   "cell_type": "code",
   "execution_count": 21,
   "metadata": {},
   "outputs": [
    {
     "data": {
      "text/plain": [
       "Case                 2\n",
       "Date                10\n",
       "Year                12\n",
       "Type                14\n",
       "Country             60\n",
       "Area               465\n",
       "Location           550\n",
       "Activity           554\n",
       "Name               220\n",
       "Sex                575\n",
       "Age               2841\n",
       "Injury              38\n",
       "Fatal              549\n",
       "Time              3364\n",
       "Species           2848\n",
       "Source              27\n",
       "pdf                 10\n",
       "href formula        11\n",
       "href                10\n",
       "Case Number.1       10\n",
       "Case Number.2       10\n",
       "original order       3\n",
       "Unnamed: 22       6311\n",
       "Unnamed: 23       6310\n",
       "dtype: int64"
      ]
     },
     "execution_count": 21,
     "metadata": {},
     "output_type": "execute_result"
    }
   ],
   "source": [
    "Datosvalidos = df_lessdup_data.isnull().sum()\n",
    "Datosvalidos"
   ]
  },
  {
   "cell_type": "markdown",
   "metadata": {},
   "source": [
    "### Se detrmina como datos muy relevantes: caso, fecha, año, tipo, pais y daño, por lo que las filas que no cuenten con alguno de estos datos serán descartadas"
   ]
  },
  {
   "cell_type": "code",
   "execution_count": 22,
   "metadata": {},
   "outputs": [],
   "source": [
    "df_row_cleaned=df_lessdup_data.dropna(subset=['Case','Date','Year','Type','Country','Injury'])"
   ]
  },
  {
   "cell_type": "code",
   "execution_count": 23,
   "metadata": {},
   "outputs": [
    {
     "name": "stdout",
     "output_type": "stream",
     "text": [
      "Filas descartadas: 93\n",
      "Registros Actuales: 6219\n"
     ]
    }
   ],
   "source": [
    "print('Filas descartadas:', df_lessdup_data.shape[0] - df_row_cleaned.shape[0])\n",
    "print('Registros Actuales:', df_row_cleaned.shape[0])"
   ]
  },
  {
   "cell_type": "code",
   "execution_count": 29,
   "metadata": {},
   "outputs": [],
   "source": [
    "Datosvalidos = df_row_cleaned.isnull().sum()\n",
    "#Datosvalidos"
   ]
  },
  {
   "cell_type": "markdown",
   "metadata": {},
   "source": [
    "## Asignacion de valores a todos los datos no validos"
   ]
  },
  {
   "cell_type": "code",
   "execution_count": 30,
   "metadata": {},
   "outputs": [],
   "source": [
    "c_fill_ukn = {'Area':'UNKNOWN','Location':'UNKNOWN','Activity':'UNKNOWN','Name':'UNKNOWN','Sex': '?','Age':0,'Fatal':'?','Time':'?','Species':'UNKNOWN','Source':'UNKNOWN','href formula':'UNKNOWN','Unnamed: 22':0,'Unnamed: 23':0}\n",
    "df_row_cleaned.fillna(c_fill_ukn,inplace=True,downcast=True)\n",
    "#df_row_cleaned.isnull().sum()"
   ]
  },
  {
   "cell_type": "markdown",
   "metadata": {},
   "source": [
    "# Limpieza de columnas"
   ]
  },
  {
   "cell_type": "markdown",
   "metadata": {},
   "source": [
    "## Limpieza columna Case"
   ]
  },
  {
   "cell_type": "code",
   "execution_count": 197,
   "metadata": {},
   "outputs": [],
   "source": [
    "#Se les dará un numero de caso único segun su aparicion en la lista comenzando del final al principio comenzando con \n",
    "#las letras 'SA' - Shark Atack y rellenando con ceros las 5 primeras posiciones\n",
    "\n",
    "df_col01_clean = df_row_cleaned.copy()\n",
    "df_col01_clean.reset_index(drop=True, inplace=True)\n",
    "\n",
    "for x in range(len(df_col01_clean['Case'])):\n",
    "    nceros= 5 - len(str(len(df_col01_clean['Case']) - x))\n",
    "    ceros = ''\n",
    "    for i in range(nceros):\n",
    "        ceros += '0'\n",
    "    df_col01_clean.iloc[x,0] = 'SA'+ ceros +str(len(df_col01_clean['Case']) - x)"
   ]
  },
  {
   "cell_type": "code",
   "execution_count": 357,
   "metadata": {},
   "outputs": [],
   "source": [
    "#display(df_col01_clean.head(2))\n",
    "#display(df_col01_clean.tail(2))"
   ]
  },
  {
   "cell_type": "markdown",
   "metadata": {},
   "source": [
    "## Limpieza columna Date"
   ]
  },
  {
   "cell_type": "code",
   "execution_count": 199,
   "metadata": {},
   "outputs": [],
   "source": [
    "df_col02_clean = df_col01_clean.copy()"
   ]
  },
  {
   "cell_type": "markdown",
   "metadata": {},
   "source": [
    "Logica de la limpieza:\n",
    "hacer lista de meses para comparacion\n",
    "buscar con la lista de meses y extraerlos en una columna nueva\n",
    "quitar todas las palabras que aparezcan antes del primero numero\n",
    "extraer los dos  o un primeros numeros y asignarlo como dia en una nueva columna\n",
    "quitar dias y meses \n",
    "\n",
    "-Revisar\n",
    "Buscar años que quedan y borrarlos hasta 1900\n",
    "Buscar registros sin año y asignar el que viene en la fecha\n",
    "Asignar \"UNKNOWN\" a los registros que no tengan indicio de la fecha\n",
    "\n",
    "\n"
   ]
  },
  {
   "cell_type": "code",
   "execution_count": 200,
   "metadata": {},
   "outputs": [],
   "source": [
    "#Funcion general para buscar en una cadena varios elementos en una lista y regresar el elemento encontrado\n",
    "#o regresar una cadena configurable\n",
    "\n",
    "#Recibe x- elemento a comprobar, \n",
    "#keylist - lista de comparacion, \n",
    "#strrep - cadena de caracteres para asignar a los elementos no encontrados y \n",
    "#repwith: cierto para reemplazar\n",
    "#replace - cierto reemplaza con strrep, falso solo reemplaza lo encontrado\n",
    "\n",
    "#Return cadena de caracteres en la lista o cadena de excepcion al no encontrarla\n",
    "def isinlist(x,keylist,strrep = '',repwith = False,replace = True): \n",
    "    for i in range(len(keylist)):\n",
    "        if x.find(keylist[i])>=0:\n",
    "            return keylist[i]\n",
    "    if repwith == True:\n",
    "        return strrep + x\n",
    "    elif repwith == False:\n",
    "        return strrep"
   ]
  },
  {
   "cell_type": "code",
   "execution_count": 336,
   "metadata": {},
   "outputs": [],
   "source": [
    "#Funcion para extraer dia mes(en formato MMM) y año de una cadena\n",
    "def exdmy(x,sel='date',hem='N'):\n",
    "    numeros = re.findall(r'\\d+',x) #Pone en una lista las secuencias numericas completas \n",
    "    salida = [0,'mes',-2000] #Salida 0 = dia, Salida 1 = año - Inicializacion\n",
    "    salida[1] = isinlist(x,months,'UNKNOWN')\n",
    "    \n",
    "    for i in range(len(numeros)):\n",
    "        nint = int(numeros[i])\n",
    "        if nint>0 and nint<32 and salida[0] == 0: # El primer numero entre 1 y 31 se asigna como dia\n",
    "            salida[0] = nint\n",
    "        elif nint >32 and nint<2021: # Los numeros entre 32 y 2021 se asignan como año\n",
    "            salida[2] = nint\n",
    "        elif nint==-2000: # si no ha sido asignado un año y existe un numeros  mayor de -2000 que se encuentre, se asigna como año\n",
    "            salida[2] = nint\n",
    "    if salida[0]==0:\n",
    "        salida[0]='UNKNOWN'\n",
    "    if salida[2]==-2000:\n",
    "        salida[2]='UNKNOWN'\n",
    "    \n",
    "    #Calculo de dia del año\n",
    "    if salida[0] != 'UNKNOWN' and salida[0]>0 and salida[1]!='UNKNOWN':\n",
    "        dict_nmo = {'JAN':1, 'FEB':2,'MAR':3,'APR':4,'MAY':5,'JUN':6,'JUL':7,'AUG':8,'SEP':9,'OCT':10,'NOV':11,'DEC':12} #Meses\n",
    "        dinmo = [31,28,31,30,31,30,31,31,30,31,30,31] \n",
    "        nmo=dict_nmo[salida[1]]\n",
    "        diny=salida[0]\n",
    "        if nmo>1:\n",
    "            for i in range(nmo-1):\n",
    "                diny+=dinmo[i]\n",
    "        if salida[2]!='UNKNOWN' and salida[2]%4==0: #Año bisiesto\n",
    "            diny+=1\n",
    "    else:\n",
    "        diny=\"UNKNOWN\"\n",
    "    \n",
    "    #Estacion: Regresa una lista con dos elementos indicando la estacion en el hemisferio norte y en el hemisferio sur\n",
    "    season =\"UNKNOWN\"\n",
    "    if diny =='UNKNOWN':\n",
    "        season = {'N':'UNKNOWN','S':'UNKNOWN'}\n",
    "    elif diny !='UNKNOWN' and diny >=80 and diny <=171:\n",
    "        season = {'N':'SPRING','S':'AUTUMN'}\n",
    "    elif diny !='UNKNOWN' and diny >= 172 and diny <=264:\n",
    "        season = {'N':'SUMMER','S':'WINTER'}\n",
    "    elif diny !='UNKNOWN' and diny >=265 and diny <=354:\n",
    "        season = {'N':'AUTUMN','S':'SPRING'}\n",
    "    else:\n",
    "        season = {'N':'WINTER','S':'SUMMER'}\n",
    "    \n",
    "\n",
    "    if sel == 'date':\n",
    "        return salida\n",
    "    if sel == 'd':\n",
    "        return salida[0]\n",
    "    if sel == 'm':\n",
    "        return salida[1]\n",
    "    if sel == 'y':\n",
    "        return salida[2]\n",
    "    if sel == 'season':\n",
    "        return season[hem]\n",
    "    if sel == 'diny':\n",
    "        return diny"
   ]
  },
  {
   "cell_type": "code",
   "execution_count": 337,
   "metadata": {},
   "outputs": [],
   "source": [
    "#Extraccion dia mes y año\n",
    "months=['JAN','FEB','MAR','APR','MAY','JUN','JUL','AUG','SEP','OCT','NOV','DEC']\n",
    "df_col02_clean['Date'] = df_col02_clean['Date'].apply(lambda x: x.upper()) #mayusculas\n",
    "df_col02_clean['Day'] = df_col02_clean['Date'].apply(lambda x: exdmy(x,'d')) #extraccion del dia, mes y año y creacion de 3 nuevas columna\n",
    "df_col02_clean['Month'] = df_col02_clean['Date'].apply(lambda x: exdmy(x,'m')) #extraccion del dia, mes y año y creacion de 3 nuevas columna\n",
    "df_col02_clean['Year2'] = df_col02_clean['Date'].apply(lambda x: exdmy(x,'y')) #extraccion del dia, mes y año y creacion de 3 nuevas columna\n",
    "df_col02_clean['Season'] = df_col02_clean['Date'].apply(lambda x: exdmy(x,'season')) #extraccion del dia, mes y año y creacion de 3 nuevas columna"
   ]
  },
  {
   "cell_type": "markdown",
   "metadata": {},
   "source": [
    "## Limpieza columna Year"
   ]
  },
  {
   "cell_type": "code",
   "execution_count": 456,
   "metadata": {},
   "outputs": [
    {
     "name": "stdout",
     "output_type": "stream",
     "text": [
      "152\n",
      "Registros Actuales: 6067\n"
     ]
    }
   ],
   "source": [
    "df_col03_clean= df_col02_clean.copy(deep=True)\n",
    "df_col03_clean['Year']=df_col03_clean['Year'].apply(lambda x: int(x))\n",
    "#df_col03_clean['Year'].value_counts()\n",
    "df_col03_clean['Year2'] = df_col03_clean['Year2'].apply(lambda x: int(0) if x==\"UNKNOWN\" else x)\n",
    "\n",
    "#Descarte de los datos del año 0 al año 200\n",
    "\"\"\"\n",
    "indexNames = df_col03_clean[df_col03_clean['Year']<500]\n",
    "\n",
    "# delete all rows with column 'Age' has value 30 to 40 \n",
    "indexNames = dfObj[ (dfObj['Age'] >= 30) & (dfObj['Age'] <= 40) ].index\n",
    "dfObj.drop(indexNames , inplace=True)\n",
    "# delete all rows with column 'Age' has value 30 to 40 \n",
    "indexNames = dfObj[ (dfObj['Age'] >= 30) & (dfObj['Age'] <= 40) ].index\n",
    "dfObj.drop(indexNames , inplace=True)\n",
    "\"\"\"\n",
    "#Descarte de columnas con variaciones en el año\n",
    "\n",
    "df_col03_clean['CheckYear'] = abs(df_col03_clean['Year'] - df_col03_clean['Year2'])\n",
    "pd.options.mode.chained_assignment = None \n",
    "indexNames = df_col03_clean[df_col03_clean['CheckYear']!=0].index\n",
    "print(len(indexNames))\n",
    "\n",
    "df_col03_clean.drop(indexNames,inplace = True)\n",
    "\n",
    "print('Registros Actuales:',df_col03_clean.shape[0])\n"
   ]
  },
  {
   "cell_type": "markdown",
   "metadata": {},
   "source": [
    "#WTF con esto!!??\n",
    "for i in range(len(df_col03_clean['CheckYear'])):\n",
    "    if df_col03_clean['CheckYear'][i] >50:\n",
    "        df_col03_clean['Year'][i] = df_col03_clean['Year2'][i]\n",
    "#tampoco funciono\n",
    "df_col03_clean['Year'][indexNames].replace(df_col03_clean['Year2'][indexNames], inplace=True)"
   ]
  },
  {
   "cell_type": "code",
   "execution_count": 457,
   "metadata": {},
   "outputs": [
    {
     "data": {
      "text/html": [
       "<div>\n",
       "<style scoped>\n",
       "    .dataframe tbody tr th:only-of-type {\n",
       "        vertical-align: middle;\n",
       "    }\n",
       "\n",
       "    .dataframe tbody tr th {\n",
       "        vertical-align: top;\n",
       "    }\n",
       "\n",
       "    .dataframe thead th {\n",
       "        text-align: right;\n",
       "    }\n",
       "</style>\n",
       "<table border=\"1\" class=\"dataframe\">\n",
       "  <thead>\n",
       "    <tr style=\"text-align: right;\">\n",
       "      <th></th>\n",
       "      <th>Case</th>\n",
       "      <th>Date</th>\n",
       "      <th>Year</th>\n",
       "      <th>Type</th>\n",
       "      <th>Country</th>\n",
       "      <th>Area</th>\n",
       "      <th>Location</th>\n",
       "      <th>Activity</th>\n",
       "      <th>Name</th>\n",
       "      <th>Sex</th>\n",
       "      <th>...</th>\n",
       "      <th>Case Number.1</th>\n",
       "      <th>Case Number.2</th>\n",
       "      <th>original order</th>\n",
       "      <th>Unnamed: 22</th>\n",
       "      <th>Unnamed: 23</th>\n",
       "      <th>Day</th>\n",
       "      <th>Month</th>\n",
       "      <th>Year2</th>\n",
       "      <th>Season</th>\n",
       "      <th>CheckYear</th>\n",
       "    </tr>\n",
       "  </thead>\n",
       "  <tbody>\n",
       "  </tbody>\n",
       "</table>\n",
       "<p>0 rows × 29 columns</p>\n",
       "</div>"
      ],
      "text/plain": [
       "Empty DataFrame\n",
       "Columns: [Case, Date, Year, Type, Country, Area, Location, Activity, Name, Sex, Age, Injury, Fatal, Time, Species, Source, pdf, href formula, href, Case Number.1, Case Number.2, original order, Unnamed: 22, Unnamed: 23, Day, Month, Year2, Season, CheckYear]\n",
       "Index: []\n",
       "\n",
       "[0 rows x 29 columns]"
      ]
     },
     "execution_count": 457,
     "metadata": {},
     "output_type": "execute_result"
    }
   ],
   "source": [
    "indexFechasRaras=df_col03_clean[df_col03_clean['CheckYear']>0].index\n",
    "df_col03_clean.iloc[indexFechasRaras,:]"
   ]
  },
  {
   "cell_type": "code",
   "execution_count": 458,
   "metadata": {},
   "outputs": [
    {
     "data": {
      "text/plain": [
       "0    6067\n",
       "Name: CheckYear, dtype: int64"
      ]
     },
     "execution_count": 458,
     "metadata": {},
     "output_type": "execute_result"
    }
   ],
   "source": [
    "df_col03_clean['CheckYear'].value_counts()"
   ]
  },
  {
   "cell_type": "markdown",
   "metadata": {},
   "source": [
    "## Limpieza columna Type"
   ]
  },
  {
   "cell_type": "code",
   "execution_count": 462,
   "metadata": {},
   "outputs": [],
   "source": [
    "df_col04_clean=df_col03_clean.copy()"
   ]
  },
  {
   "cell_type": "code",
   "execution_count": 466,
   "metadata": {},
   "outputs": [
    {
     "data": {
      "text/plain": [
       "Unprovoked      4423\n",
       "Provoked         560\n",
       "Invalid          524\n",
       "Sea Disaster     225\n",
       "Boating          199\n",
       "Boat             133\n",
       "Questionable       2\n",
       "Boatomg            1\n",
       "Name: Type, dtype: int64"
      ]
     },
     "execution_count": 466,
     "metadata": {},
     "output_type": "execute_result"
    }
   ],
   "source": [
    "df_col04_clean['Type'].value_counts()"
   ]
  },
  {
   "cell_type": "code",
   "execution_count": 475,
   "metadata": {},
   "outputs": [],
   "source": [
    "df_col04_clean['Type']=df_col04_clean['Type'].apply(lambda x:x.upper())\n",
    "df_col04_clean['Type']=df_col04_clean['Type'].apply(lambda x:'BOATING' if x=='BOAT' or x=='BOATOMG'else x)\n",
    "df_col04_clean['Type']=df_col04_clean['Type'].apply(lambda x:'UNKNOWN' if x=='INVALID' or x=='QUESTIONABLE' else x)"
   ]
  },
  {
   "cell_type": "code",
   "execution_count": 476,
   "metadata": {},
   "outputs": [
    {
     "data": {
      "text/plain": [
       "UNPROVOKED      4423\n",
       "PROVOKED         560\n",
       "UNKNOWN          526\n",
       "BOATING          333\n",
       "SEA DISASTER     225\n",
       "Name: Type, dtype: int64"
      ]
     },
     "execution_count": 476,
     "metadata": {},
     "output_type": "execute_result"
    }
   ],
   "source": [
    "df_col04_clean['Type'].value_counts()"
   ]
  },
  {
   "cell_type": "markdown",
   "metadata": {},
   "source": [
    "## Limpieza columna Country"
   ]
  },
  {
   "cell_type": "code",
   "execution_count": 477,
   "metadata": {},
   "outputs": [],
   "source": [
    "series_country = df_col04_clean['Country'].copy()"
   ]
  },
  {
   "cell_type": "code",
   "execution_count": 478,
   "metadata": {},
   "outputs": [],
   "source": [
    "#Limpieza de la base de datos de paises\n",
    "df_world = pd.read_csv('countries.csv')\n",
    "series_countries_valid = df_world[['Country']].copy()  #Copia de la serie\n",
    "series_countries_valid['Country'] = series_countries_valid['Country'].apply(lambda x: x.upper()) #Mayusculas\n",
    "series_countries_valid['Country'] = series_countries_valid['Country'].apply(lambda x: x.replace(' ','')) #Espacios\n",
    "series_countries_valid['Country'] = series_countries_valid['Country'].apply(lambda x: x.replace(',','')) #Comas\n",
    "series_countries_valid['Country'] = series_countries_valid['Country'].apply(lambda x: x.replace('BAHAMASTHE','BAHAMAS')) #Comas\n",
    "#series_countries_valid['Country'] = series_countries_valid['Country'].apply(lambda x: re.sub(r\"^\\s+|\\s+$\",'',x)) #Quita espacios al principio y al final\n",
    "list_countries_valid = list(series_countries_valid['Country'])"
   ]
  },
  {
   "cell_type": "code",
   "execution_count": 479,
   "metadata": {},
   "outputs": [],
   "source": [
    "#list_countries_valid"
   ]
  },
  {
   "cell_type": "code",
   "execution_count": 480,
   "metadata": {},
   "outputs": [],
   "source": [
    "#Funcion para buscar en la cadena dada un de los posibles paises, si hay dos paises tomará el primero en caso de\n",
    "#no encontrarlo regresara el mismo dato con una \"X-\" para decidir el siguiente criterio de limpieza\n",
    "def iscountry(x):\n",
    "    for i in range(len(list_countries_valid)):\n",
    "        if x.find(list_countries_valid[i])>=0:\n",
    "            return list_countries_valid[i]\n",
    "        else:\n",
    "            pass\n",
    "    return 'X-' + x"
   ]
  },
  {
   "cell_type": "code",
   "execution_count": 481,
   "metadata": {},
   "outputs": [],
   "source": [
    "#Limpieza de Series ·Countries·\n",
    "series_country = series_country.apply(lambda x: str(x)) #Transformacion a str para evitar error de tipo de datos\n",
    "series_country = series_country.apply(lambda x: x.upper()) #Hologacion a mayusculas\n",
    "series_country = series_country.apply(lambda x: x.replace(' ','')) #Quitar espacios\n",
    "series_country = series_country.apply(lambda x: x.replace('USA','UNITEDSTATES')) #Excepcion pais con dos nombres\n",
    "series_country = series_country.apply(lambda x: x.replace('ENGLAND','UNITEDKINGDOM')) #Excepcion pais con dos nombres\n",
    "series_country = series_country.apply(lambda x: iscountry(x))#Aplicacion de la funcion iscountry que homologa el nomnre de los paises"
   ]
  },
  {
   "cell_type": "code",
   "execution_count": 483,
   "metadata": {},
   "outputs": [],
   "source": [
    "#Asignacion de la limpieza a la tabla general\n",
    "df_col05_clean=df_col04_clean.copy()\n",
    "df_col05_clean['Country']=series_country"
   ]
  },
  {
   "cell_type": "code",
   "execution_count": 495,
   "metadata": {},
   "outputs": [
    {
     "name": "stdout",
     "output_type": "stream",
     "text": [
      "Casos con pais mal clasificado: 178\n",
      "Clasificaciones: 176\n"
     ]
    }
   ],
   "source": [
    "b1=series_country.value_counts()\n",
    "lst_b1=[]\n",
    "reg_count=0\n",
    "for x in range(len(b1)):\n",
    "    if b1.index[x].find('X-')==0:\n",
    "        lst_b1.append((b1.index[x],b1[x]))\n",
    "        reg_count+= b1[x] \n",
    "#print(lst_b1)\n",
    "print('Casos con pais mal clasificado:',reg_count)\n",
    "print('Clasificaciones:',len(df_col05_clean['Country'].value_counts()))\n"
   ]
  },
  {
   "cell_type": "markdown",
   "metadata": {},
   "source": [
    "## Limpieza columna Area"
   ]
  },
  {
   "cell_type": "code",
   "execution_count": 496,
   "metadata": {},
   "outputs": [
    {
     "name": "stdout",
     "output_type": "stream",
     "text": [
      "Clasificaciones: 787\n"
     ]
    }
   ],
   "source": [
    "df_col06_clean=df_col05_clean.copy()\n",
    "print('Clasificaciones:',len(df_col06_clean['Area'].value_counts()))"
   ]
  },
  {
   "cell_type": "markdown",
   "metadata": {},
   "source": [
    "## Limpieza columna Location"
   ]
  },
  {
   "cell_type": "code",
   "execution_count": 497,
   "metadata": {},
   "outputs": [
    {
     "name": "stdout",
     "output_type": "stream",
     "text": [
      "Clasificaciones: 4005\n"
     ]
    }
   ],
   "source": [
    "df_col07_clean=df_col06_clean.copy()\n",
    "print('Clasificaciones:',len(df_col07_clean['Location'].value_counts()))"
   ]
  },
  {
   "cell_type": "markdown",
   "metadata": {},
   "source": [
    "## Limpieza columna Activity"
   ]
  },
  {
   "cell_type": "code",
   "execution_count": 676,
   "metadata": {},
   "outputs": [
    {
     "name": "stdout",
     "output_type": "stream",
     "text": [
      "Clasificaciones: 1471\n"
     ]
    }
   ],
   "source": [
    "df_col08_clean=df_col07_clean.copy()\n",
    "\n",
    "print('Clasificaciones:',len(df_col08_clean['Activity'].value_counts()))\n",
    "#df_col08_clean['Activity'].value_counts()   "
   ]
  },
  {
   "cell_type": "code",
   "execution_count": 677,
   "metadata": {},
   "outputs": [
    {
     "name": "stdout",
     "output_type": "stream",
     "text": [
      "Clasificaciones: 10\n"
     ]
    },
    {
     "data": {
      "text/plain": [
       "UNCLASSIFIED    2595\n",
       "FISHING         1138\n",
       "SURFING         1117\n",
       "DIVING           493\n",
       "BATHING          183\n",
       "WADING           165\n",
       "STANDING         126\n",
       "SNORKEL           98\n",
       "FELL              85\n",
       "BODYBOARD         67\n",
       "Name: Activity, dtype: int64"
      ]
     },
     "execution_count": 677,
     "metadata": {},
     "output_type": "execute_result"
    }
   ],
   "source": [
    "list_act=['FISHING', 'SURFING', 'DIVING', 'BATHING','WADING', 'STANDING','SNORKEL', 'BODYBOARD', 'FELL',] \n",
    "\n",
    "df_col08_clean['Activity'] = df_col08_clean['Activity'].apply(lambda x: x.replace(' ',''))\n",
    "df_col08_clean['Activity'] = df_col08_clean['Activity'].apply(lambda x: x.upper())\n",
    "df_col08_clean['Activity'] = df_col08_clean['Activity'].apply(lambda x: isinlist(x,list_act,'UNCLASSIFIED'))\n",
    "\n",
    "print('Clasificaciones:',len(df_col08_clean['Activity'].value_counts()))\n",
    "df_col08_clean['Activity'].value_counts()                                                       "
   ]
  },
  {
   "cell_type": "markdown",
   "metadata": {},
   "source": [
    "## Limpieza columna Sex"
   ]
  },
  {
   "cell_type": "code",
   "execution_count": 547,
   "metadata": {},
   "outputs": [
    {
     "name": "stdout",
     "output_type": "stream",
     "text": [
      "Clasificaciones: 7\n"
     ]
    },
    {
     "data": {
      "text/plain": [
       "M      4908\n",
       "F       615\n",
       "?       539\n",
       "M         2\n",
       "N         1\n",
       "lli       1\n",
       ".         1\n",
       "Name: Sex, dtype: int64"
      ]
     },
     "execution_count": 547,
     "metadata": {},
     "output_type": "execute_result"
    }
   ],
   "source": [
    "df_col09_clean=df_col08_clean.copy()\n",
    "print('Clasificaciones:',len(df_col09_clean['Sex'].value_counts()))\n",
    "df_col09_clean['Sex'].value_counts()"
   ]
  },
  {
   "cell_type": "code",
   "execution_count": 548,
   "metadata": {},
   "outputs": [
    {
     "data": {
      "text/plain": [
       "M    4910\n",
       "F     615\n",
       "?     542\n",
       "Name: Sex, dtype: int64"
      ]
     },
     "execution_count": 548,
     "metadata": {},
     "output_type": "execute_result"
    }
   ],
   "source": [
    "df_col09_clean['Sex'] = df_col09_clean['Sex'].apply(lambda x: re.sub(r'\\s','',x))\n",
    "df_col09_clean['Sex'] = df_col09_clean['Sex'].apply(lambda x: x.upper())\n",
    "df_col09_clean['Sex'] = df_col09_clean['Sex'].apply(lambda x:'?' if x!='M' and x!='F' else x)\n",
    "df_col09_clean['Sex'].value_counts()"
   ]
  },
  {
   "cell_type": "markdown",
   "metadata": {},
   "source": [
    "## Limpieza columna Age"
   ]
  },
  {
   "cell_type": "code",
   "execution_count": 635,
   "metadata": {},
   "outputs": [
    {
     "name": "stdout",
     "output_type": "stream",
     "text": [
      "Clasificaciones: 156\n"
     ]
    }
   ],
   "source": [
    "df_col10_clean=df_col09_clean.copy()\n",
    "print('Clasificaciones:',len(df_col10_clean['Age'].value_counts()))\n",
    "#df_col10_clean['Age'].value_counts()"
   ]
  },
  {
   "cell_type": "code",
   "execution_count": 636,
   "metadata": {},
   "outputs": [
    {
     "name": "stdout",
     "output_type": "stream",
     "text": [
      "Clasificaciones: 137\n"
     ]
    }
   ],
   "source": [
    "df_col10_clean['Age'] = df_col10_clean['Age'].apply(lambda x: str(x)) #todo a str\n",
    "df_col10_clean['Age'] = df_col10_clean['Age'].apply(lambda x: re.sub('[^A-Za-z0-9]+','',x)) #quitar caracteres especiales\n",
    "df_col10_clean['Age'] = df_col10_clean['Age'].apply(lambda x: '?' if x=='0' or x=='' or x==None  else x) #0 años = desconocida\n",
    "df_col10_clean['Age'] = df_col10_clean['Age'].apply(lambda x: x.upper()) #todo a mayus\n",
    "df_col10_clean['Age'] = df_col10_clean['Age'].apply(lambda x: x.replace(' ','')) #quitar espacios\n",
    "\n",
    "age_class = ['Child','Teen','Young Adult','Adult','Senior']#Clasificacion de eadades\n",
    "age_ranges=[[1,12],[13,17],[18,29],[30,49],[50,100]]\n",
    "print('Clasificaciones:',len(df_col10_clean['Age'].value_counts()))\n",
    "#df_col10_clean['Age'].value_counts()\n",
    "#df_col10_clean['Age'].head()"
   ]
  },
  {
   "cell_type": "code",
   "execution_count": 637,
   "metadata": {},
   "outputs": [],
   "source": [
    "def age_classificator(x):\n",
    "    x = str(x)\n",
    "    if x.isnumeric():\n",
    "        x= int(x)\n",
    "        for i in range(len(age_ranges)):\n",
    "            if x>=age_ranges[i][0] and x<=age_ranges[i][1]:\n",
    "                return age_class[i]\n",
    "    else:\n",
    "        return '?'"
   ]
  },
  {
   "cell_type": "code",
   "execution_count": 638,
   "metadata": {},
   "outputs": [
    {
     "name": "stdout",
     "output_type": "stream",
     "text": [
      "Clasificaciones: 6\n"
     ]
    },
    {
     "data": {
      "text/plain": [
       "?              2713\n",
       "Young Adult    1269\n",
       "Adult           876\n",
       "Teen            617\n",
       "Senior          297\n",
       "Child           277\n",
       "Name: Age, dtype: int64"
      ]
     },
     "execution_count": 638,
     "metadata": {},
     "output_type": "execute_result"
    }
   ],
   "source": [
    "df_col10_clean['Age'] = df_col10_clean['Age'].apply(lambda x: age_classificator(x)) #primera clasificacion\n",
    "print('Clasificaciones:',len(df_col10_clean['Age'].value_counts()))\n",
    "df_col10_clean['Age'].value_counts()"
   ]
  },
  {
   "cell_type": "markdown",
   "metadata": {},
   "source": [
    "## Limpieza columna Injury"
   ]
  },
  {
   "cell_type": "code",
   "execution_count": 682,
   "metadata": {},
   "outputs": [
    {
     "name": "stdout",
     "output_type": "stream",
     "text": [
      "Clasificaciones: 3649\n"
     ]
    }
   ],
   "source": [
    "df_col11_clean=df_col10_clean.copy()\n",
    "print('Clasificaciones:',len(df_col11_clean['Injury'].value_counts()))\n",
    "#df_col1_clean['Injury'].value_counts()"
   ]
  },
  {
   "cell_type": "code",
   "execution_count": 683,
   "metadata": {},
   "outputs": [
    {
     "name": "stdout",
     "output_type": "stream",
     "text": [
      "Clasificaciones: 7\n"
     ]
    },
    {
     "data": {
      "text/plain": [
       "BITTEN          1325\n",
       "FATAL           1267\n",
       "UNCLASSIFIED    1215\n",
       "LACERAT         1198\n",
       "NOINJURY         677\n",
       "MINOR            233\n",
       "SURVIVED         152\n",
       "Name: Injury, dtype: int64"
      ]
     },
     "execution_count": 683,
     "metadata": {},
     "output_type": "execute_result"
    }
   ],
   "source": [
    "list_inj=['FATAL', 'SURVIVED', 'BITTEN', 'NOINJURY','MINOR', 'LACERAT'] \n",
    "\n",
    "df_col11_clean['Injury'] = df_col11_clean['Injury'].apply(lambda x: x.replace(' ',''))\n",
    "df_col11_clean['Injury'] = df_col11_clean['Injury'].apply(lambda x: x.upper())\n",
    "df_col11_clean['Injury'] = df_col11_clean['Injury'].apply(lambda x: isinlist(x,list_inj,'UNCLASSIFIED'))\n",
    "\n",
    "print('Clasificaciones:',len(df_col11_clean['Injury'].value_counts()))\n",
    "df_col11_clean['Injury'].value_counts()    "
   ]
  },
  {
   "cell_type": "markdown",
   "metadata": {},
   "source": [
    "## Limpieza columna Fatal"
   ]
  },
  {
   "cell_type": "code",
   "execution_count": 640,
   "metadata": {},
   "outputs": [
    {
     "name": "stdout",
     "output_type": "stream",
     "text": [
      "Clasificaciones: 9\n"
     ]
    },
    {
     "data": {
      "text/plain": [
       "N          4196\n",
       "Y          1294\n",
       "?           515\n",
       "UNKNOWN      51\n",
       " N            7\n",
       "y             1\n",
       "2017          1\n",
       "M             1\n",
       "N             1\n",
       "Name: Fatal, dtype: int64"
      ]
     },
     "execution_count": 640,
     "metadata": {},
     "output_type": "execute_result"
    }
   ],
   "source": [
    "df_col12_clean=df_col11_clean.copy()\n",
    "print('Clasificaciones:',len(df_col12_clean['Fatal'].value_counts()))\n",
    "df_col12_clean['Fatal'].value_counts()"
   ]
  },
  {
   "cell_type": "code",
   "execution_count": 641,
   "metadata": {},
   "outputs": [
    {
     "data": {
      "text/plain": [
       "N    4204\n",
       "Y    1295\n",
       "?     568\n",
       "Name: Fatal, dtype: int64"
      ]
     },
     "execution_count": 641,
     "metadata": {},
     "output_type": "execute_result"
    }
   ],
   "source": [
    "df_col12_clean['Fatal'] = df_col12_clean['Fatal'].apply(lambda x: x.replace(' ',''))\n",
    "df_col12_clean['Fatal'] = df_col12_clean['Fatal'].apply(lambda x: x.upper())\n",
    "df_col12_clean['Fatal'] = df_col12_clean['Fatal'].apply(lambda x:'?' if x!='Y' and x!='N' else x)\n",
    "df_col12_clean['Fatal'].value_counts()"
   ]
  },
  {
   "cell_type": "markdown",
   "metadata": {},
   "source": [
    "## Limpieza columna Time"
   ]
  },
  {
   "cell_type": "code",
   "execution_count": 685,
   "metadata": {},
   "outputs": [
    {
     "name": "stdout",
     "output_type": "stream",
     "text": [
      "Clasificaciones: 365\n"
     ]
    }
   ],
   "source": [
    "df_col13_clean=df_col12_clean.copy()\n",
    "print('Clasificaciones:',len(df_col13_clean['Time'].value_counts()))\n",
    "#df_col13_clean['Time'].value_counts()"
   ]
  },
  {
   "cell_type": "markdown",
   "metadata": {},
   "source": [
    "limpiar numeros solo la hora\n",
    "-Revisar que inicia en numero\n",
    "-extraer numeros hasta letra\n",
    "-regresar un solo numero\n",
    "asignar clasificacion a nnumeros\n",
    "clasificar palabras"
   ]
  },
  {
   "cell_type": "code",
   "execution_count": 687,
   "metadata": {},
   "outputs": [
    {
     "name": "stdout",
     "output_type": "stream",
     "text": [
      "Clasificaciones: 335\n"
     ]
    }
   ],
   "source": [
    "list_time=[] \n",
    "df_col13_clean['Time'] = df_col13_clean['Time'].apply(lambda x: str(x)) #todo a str\n",
    "df_col13_clean['Time'] = df_col13_clean['Time'].apply(lambda x: re.sub('[^A-Za-z0-9]+','',x)) #quitar caracteres especiales\n",
    "df_col13_clean['Time'] = df_col13_clean['Time'].apply(lambda x: x.replace(' ',''))#Quitar Espacios\n",
    "df_col13_clean['Time'] = df_col13_clean['Time'].apply(lambda x: x.upper())#Todo a mayusculas\n",
    "#df_col13_clean['Time'] = df_col13_clean['Time'].apply(lambda x: hour_cl(x)) #filtro de numeros\n",
    "#df_col13_clean['Time'] = df_col13_clean['Time'].apply(lambda x: time_class(x)) #clasificacion categorica\n",
    "#df_col11_clean['Time'] = df_col11_clean['Time'].apply(lambda x: isinlist(x,list_time,'?'))\n",
    "\n",
    "print('Clasificaciones:',len(df_col13_clean['Time'].value_counts()))\n",
    "#df_col13_clean['Time'].value_counts()\n"
   ]
  },
  {
   "cell_type": "code",
   "execution_count": null,
   "metadata": {},
   "outputs": [],
   "source": [
    "def hour_cl(x):\n",
    "    \n",
    "    "
   ]
  },
  {
   "cell_type": "code",
   "execution_count": null,
   "metadata": {},
   "outputs": [],
   "source": [
    "time_ranges=[[0,5],[6,11],[12,18],[19,23]]\n",
    "time_class=['EARLYMORNING''MORNING','AFTERNOON','EVENING','NIGHT']\n",
    "def time_cl(x):\n",
    "    x = str(x)\n",
    "    if x.isnumeric():\n",
    "        x= int(x)\n",
    "        for i in range(len(time_ranges)):\n",
    "            if x>=time_ranges[i][0] and x<=time_ranges[i][1]:\n",
    "                return time_class[i]\n",
    "    else:\n",
    "        return x"
   ]
  },
  {
   "cell_type": "code",
   "execution_count": null,
   "metadata": {},
   "outputs": [],
   "source": []
  },
  {
   "cell_type": "code",
   "execution_count": null,
   "metadata": {},
   "outputs": [],
   "source": [
    "\n",
    "print('Clasificaciones:',len(df_col13_clean['Time'].value_counts()))\n",
    "df_col13_clean['Time'].value_counts()"
   ]
  },
  {
   "cell_type": "markdown",
   "metadata": {},
   "source": [
    "## Limpieza columna Species"
   ]
  },
  {
   "cell_type": "code",
   "execution_count": 643,
   "metadata": {},
   "outputs": [
    {
     "name": "stdout",
     "output_type": "stream",
     "text": [
      "Clasificaciones: 1526\n"
     ]
    }
   ],
   "source": [
    "df_col14_clean=df_col13_clean.copy()\n",
    "print('Clasificaciones:',len(df_col14_clean['Species'].value_counts()))\n",
    "#df_col14_clean['Species'].value_counts()"
   ]
  },
  {
   "cell_type": "code",
   "execution_count": 644,
   "metadata": {},
   "outputs": [],
   "source": [
    "#Carga y limpieza de base de datos con nombre de especies de tiburones para comparar\n",
    "df_shark_types = pd.read_csv('shark_types.csv')\n",
    "df_shark_types=df_shark_types.drop_duplicates()\n",
    "series_shark_types=df_shark_types['English']\n",
    "series_shark_types=series_shark_types.dropna()\n",
    "series_shark_types=series_shark_types.apply(lambda x: str(x))\n",
    "series_shark_types=series_shark_types.apply(lambda x: x.upper())\n",
    "series_shark_types=series_shark_types.apply(lambda x: x.replace('SHARK',''))\n",
    "series_shark_types=series_shark_types.apply(lambda x: x.replace(\"'\",''))\n",
    "series_shark_types=series_shark_types.apply(lambda x: re.sub(r'\\s', '', x))\n",
    "series_shark_types=series_shark_types.drop_duplicates()\n",
    "list_shark_species = list(series_shark_types)"
   ]
  },
  {
   "cell_type": "code",
   "execution_count": 645,
   "metadata": {},
   "outputs": [],
   "source": [
    "#Funcion para buscar en la cadena dada un de los posibles tipos de tiburones\n",
    "def isshark(x):\n",
    "    for i in range(len(list_shark_species)):\n",
    "        if x.find(list_shark_species[i])>=0:\n",
    "            return list_shark_species[i]\n",
    "        else:\n",
    "            pass\n",
    "    return 'UNKNOWN'"
   ]
  },
  {
   "cell_type": "code",
   "execution_count": 646,
   "metadata": {},
   "outputs": [],
   "source": [
    "#Limpieza de Series ·Species·\n",
    "series_species = df_col14_clean['Species']\n",
    "series_species = series_species.fillna('UNKNOWN') #Relleno de NA por la palabra UNKNOWN para eliminar Nulos\n",
    "series_species = series_species.apply(lambda x: str(x)) #Transformacion a str para evitar error de tipo de datos\n",
    "series_species = series_species.apply(lambda x: x.replace(' ',''))#Eliminacion de espacios\n",
    "series_species = series_species.apply(lambda x: x.upper()) #Hologacion a mayusculas\n",
    "series_species = series_species.apply(lambda x: x.replace('SHARK','')) #Eliminacion de la palabra \"Shark\"\n",
    "series_species = series_species.apply(lambda x: x.replace('\"','')) #Eliminacion de comillas dobles\n",
    "series_species = series_species.apply(lambda x: isshark(x)) #Aplicacion de la funcion isshark"
   ]
  },
  {
   "cell_type": "code",
   "execution_count": 647,
   "metadata": {},
   "outputs": [
    {
     "name": "stdout",
     "output_type": "stream",
     "text": [
      "Especies identificadas:  53\n"
     ]
    }
   ],
   "source": [
    "nasty_col_species = series_species.unique()\n",
    "print('Especies identificadas: ', nasty_col_species.shape[0]-1)\n",
    "#series_species.value_counts()"
   ]
  },
  {
   "cell_type": "code",
   "execution_count": 648,
   "metadata": {},
   "outputs": [],
   "source": [
    "#Integracion de la Series ·Species· al data frame\n",
    "df_col14_clean['Species'] = series_species"
   ]
  },
  {
   "cell_type": "code",
   "execution_count": 650,
   "metadata": {},
   "outputs": [
    {
     "name": "stdout",
     "output_type": "stream",
     "text": [
      "Clasificaciones: 54\n"
     ]
    },
    {
     "data": {
      "text/plain": [
       "UNKNOWN                4466\n",
       "WHITE                   624\n",
       "TIGER                   249\n",
       "BULL                    179\n",
       "BLACKTIP                 75\n",
       "BRONZEWHALER             68\n",
       "NURSE                    55\n",
       "BLUE                     51\n",
       "SPINNER                  48\n",
       "GREYNURSE                38\n",
       "LEMON                    33\n",
       "OCEANICWHITETIP          26\n",
       "SANDTIGER                21\n",
       "CARIBBEANREEF            16\n",
       "DUSKY                    13\n",
       "WHALE                     9\n",
       "PORBEAGLE                 8\n",
       "CARPET                    7\n",
       "BASKING                   6\n",
       "ANGEL                     6\n",
       "COPPER                    5\n",
       "GALAPAGOS                 5\n",
       "SANDBAR                   5\n",
       "SILKY                     4\n",
       "THRESHER                  4\n",
       "SHORTFINMAKO              4\n",
       "ZAMBEZI                   3\n",
       "BLACK                     3\n",
       "SALMON                    3\n",
       "COW                       2\n",
       "COOKIECUTTER              2\n",
       "SCHOOL                    2\n",
       "DOGFISH                   2\n",
       "CAT                       2\n",
       "LEOPARD                   2\n",
       "BROADNOSESEVENGILL        2\n",
       "GOBLIN                    2\n",
       "HORN                      1\n",
       "BLIND                     1\n",
       "SPOTTEDDOGFISH            1\n",
       "BLACKTAILREEF             1\n",
       "LONGFINMAKO               1\n",
       "SILVERTIP                 1\n",
       "PORTJACKSON               1\n",
       "GREATHAMMERHEAD           1\n",
       "COCKTAIL                  1\n",
       "SCALLOPEDHAMMERHEAD       1\n",
       "GROUND                    1\n",
       "SOUPFIN                   1\n",
       "SPOTTEDCAT                1\n",
       "SEAL                      1\n",
       "GUMMY                     1\n",
       "GRAYREEF                  1\n",
       "THICKSKIN                 1\n",
       "Name: Species, dtype: int64"
      ]
     },
     "execution_count": 650,
     "metadata": {},
     "output_type": "execute_result"
    }
   ],
   "source": [
    "print('Clasificaciones:',len(df_col14_clean['Species'].value_counts()))\n",
    "df_col14_clean['Species'].value_counts()"
   ]
  },
  {
   "cell_type": "code",
   "execution_count": 651,
   "metadata": {},
   "outputs": [
    {
     "data": {
      "text/plain": [
       "Index(['Case', 'Date', 'Year', 'Type', 'Country', 'Area', 'Location',\n",
       "       'Activity', 'Name', 'Sex', 'Age', 'Injury', 'Fatal', 'Time', 'Species',\n",
       "       'Source', 'pdf', 'href formula', 'href', 'Case Number.1',\n",
       "       'Case Number.2', 'original order', 'Unnamed: 22', 'Unnamed: 23', 'Day',\n",
       "       'Month', 'Year2', 'Season', 'CheckYear'],\n",
       "      dtype='object')"
      ]
     },
     "execution_count": 651,
     "metadata": {},
     "output_type": "execute_result"
    }
   ],
   "source": [
    "df_col14_clean.columns"
   ]
  },
  {
   "cell_type": "code",
   "execution_count": 658,
   "metadata": {},
   "outputs": [
    {
     "name": "stdout",
     "output_type": "stream",
     "text": [
      "Clasificaciones en columna Case 6067\n",
      "Clasificaciones en columna Date 5252\n",
      "Clasificaciones en columna Year 235\n",
      "Clasificaciones en columna Type 5\n",
      "Clasificaciones en columna Country 176\n",
      "Clasificaciones en columna Area 787\n",
      "Clasificaciones en columna Location 4005\n",
      "Clasificaciones en columna Activity 1471\n",
      "Clasificaciones en columna Name 5082\n",
      "Clasificaciones en columna Sex 3\n",
      "Clasificaciones en columna Age 6\n",
      "Clasificaciones en columna Injury 3649\n",
      "Clasificaciones en columna Fatal 3\n",
      "Clasificaciones en columna Time 365\n",
      "Clasificaciones en columna Species 54\n",
      "Clasificaciones en columna Season 5\n"
     ]
    }
   ],
   "source": [
    "cu=['Case', 'Date', 'Year', 'Type', 'Country', 'Area', 'Location','Activity', 'Name', 'Sex', 'Age', 'Injury', 'Fatal', 'Time', 'Species','Season']\n",
    "df_col14_clean[cu].head(10)\n",
    "df_col14_clean[cu].head(10)\n",
    "\n",
    "for i in range(len(cu)):\n",
    "    print('Clasificaciones en columna',cu[i],len(df_col14_clean[cu[i]].value_counts()))\n"
   ]
  },
  {
   "cell_type": "code",
   "execution_count": null,
   "metadata": {},
   "outputs": [],
   "source": [
    "Pendientes: Activity, Injury y Time"
   ]
  }
 ],
 "metadata": {
  "kernelspec": {
   "display_name": "Python 3",
   "language": "python",
   "name": "python3"
  },
  "language_info": {
   "codemirror_mode": {
    "name": "ipython",
    "version": 3
   },
   "file_extension": ".py",
   "mimetype": "text/x-python",
   "name": "python",
   "nbconvert_exporter": "python",
   "pygments_lexer": "ipython3",
   "version": "3.7.6"
  }
 },
 "nbformat": 4,
 "nbformat_minor": 4
}
