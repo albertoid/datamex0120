{
 "cells": [
  {
   "cell_type": "markdown",
   "metadata": {},
   "source": [
    "# Web Scraping Lab\n",
    "\n",
    "You will find in this notebook some scrapy exercises to practise your scraping skills.\n",
    "\n",
    "**Tips:**\n",
    "\n",
    "- Check the response status code for each request to ensure you have obtained the intended contennt.\n",
    "- Print the response text in each request to understand the kind of info you are getting and its format.\n",
    "- Check for patterns in the response text to extract the data/info requested in each question.\n",
    "- Visit each url and take a look at its source through Chrome DevTools. You'll need to identify the html tags, special class names etc. used for the html content you are expected to extract."
   ]
  },
  {
   "cell_type": "markdown",
   "metadata": {},
   "source": [
    "- [Requests library](http://docs.python-requests.org/en/master/#the-user-guide) documentation \n",
    "- [Beautiful Soup Doc](https://www.crummy.com/software/BeautifulSoup/bs4/doc/)\n",
    "- [Urllib](https://docs.python.org/3/library/urllib.html#module-urllib)\n",
    "- [re lib](https://docs.python.org/3/library/re.html)\n",
    "- [lxml lib](https://lxml.de/)\n",
    "- [Scrapy](https://scrapy.org/)\n",
    "- [List of HTTP status codes](https://en.wikipedia.org/wiki/List_of_HTTP_status_codes)\n",
    "- [HTML basics](http://www.simplehtmlguide.com/cheatsheet.php)\n",
    "- [CSS basics](https://www.cssbasics.com/#page_start)"
   ]
  },
  {
   "cell_type": "markdown",
   "metadata": {},
   "source": [
    "#### Below are the libraries and modules you may need. `requests`,  `BeautifulSoup` and `pandas` are imported for you. If you prefer to use additional libraries feel free to uncomment them."
   ]
  },
  {
   "cell_type": "code",
   "execution_count": 39,
   "metadata": {},
   "outputs": [],
   "source": [
    "import requests\n",
    "from bs4 import BeautifulSoup as bs\n",
    "import pandas as pd\n",
    "from pprint import pprint\n",
    "from lxml import html\n",
    "from lxml.html import fromstring\n",
    "import urllib.request\n",
    "from urllib.request import urlopen\n",
    "import random\n",
    "import re\n",
    "import scrapy"
   ]
  },
  {
   "cell_type": "markdown",
   "metadata": {},
   "source": [
    "#### Download, parse (using BeautifulSoup), and print the content from the Trending Developers page from GitHub:"
   ]
  },
  {
   "cell_type": "code",
   "execution_count": 40,
   "metadata": {},
   "outputs": [],
   "source": [
    "# This is the url you will scrape in this exercise\n",
    "url = 'https://github.com/trending/developers'"
   ]
  },
  {
   "cell_type": "code",
   "execution_count": 41,
   "metadata": {},
   "outputs": [
    {
     "data": {
      "text/plain": [
       "b'\\n\\n\\n\\n\\n\\n<!DOCTYPE html>\\n<html la'"
      ]
     },
     "execution_count": 41,
     "metadata": {},
     "output_type": "execute_result"
    }
   ],
   "source": [
    "#your code\n",
    "html=requests.get(url).content\n",
    "html[:30]\n",
    "\n"
   ]
  },
  {
   "cell_type": "code",
   "execution_count": 42,
   "metadata": {},
   "outputs": [],
   "source": [
    "soup=bs(html, 'lxml')"
   ]
  },
  {
   "cell_type": "markdown",
   "metadata": {},
   "source": [
    "#### Display the names of the trending developers retrieved in the previous step.\n",
    "\n",
    "Your output should be a Python list of developer names. Each name should not contain any html tag.\n",
    "\n",
    "**Instructions:**\n",
    "\n",
    "1. Find out the html tag and class names used for the developer names. You can achieve this using Chrome DevTools.\n",
    "\n",
    "1. Use BeautifulSoup to extract all the html elements that contain the developer names.\n",
    "\n",
    "1. Use string manipulation techniques to replace whitespaces and linebreaks (i.e. `\\n`) in the *text* of each html element. Use a list to store the clean names.\n",
    "\n",
    "1. Print the list of names.\n",
    "\n",
    "Your output should look like below:\n",
    "\n",
    "```\n",
    "['trimstray (@trimstray)',\n",
    " 'joewalnes (JoeWalnes)',\n",
    " 'charlax (Charles-AxelDein)',\n",
    " 'ForrestKnight (ForrestKnight)',\n",
    " 'revery-ui (revery-ui)',\n",
    " 'alibaba (Alibaba)',\n",
    " 'Microsoft (Microsoft)',\n",
    " 'github (GitHub)',\n",
    " 'facebook (Facebook)',\n",
    " 'boazsegev (Bo)',\n",
    " 'google (Google)',\n",
    " 'cloudfetch',\n",
    " 'sindresorhus (SindreSorhus)',\n",
    " 'tensorflow',\n",
    " 'apache (TheApacheSoftwareFoundation)',\n",
    " 'DevonCrawford (DevonCrawford)',\n",
    " 'ARMmbed (ArmMbed)',\n",
    " 'vuejs (vuejs)',\n",
    " 'fastai (fast.ai)',\n",
    " 'QiShaoXuan (Qi)',\n",
    " 'joelparkerhenderson (JoelParkerHenderson)',\n",
    " 'torvalds (LinusTorvalds)',\n",
    " 'CyC2018',\n",
    " 'komeiji-satori (神楽坂覚々)',\n",
    " 'script-8']\n",
    " ```"
   ]
  },
  {
   "cell_type": "code",
   "execution_count": 68,
   "metadata": {
    "scrolled": true
   },
   "outputs": [
    {
     "data": {
      "text/plain": [
       "['Trending',\n",
       " 'Stefan Prodan',\n",
       " 'dockprom    ',\n",
       " 'Pierre Krieger',\n",
       " 'redshirt    ',\n",
       " 'Tim Pope',\n",
       " 'vim-fugitive    ',\n",
       " 'David Rodríguez',\n",
       " 'byebug    ',\n",
       " 'Sebastián Ramírez',\n",
       " 'fastapi    ',\n",
       " 'Hisham Muhammad',\n",
       " 'htop    ',\n",
       " 'Robert Mosolgo',\n",
       " 'graphql-ruby    ',\n",
       " 'Jens Segers',\n",
       " 'laravel-mongodb    ',\n",
       " 'Daniel Lemire',\n",
       " 'simdjson    ',\n",
       " 'Me No Dev',\n",
       " 'ESPAsyncWebServer    ',\n",
       " 'Steven Allen',\n",
       " 'tempfile    ',\n",
       " 'Jason Quense',\n",
       " 'yup    ',\n",
       " 'Tom Payne',\n",
       " 'chezmoi    ',\n",
       " 'Philipp Oppermann',\n",
       " 'blog_os    ',\n",
       " 'Asim Aslam',\n",
       " 'kubernetes    ',\n",
       " 'Matt Joiner',\n",
       " 'torrent    ',\n",
       " 'Bo-Yi Wu',\n",
       " 'gorush    ',\n",
       " 'Ariel Mashraki',\n",
       " 'golang-cheat-sheet    ',\n",
       " 'Samuel Colvin',\n",
       " 'pydantic    ',\n",
       " 'Lipis',\n",
       " 'flag-icon-css    ',\n",
       " 'haya14busa',\n",
       " 'incsearch.vim    ',\n",
       " 'Yoshifumi Kawai',\n",
       " 'UniRx    ',\n",
       " 'Julien Chaumond',\n",
       " 'Circular    ',\n",
       " 'Andrew Gallant',\n",
       " 'ripgrep    ',\n",
       " 'cytopia',\n",
       " 'devilbox    ']"
      ]
     },
     "execution_count": 68,
     "metadata": {},
     "output_type": "execute_result"
    }
   ],
   "source": [
    "#your code\n",
    "tags=['h1']\n",
    "text=[e.text for e in soup.find_all(tags)]\n",
    "for i in range(len(text)):\n",
    "    text[i]=text[i].replace('\\n','')\n",
    "    text[i]=text[i].lstrip()\n",
    "text"
   ]
  },
  {
   "cell_type": "code",
   "execution_count": 70,
   "metadata": {},
   "outputs": [
    {
     "data": {
      "text/plain": [
       "['Stefan Prodan',\n",
       " 'Pierre Krieger',\n",
       " 'Tim Pope',\n",
       " 'David Rodríguez',\n",
       " 'Sebastián Ramírez',\n",
       " 'Hisham Muhammad',\n",
       " 'Robert Mosolgo',\n",
       " 'Jens Segers',\n",
       " 'Daniel Lemire',\n",
       " 'Me No Dev',\n",
       " 'Steven Allen',\n",
       " 'Jason Quense',\n",
       " 'Tom Payne',\n",
       " 'Philipp Oppermann',\n",
       " 'Asim Aslam',\n",
       " 'Matt Joiner',\n",
       " 'Bo-Yi Wu',\n",
       " 'Ariel Mashraki',\n",
       " 'Samuel Colvin',\n",
       " 'Lipis',\n",
       " 'haya14busa',\n",
       " 'Yoshifumi Kawai',\n",
       " 'Julien Chaumond',\n",
       " 'Andrew Gallant',\n",
       " 'cytopia']"
      ]
     },
     "execution_count": 70,
     "metadata": {},
     "output_type": "execute_result"
    }
   ],
   "source": [
    "t_list=[]\n",
    "for i in range(len(text)):\n",
    "    if i%2!=0:\n",
    "        t_list.append(text[i])\n",
    "t_list"
   ]
  },
  {
   "cell_type": "markdown",
   "metadata": {},
   "source": [
    "#### Display the trending Python repositories in GitHub\n",
    "\n",
    "The steps to solve this problem is similar to the previous one except that you need to find out the repository names instead of developer names."
   ]
  },
  {
   "cell_type": "code",
   "execution_count": 76,
   "metadata": {},
   "outputs": [],
   "source": [
    "# This is the url you will scrape in this exercise\n",
    "url = 'https://github.com/trending/python?since=daily'"
   ]
  },
  {
   "cell_type": "code",
   "execution_count": 77,
   "metadata": {},
   "outputs": [
    {
     "data": {
      "text/plain": [
       "b'\\n\\n\\n\\n\\n\\n<!DOCTYPE html>\\n<html la'"
      ]
     },
     "execution_count": 77,
     "metadata": {},
     "output_type": "execute_result"
    }
   ],
   "source": [
    "#your code\n",
    "html=requests.get(url).content\n",
    "html[:30]"
   ]
  },
  {
   "cell_type": "code",
   "execution_count": 78,
   "metadata": {},
   "outputs": [],
   "source": [
    "soup=bs(html, 'lxml')"
   ]
  },
  {
   "cell_type": "code",
   "execution_count": 80,
   "metadata": {},
   "outputs": [
    {
     "data": {
      "text/plain": [
       "['Trending',\n",
       " 'tensortrade-org/tensortrade',\n",
       " 'eriklindernoren/ML-From-Scratch',\n",
       " 'baowenbo/DAIN',\n",
       " 'google-research/flax',\n",
       " 'donnemartin/system-design-primer',\n",
       " 'matterport/Mask_RCNN',\n",
       " 'tiangolo/fastapi',\n",
       " 'donnemartin/interactive-coding-challenges',\n",
       " 'samuelcolvin/pydantic',\n",
       " 'scikit-learn/scikit-learn',\n",
       " 'bregman-arie/devops-exercises',\n",
       " 'smellslikeml/ActionAI',\n",
       " 'microsoft/DialoGPT',\n",
       " 'rachpt/lanzou-gui',\n",
       " 'apache/airflow',\n",
       " 'mai-lang-chai/Middleware-Vulnerability-detection',\n",
       " 'noirbizarre/flask-restplus',\n",
       " 'jrnl-org/jrnl',\n",
       " 'boto/boto3',\n",
       " 'ros-industrial/universal_robot',\n",
       " 'lazyprogrammer/machine_learning_examples',\n",
       " 'getsentry/sentry',\n",
       " 'pytorch/examples',\n",
       " 'odoo/odoo',\n",
       " 'giswqs/qgis-earthengine-examples']"
      ]
     },
     "execution_count": 80,
     "metadata": {},
     "output_type": "execute_result"
    }
   ],
   "source": [
    "tags=['h1']\n",
    "text=[e.text for e in soup.find_all(tags)]\n",
    "for i in range(len(text)):\n",
    "    text[i]=text[i].replace('\\n','')\n",
    "    text[i]=text[i].replace(' ','')\n",
    "    text[i]=text[i].lstrip()\n",
    "text"
   ]
  },
  {
   "cell_type": "markdown",
   "metadata": {},
   "source": [
    "#### Display all the image links from Walt Disney wikipedia page"
   ]
  },
  {
   "cell_type": "code",
   "execution_count": 81,
   "metadata": {},
   "outputs": [],
   "source": [
    "# This is the url you will scrape in this exercise\n",
    "url = 'https://en.wikipedia.org/wiki/Walt_Disney'"
   ]
  },
  {
   "cell_type": "code",
   "execution_count": 116,
   "metadata": {},
   "outputs": [],
   "source": [
    "#your code\n",
    "html=requests.get(url).content\n",
    "soup=bs(html, 'html.parser')\n"
   ]
  },
  {
   "cell_type": "code",
   "execution_count": 133,
   "metadata": {},
   "outputs": [],
   "source": [
    "#soup"
   ]
  },
  {
   "cell_type": "code",
   "execution_count": 145,
   "metadata": {},
   "outputs": [],
   "source": [
    "#tags=['a','h1','h2','a href']\n",
    "#x=[e.text for e in soup.find_all(tags)]#De donde sale el metodo text?\n",
    "images = soup.find_all('a',{'class':'image'})\n",
    "\n",
    "len(images)\n",
    "lst_images=[]\n",
    "\n",
    "for i in range(len(images)):\n",
    "    lst_images.append(str(images[i]))\n",
    "#lst_images"
   ]
  },
  {
   "cell_type": "code",
   "execution_count": 146,
   "metadata": {},
   "outputs": [
    {
     "data": {
      "text/plain": [
       "'<a class=\"image\" href=\"/wiki/File:Walt_Disney_1946.JPG\"><img alt=\"Walt Disney 1946.JPG\" data-file-height=\"675\" data-file-width=\"450\" decoding=\"async\" height=\"330\" src=\"//upload.wikimedia.org/wikipedia/commons/thumb/d/df/Walt_Disney_1946.JPG/220px-Walt_Disney_1946.JPG\" srcset=\"//upload.wikimedia.org/wikipedia/commons/thumb/d/df/Walt_Disney_1946.JPG/330px-Walt_Disney_1946.JPG 1.5x, //upload.wikimedia.org/wikipedia/commons/thumb/d/df/Walt_Disney_1946.JPG/440px-Walt_Disney_1946.JPG 2x\" width=\"220\"/></a>'"
      ]
     },
     "execution_count": 146,
     "metadata": {},
     "output_type": "execute_result"
    }
   ],
   "source": [
    "lst_str_images[0]"
   ]
  },
  {
   "cell_type": "code",
   "execution_count": 157,
   "metadata": {},
   "outputs": [],
   "source": [
    "prefijo= 'https://en.wikipedia.org/'\n",
    "links=[]\n",
    "for i in range(len(images)):\n",
    "    ini=lst_images[i].find('href') + 6 \n",
    "    fin=lst_images[i].find('>') -1 \n",
    "    links.append(prefijo+lst_images[i][ini:fin])\n"
   ]
  },
  {
   "cell_type": "code",
   "execution_count": 158,
   "metadata": {},
   "outputs": [
    {
     "data": {
      "text/plain": [
       "['https://en.wikipedia.org//wiki/File:Walt_Disney_1946.JPG',\n",
       " 'https://en.wikipedia.org//wiki/File:Walt_Disney_1942_signature.svg',\n",
       " 'https://en.wikipedia.org//wiki/File:Walt_Disney_envelope_ca._1921.jpg',\n",
       " 'https://en.wikipedia.org//wiki/File:Trolley_Troubles_poster.jpg',\n",
       " 'https://en.wikipedia.org//wiki/File:Walt_Disney_and_his_cartoon_creation_%22Mickey_Mouse%22_-_National_Board_of_Review_Magazine.jpg',\n",
       " 'https://en.wikipedia.org//wiki/File:Steamboat-willie.jpg',\n",
       " 'https://en.wikipedia.org//wiki/File:Walt_Disney_1935.jpg',\n",
       " 'https://en.wikipedia.org//wiki/File:Walt_Disney_Snow_white_1937_trailer_screenshot_(13).jpg',\n",
       " 'https://en.wikipedia.org//wiki/File:Disney_drawing_goofy.jpg',\n",
       " 'https://en.wikipedia.org//wiki/File:DisneySchiphol1951.jpg',\n",
       " 'https://en.wikipedia.org//wiki/File:WaltDisneyplansDisneylandDec1954.jpg',\n",
       " 'https://en.wikipedia.org//wiki/File:Walt_disney_portrait_right.jpg',\n",
       " 'https://en.wikipedia.org//wiki/File:Walt_Disney_Grave.JPG',\n",
       " 'https://en.wikipedia.org//wiki/File:Roy_O._Disney_with_Company_at_Press_Conference.jpg',\n",
       " 'https://en.wikipedia.org//wiki/File:Disney_Display_Case.JPG',\n",
       " 'https://en.wikipedia.org//wiki/File:Disney1968.jpg',\n",
       " 'https://en.wikipedia.org//wiki/File:The_Walt_Disney_Company_Logo.svg',\n",
       " 'https://en.wikipedia.org//wiki/File:Animation_disc.svg',\n",
       " 'https://en.wikipedia.org//wiki/File:P_vip.svg',\n",
       " 'https://en.wikipedia.org//wiki/File:Magic_Kingdom_castle.jpg',\n",
       " 'https://en.wikipedia.org//wiki/File:Video-x-generic.svg',\n",
       " 'https://en.wikipedia.org//wiki/File:Flag_of_Los_Angeles_County,_California.svg',\n",
       " 'https://en.wikipedia.org//wiki/File:Blank_television_set.svg',\n",
       " 'https://en.wikipedia.org//wiki/File:Flag_of_the_United_States.svg']"
      ]
     },
     "execution_count": 158,
     "metadata": {},
     "output_type": "execute_result"
    }
   ],
   "source": [
    "links"
   ]
  },
  {
   "cell_type": "markdown",
   "metadata": {},
   "source": [
    "#### Retrieve an arbitary Wikipedia page of \"Python\" and create a list of links on that page"
   ]
  },
  {
   "cell_type": "code",
   "execution_count": 325,
   "metadata": {},
   "outputs": [],
   "source": [
    "# This is the url you will scrape in this exercise\n",
    "url ='https://en.wikipedia.org/wiki/Python' "
   ]
  },
  {
   "cell_type": "code",
   "execution_count": 326,
   "metadata": {},
   "outputs": [],
   "source": [
    "#your code"
   ]
  },
  {
   "cell_type": "code",
   "execution_count": 327,
   "metadata": {},
   "outputs": [],
   "source": [
    "html=requests.get(url).content\n",
    "soup=bs(html, 'html.parser')"
   ]
  },
  {
   "cell_type": "code",
   "execution_count": 328,
   "metadata": {},
   "outputs": [],
   "source": [
    "#soup"
   ]
  },
  {
   "cell_type": "code",
   "execution_count": 342,
   "metadata": {
    "scrolled": false
   },
   "outputs": [
    {
     "name": "stdout",
     "output_type": "stream",
     "text": [
      "<class 'list'> 157 <class 'bs4.element.Tag'>\n"
     ]
    }
   ],
   "source": [
    "l_0=soup.find_all('a', href=True)#(\"a[href*=wiki]\")\n",
    "l_0 = list(l_0)\n",
    "print(type(l_0), len(l_0),type(l_0[0]))"
   ]
  },
  {
   "cell_type": "code",
   "execution_count": 349,
   "metadata": {},
   "outputs": [
    {
     "name": "stdout",
     "output_type": "stream",
     "text": [
      "<class 'list'> 157 <class 'str'>\n"
     ]
    }
   ],
   "source": [
    "for i in range(len(l_0)):\n",
    "    l_0[i]=str(l_0[i])\n",
    "print(type(l_0), len(l_0),type(l_0[0]))\n",
    "#l_0"
   ]
  },
  {
   "cell_type": "code",
   "execution_count": 356,
   "metadata": {},
   "outputs": [],
   "source": [
    "i_to_remove=[]\n",
    "for i in range(len(l_0)):\n",
    "    if l_0[i].find('<a href=\"/wiki') != 0:\n",
    "        i_to_remove.append(l_0[i])\n",
    "for i in range(len(i_to_remove)):\n",
    "    l_0.remove(i_to_remove[i])"
   ]
  },
  {
   "cell_type": "code",
   "execution_count": 357,
   "metadata": {},
   "outputs": [
    {
     "data": {
      "text/plain": [
       "43"
      ]
     },
     "execution_count": 357,
     "metadata": {},
     "output_type": "execute_result"
    }
   ],
   "source": [
    "len(l_0)"
   ]
  },
  {
   "cell_type": "code",
   "execution_count": 364,
   "metadata": {},
   "outputs": [
    {
     "data": {
      "text/plain": [
       "['https://en.wikipedia.org//wiki/Pythonidae',\n",
       " 'https://en.wikipedia.org//wiki/Python_(genus)',\n",
       " 'https://en.wikipedia.org//wiki/Python_(mythology)',\n",
       " 'https://en.wikipedia.org//wiki/Python_of_Aenus',\n",
       " 'https://en.wikipedia.org//wiki/Python_(painter)',\n",
       " 'https://en.wikipedia.org//wiki/Python_of_Byzantium',\n",
       " 'https://en.wikipedia.org//wiki/Python_of_Catana',\n",
       " 'https://en.wikipedia.org//wiki/Python_(film)',\n",
       " 'https://en.wikipedia.org//wiki/Pythons_2',\n",
       " 'https://en.wikipedia.org//wiki/Monty_Python',\n",
       " 'https://en.wikipedia.org//wiki/Python_(Monty)_Pictures',\n",
       " 'https://en.wikipedia.org//wiki/Python_(programming_language)',\n",
       " 'https://en.wikipedia.org//wiki/CPython',\n",
       " 'https://en.wikipedia.org//wiki/CMU_Common_Lisp',\n",
       " 'https://en.wikipedia.org//wiki/PERQ#PERQ_3',\n",
       " 'https://en.wikipedia.org//wiki/Python_(Busch_Gardens_Tampa_Bay)',\n",
       " 'https://en.wikipedia.org//wiki/Python_(Coney_Island,_Cincinnati,_Ohio)',\n",
       " 'https://en.wikipedia.org//wiki/Python_(Efteling)',\n",
       " 'https://en.wikipedia.org//wiki/Python_(automobile_maker)',\n",
       " 'https://en.wikipedia.org//wiki/Python_(Ford_prototype)',\n",
       " 'https://en.wikipedia.org//wiki/Colt_Python',\n",
       " 'https://en.wikipedia.org//wiki/Python_(missile)',\n",
       " 'https://en.wikipedia.org//wiki/Python_(nuclear_primary)',\n",
       " 'https://en.wikipedia.org//wiki/Python_Anghelo',\n",
       " 'https://en.wikipedia.org//wiki/PYTHON',\n",
       " 'https://en.wikipedia.org//wiki/Cython',\n",
       " 'https://en.wikipedia.org//wiki/Pyton',\n",
       " 'https://en.wikipedia.org//wiki/Help:Disambiguation',\n",
       " 'https://en.wikipedia.org//wiki/Help:Category',\n",
       " 'https://en.wikipedia.org//wiki/Category:Disambiguation_pages',\n",
       " 'https://en.wikipedia.org//wiki/Category:Disambiguation_pages_with_short_description',\n",
       " 'https://en.wikipedia.org//wiki/Category:All_article_disambiguation_pages',\n",
       " 'https://en.wikipedia.org//wiki/Category:All_disambiguation_pages',\n",
       " 'https://en.wikipedia.org//wiki/Category:Animal_common_name_disambiguation_pages',\n",
       " 'https://en.wikipedia.org//wiki/Python\">Read<',\n",
       " 'https://en.wikipedia.org//wiki/Wikipedia:Contents',\n",
       " 'https://en.wikipedia.org//wiki/Wikipedia:Featured_content',\n",
       " 'https://en.wikipedia.org//wiki/Portal:Current_events',\n",
       " 'https://en.wikipedia.org//wiki/Help:Contents',\n",
       " 'https://en.wikipedia.org//wiki/Wikipedia:About',\n",
       " 'https://en.wikipedia.org//wiki/Wikipedia:Community_portal',\n",
       " 'https://en.wikipedia.org//wiki/Wikipedia:About',\n",
       " 'https://en.wikipedia.org//wiki/Wikipedia:General_disclaimer']"
      ]
     },
     "execution_count": 364,
     "metadata": {},
     "output_type": "execute_result"
    }
   ],
   "source": [
    "prefijo= 'https://en.wikipedia.org/'\n",
    "links=[]\n",
    "for i in range(len(l_0)):\n",
    "    ini=l_0[i].find('href') + 6 \n",
    "    fin=l_0[i].find('title') -2 \n",
    "    links.append(prefijo+l_0[i][ini:fin])\n",
    "links"
   ]
  },
  {
   "cell_type": "markdown",
   "metadata": {},
   "source": [
    "#### Number of Titles that have changed in the United States Code since its last release point "
   ]
  },
  {
   "cell_type": "code",
   "execution_count": 369,
   "metadata": {},
   "outputs": [],
   "source": [
    "# This is the url you will scrape in this exercise\n",
    "url = 'http://uscode.house.gov/download/download.shtml'"
   ]
  },
  {
   "cell_type": "code",
   "execution_count": 370,
   "metadata": {},
   "outputs": [],
   "source": [
    "#your code\n",
    "html=requests.get(url).content\n",
    "soup=bs(html, 'html.parser')"
   ]
  },
  {
   "cell_type": "code",
   "execution_count": 431,
   "metadata": {},
   "outputs": [],
   "source": [
    "titulos = soup.find_all('div',{'class':'usctitlechanged'})"
   ]
  },
  {
   "cell_type": "code",
   "execution_count": 432,
   "metadata": {},
   "outputs": [
    {
     "data": {
      "text/plain": [
       "['Title 18 - Crimes and Criminal Procedure ',\n",
       " 'Title 20 - Education',\n",
       " 'Title 26 - Internal Revenue Code']"
      ]
     },
     "execution_count": 432,
     "metadata": {},
     "output_type": "execute_result"
    }
   ],
   "source": [
    "len(titulos)\n",
    "titulos = list(titulos)\n",
    "titulos_Res  = []\n",
    "for i in range(len(titulos)):\n",
    "    ini=0\n",
    "    titulos[i]=str(titulos[i])\n",
    "    titulos[i]=titulos[i].lstrip()\n",
    "    ini=titulos[i].find('Title')\n",
    "    titulos[i]=titulos[i][ini:]\n",
    "    \n",
    "    fin = titulos[i].find('<')\n",
    "    if fin >= 0:\n",
    "        titulos[i]=titulos[i][0:fin]\n",
    "    \n",
    "    fin = titulos[i].find('\\n')\n",
    "    if fin >= 0:\n",
    "        titulos[i]=titulos[i][0:fin] \n",
    "\n",
    "    \n",
    "type(titulos)\n",
    "titulos\n"
   ]
  },
  {
   "cell_type": "markdown",
   "metadata": {},
   "source": [
    "#### A Python list with the top ten FBI's Most Wanted names "
   ]
  },
  {
   "cell_type": "code",
   "execution_count": 433,
   "metadata": {},
   "outputs": [],
   "source": [
    "# This is the url you will scrape in this exercise\n",
    "url = 'https://www.fbi.gov/wanted/topten'"
   ]
  },
  {
   "cell_type": "code",
   "execution_count": 434,
   "metadata": {},
   "outputs": [],
   "source": [
    "#your code\n",
    "html=requests.get(url).content\n",
    "soup=bs(html, 'html.parser')"
   ]
  },
  {
   "cell_type": "code",
   "execution_count": 461,
   "metadata": {},
   "outputs": [],
   "source": [
    "tags = ['h3']\n",
    "nombres = soup.find_all(tags)\n",
    "#nombres"
   ]
  },
  {
   "cell_type": "code",
   "execution_count": 462,
   "metadata": {},
   "outputs": [
    {
     "name": "stdout",
     "output_type": "stream",
     "text": [
      "<class 'list'> <class 'bs4.element.Tag'>\n"
     ]
    }
   ],
   "source": [
    "nombres = list(nombres)\n",
    "print(type(nombres),type(nombres[0]))\n",
    "for i in range(len(nombres)):\n",
    "    nombres[i]=str(nombres[i])\n",
    "    ini = nombres[i].find('\">') + 2\n",
    "    fin = nombres[i].find(\"</a>\")\n",
    "    nombres[i]= nombres[i][ini:fin]\n",
    "    ini = nombres[i].find('\">') + 2\n",
    "    nombres[i]= nombres[i][ini:]\n",
    "    "
   ]
  },
  {
   "cell_type": "code",
   "execution_count": 463,
   "metadata": {},
   "outputs": [
    {
     "data": {
      "text/plain": [
       "['EUGENE PALMER',\n",
       " 'SANTIAGO VILLALBA MEDEROS',\n",
       " 'RAFAEL CARO-QUINTERO',\n",
       " 'ROBERT WILLIAM FISHER',\n",
       " 'BHADRESHKUMAR CHETANBHAI PATEL',\n",
       " 'ARNOLDO JIMENEZ',\n",
       " 'ALEJANDRO ROSALES CASTILLO',\n",
       " 'YASER ABDEL SAID',\n",
       " 'JASON DEREK BROWN',\n",
       " 'ALEXIS FLORES']"
      ]
     },
     "execution_count": 463,
     "metadata": {},
     "output_type": "execute_result"
    }
   ],
   "source": [
    "nombres"
   ]
  },
  {
   "cell_type": "markdown",
   "metadata": {},
   "source": [
    "####  20 latest earthquakes info (date, time, latitude, longitude and region name) by the EMSC as a pandas dataframe"
   ]
  },
  {
   "cell_type": "code",
   "execution_count": 668,
   "metadata": {},
   "outputs": [],
   "source": [
    "# This is the url you will scrape in this exercise\n",
    "url = 'https://www.emsc-csem.org/Earthquake/'"
   ]
  },
  {
   "cell_type": "code",
   "execution_count": 669,
   "metadata": {},
   "outputs": [],
   "source": [
    "#your code\n",
    "html=requests.get(url).content\n",
    "soup=bs(html, 'html.parser')"
   ]
  },
  {
   "cell_type": "code",
   "execution_count": 670,
   "metadata": {},
   "outputs": [],
   "source": [
    "#Latitud numero - Longitud Numero\n",
    "equ = soup.find_all('td',{'class':'tabev1'})\n",
    "\n",
    "equ=list(equ)\n",
    "lat=[]\n",
    "lon=[]\n",
    "for i in range(len(equ)):\n",
    "    equ[i]=str(equ[i])\n",
    "    ini = equ[i].find('>')+1\n",
    "    fin = equ[i].find(\"\\xa0\")\n",
    "    equ[i]=equ[i][ini:fin]\n",
    "    if i%2 == 0:\n",
    "        lat.append(equ[i])\n",
    "    else:\n",
    "        lon.append(equ[i])"
   ]
  },
  {
   "cell_type": "code",
   "execution_count": 671,
   "metadata": {},
   "outputs": [],
   "source": [
    "#latitud y longitud letra\n",
    "equ = soup.find_all('td',{'class':'tabev2'})\n",
    "\n",
    "equ=list(equ)\n",
    "for i in range(len(equ)):\n",
    "    equ[i]=str(equ[i])\n",
    "    ini = equ[i].find('>')+1\n",
    "    fin = equ[i].find(\"\\xa0\")\n",
    "    equ[i]=equ[i][ini:fin]\n",
    "    if i%3 == 0:\n",
    "        lat[i//3]=lat[i//3]+equ[i]\n",
    "    elif i%3 == 1:\n",
    "        lon[i//3]=lon[i//3]+equ[i]"
   ]
  },
  {
   "cell_type": "code",
   "execution_count": 672,
   "metadata": {},
   "outputs": [],
   "source": [
    "#date and time\n",
    "equ = soup.find_all('td',{'class':'tabev6'})\n",
    "len(equ)\n",
    "equ=list(equ)\n",
    "date=[]\n",
    "time=[]\n",
    "for i in range(len(equ)):\n",
    "    equ[i]=str(equ[i])\n",
    "    ini = equ[i].find('2020')\n",
    "    fin = equ[i].find(\"</a>\")-1\n",
    "    equ[i]=equ[i][ini:fin]\n",
    "    date.append(equ[i][0:10])\n",
    "    time.append(equ[i][-9:-1])"
   ]
  },
  {
   "cell_type": "code",
   "execution_count": 673,
   "metadata": {},
   "outputs": [],
   "source": [
    "#region\n",
    "equ = soup.find_all('td',{'class':'tb_region'})\n",
    "len(equ)\n",
    "equ=list(equ)\n",
    "reg=[]\n",
    "for i in range(len(equ)):\n",
    "    equ[i]=str(equ[i])\n",
    "    ini = equ[i].find('\\xa0')+1\n",
    "    fin = equ[i].find(\"</td>\")\n",
    "    reg.append(equ[i][ini:fin])"
   ]
  },
  {
   "cell_type": "code",
   "execution_count": 676,
   "metadata": {},
   "outputs": [
    {
     "data": {
      "text/html": [
       "<div>\n",
       "<style scoped>\n",
       "    .dataframe tbody tr th:only-of-type {\n",
       "        vertical-align: middle;\n",
       "    }\n",
       "\n",
       "    .dataframe tbody tr th {\n",
       "        vertical-align: top;\n",
       "    }\n",
       "\n",
       "    .dataframe thead th {\n",
       "        text-align: right;\n",
       "    }\n",
       "</style>\n",
       "<table border=\"1\" class=\"dataframe\">\n",
       "  <thead>\n",
       "    <tr style=\"text-align: right;\">\n",
       "      <th></th>\n",
       "      <th>date</th>\n",
       "      <th>time</th>\n",
       "      <th>lat</th>\n",
       "      <th>lon</th>\n",
       "      <th>region</th>\n",
       "    </tr>\n",
       "  </thead>\n",
       "  <tbody>\n",
       "    <tr>\n",
       "      <th>0</th>\n",
       "      <td>2020-01-23</td>\n",
       "      <td>00:45:11</td>\n",
       "      <td>38.98N</td>\n",
       "      <td>28.97E</td>\n",
       "      <td>WESTERN TURKEY</td>\n",
       "    </tr>\n",
       "    <tr>\n",
       "      <th>1</th>\n",
       "      <td>2020-01-23</td>\n",
       "      <td>00:29:15</td>\n",
       "      <td>38.99N</td>\n",
       "      <td>27.86E</td>\n",
       "      <td>WESTERN TURKEY</td>\n",
       "    </tr>\n",
       "    <tr>\n",
       "      <th>2</th>\n",
       "      <td>2020-01-23</td>\n",
       "      <td>00:27:52</td>\n",
       "      <td>39.02N</td>\n",
       "      <td>27.85E</td>\n",
       "      <td>WESTERN TURKEY</td>\n",
       "    </tr>\n",
       "    <tr>\n",
       "      <th>3</th>\n",
       "      <td>2020-01-23</td>\n",
       "      <td>00:21:15</td>\n",
       "      <td>13.02N</td>\n",
       "      <td>89.59W</td>\n",
       "      <td>OFFSHORE EL SALVADOR</td>\n",
       "    </tr>\n",
       "    <tr>\n",
       "      <th>4</th>\n",
       "      <td>2020-01-23</td>\n",
       "      <td>00:20:23</td>\n",
       "      <td>39.01N</td>\n",
       "      <td>27.83E</td>\n",
       "      <td>WESTERN TURKEY</td>\n",
       "    </tr>\n",
       "    <tr>\n",
       "      <th>5</th>\n",
       "      <td>2020-01-23</td>\n",
       "      <td>00:18:53</td>\n",
       "      <td>39.02N</td>\n",
       "      <td>27.84E</td>\n",
       "      <td>WESTERN TURKEY</td>\n",
       "    </tr>\n",
       "    <tr>\n",
       "      <th>6</th>\n",
       "      <td>2020-01-23</td>\n",
       "      <td>00:08:59</td>\n",
       "      <td>39.06N</td>\n",
       "      <td>27.82E</td>\n",
       "      <td>WESTERN TURKEY</td>\n",
       "    </tr>\n",
       "    <tr>\n",
       "      <th>7</th>\n",
       "      <td>2020-01-23</td>\n",
       "      <td>00:07:44</td>\n",
       "      <td>39.07N</td>\n",
       "      <td>27.82E</td>\n",
       "      <td>WESTERN TURKEY</td>\n",
       "    </tr>\n",
       "    <tr>\n",
       "      <th>8</th>\n",
       "      <td>2020-01-22</td>\n",
       "      <td>23:58:54</td>\n",
       "      <td>39.09N</td>\n",
       "      <td>27.83E</td>\n",
       "      <td>WESTERN TURKEY</td>\n",
       "    </tr>\n",
       "    <tr>\n",
       "      <th>9</th>\n",
       "      <td>2020-01-22</td>\n",
       "      <td>23:58:23</td>\n",
       "      <td>17.83N</td>\n",
       "      <td>66.77W</td>\n",
       "      <td>PUERTO RICO REGION</td>\n",
       "    </tr>\n",
       "    <tr>\n",
       "      <th>10</th>\n",
       "      <td>2020-01-22</td>\n",
       "      <td>23:54:34</td>\n",
       "      <td>39.00N</td>\n",
       "      <td>27.86E</td>\n",
       "      <td>WESTERN TURKEY</td>\n",
       "    </tr>\n",
       "    <tr>\n",
       "      <th>11</th>\n",
       "      <td>2020-01-22</td>\n",
       "      <td>23:52:55</td>\n",
       "      <td>39.06N</td>\n",
       "      <td>27.84E</td>\n",
       "      <td>WESTERN TURKEY</td>\n",
       "    </tr>\n",
       "    <tr>\n",
       "      <th>12</th>\n",
       "      <td>2020-01-22</td>\n",
       "      <td>23:40:41</td>\n",
       "      <td>37.99N</td>\n",
       "      <td>14.74E</td>\n",
       "      <td>SICILY, ITALY</td>\n",
       "    </tr>\n",
       "    <tr>\n",
       "      <th>13</th>\n",
       "      <td>2020-01-22</td>\n",
       "      <td>23:38:09</td>\n",
       "      <td>39.01N</td>\n",
       "      <td>27.86E</td>\n",
       "      <td>WESTERN TURKEY</td>\n",
       "    </tr>\n",
       "    <tr>\n",
       "      <th>14</th>\n",
       "      <td>2020-01-22</td>\n",
       "      <td>23:24:40</td>\n",
       "      <td>19.19N</td>\n",
       "      <td>155.45W</td>\n",
       "      <td>ISLAND OF HAWAII, HAWAII</td>\n",
       "    </tr>\n",
       "    <tr>\n",
       "      <th>15</th>\n",
       "      <td>2020-01-22</td>\n",
       "      <td>23:24:31</td>\n",
       "      <td>33.22N</td>\n",
       "      <td>115.99W</td>\n",
       "      <td>SOUTHERN CALIFORNIA</td>\n",
       "    </tr>\n",
       "    <tr>\n",
       "      <th>16</th>\n",
       "      <td>2020-01-22</td>\n",
       "      <td>23:22:17</td>\n",
       "      <td>39.07N</td>\n",
       "      <td>27.83E</td>\n",
       "      <td>WESTERN TURKEY</td>\n",
       "    </tr>\n",
       "    <tr>\n",
       "      <th>17</th>\n",
       "      <td>2020-01-22</td>\n",
       "      <td>23:18:31</td>\n",
       "      <td>33.21N</td>\n",
       "      <td>115.99W</td>\n",
       "      <td>SOUTHERN CALIFORNIA</td>\n",
       "    </tr>\n",
       "    <tr>\n",
       "      <th>18</th>\n",
       "      <td>2020-01-22</td>\n",
       "      <td>23:14:10</td>\n",
       "      <td>39.07N</td>\n",
       "      <td>27.82E</td>\n",
       "      <td>WESTERN TURKEY</td>\n",
       "    </tr>\n",
       "    <tr>\n",
       "      <th>19</th>\n",
       "      <td>2020-01-22</td>\n",
       "      <td>23:06:35</td>\n",
       "      <td>32.69N</td>\n",
       "      <td>115.73W</td>\n",
       "      <td>SOUTHERN CALIFORNIA</td>\n",
       "    </tr>\n",
       "  </tbody>\n",
       "</table>\n",
       "</div>"
      ],
      "text/plain": [
       "          date      time     lat      lon                    region\n",
       "0   2020-01-23  00:45:11  38.98N   28.97E            WESTERN TURKEY\n",
       "1   2020-01-23  00:29:15  38.99N   27.86E            WESTERN TURKEY\n",
       "2   2020-01-23  00:27:52  39.02N   27.85E            WESTERN TURKEY\n",
       "3   2020-01-23  00:21:15  13.02N   89.59W      OFFSHORE EL SALVADOR\n",
       "4   2020-01-23  00:20:23  39.01N   27.83E            WESTERN TURKEY\n",
       "5   2020-01-23  00:18:53  39.02N   27.84E            WESTERN TURKEY\n",
       "6   2020-01-23  00:08:59  39.06N   27.82E            WESTERN TURKEY\n",
       "7   2020-01-23  00:07:44  39.07N   27.82E            WESTERN TURKEY\n",
       "8   2020-01-22  23:58:54  39.09N   27.83E            WESTERN TURKEY\n",
       "9   2020-01-22  23:58:23  17.83N   66.77W        PUERTO RICO REGION\n",
       "10  2020-01-22  23:54:34  39.00N   27.86E            WESTERN TURKEY\n",
       "11  2020-01-22  23:52:55  39.06N   27.84E            WESTERN TURKEY\n",
       "12  2020-01-22  23:40:41  37.99N   14.74E             SICILY, ITALY\n",
       "13  2020-01-22  23:38:09  39.01N   27.86E            WESTERN TURKEY\n",
       "14  2020-01-22  23:24:40  19.19N  155.45W  ISLAND OF HAWAII, HAWAII\n",
       "15  2020-01-22  23:24:31  33.22N  115.99W       SOUTHERN CALIFORNIA\n",
       "16  2020-01-22  23:22:17  39.07N   27.83E            WESTERN TURKEY\n",
       "17  2020-01-22  23:18:31  33.21N  115.99W       SOUTHERN CALIFORNIA\n",
       "18  2020-01-22  23:14:10  39.07N   27.82E            WESTERN TURKEY\n",
       "19  2020-01-22  23:06:35  32.69N  115.73W       SOUTHERN CALIFORNIA"
      ]
     },
     "execution_count": 676,
     "metadata": {},
     "output_type": "execute_result"
    }
   ],
   "source": [
    "columnas = ['date','time','lat','lon','region']\n",
    "data=pd.DataFrame([date,time,lat,lon,reg]).T\n",
    "data.columns=columnas\n",
    "data[:20]"
   ]
  },
  {
   "cell_type": "markdown",
   "metadata": {},
   "source": [
    "#### Display the date, days, title, city, country of next 25 hackathon events as a Pandas dataframe table"
   ]
  },
  {
   "cell_type": "code",
   "execution_count": null,
   "metadata": {},
   "outputs": [],
   "source": [
    "# This is the url you will scrape in this exercise\n",
    "url ='https://hackevents.co/hackathons'"
   ]
  },
  {
   "cell_type": "code",
   "execution_count": null,
   "metadata": {},
   "outputs": [],
   "source": [
    "#your code\n",
    "NO SIRVE LA LIGA"
   ]
  },
  {
   "cell_type": "markdown",
   "metadata": {},
   "source": [
    "#### Count number of tweets by a given Twitter account."
   ]
  },
  {
   "cell_type": "markdown",
   "metadata": {},
   "source": [
    "You will need to include a ***try/except block*** for account names not found. \n",
    "<br>***Hint:*** the program should count the number of tweets for any provided account"
   ]
  },
  {
   "cell_type": "code",
   "execution_count": null,
   "metadata": {},
   "outputs": [],
   "source": [
    "# This is the url you will scrape in this exercise \n",
    "# You will need to add the account credentials to this url\n",
    "url = 'https://twitter.com/'"
   ]
  },
  {
   "cell_type": "code",
   "execution_count": null,
   "metadata": {},
   "outputs": [],
   "source": [
    "#your code"
   ]
  },
  {
   "cell_type": "markdown",
   "metadata": {},
   "source": [
    "#### Number of followers of a given twitter account"
   ]
  },
  {
   "cell_type": "markdown",
   "metadata": {},
   "source": [
    "You will need to include a ***try/except block*** in case account/s name not found. \n",
    "<br>***Hint:*** the program should count the followers for any provided account"
   ]
  },
  {
   "cell_type": "code",
   "execution_count": null,
   "metadata": {},
   "outputs": [],
   "source": [
    "# This is the url you will scrape in this exercise \n",
    "# You will need to add the account credentials to this url\n",
    "url = 'https://twitter.com/'"
   ]
  },
  {
   "cell_type": "code",
   "execution_count": null,
   "metadata": {},
   "outputs": [],
   "source": [
    "#your code"
   ]
  },
  {
   "cell_type": "markdown",
   "metadata": {},
   "source": [
    "#### List all language names and number of related articles in the order they appear in wikipedia.org"
   ]
  },
  {
   "cell_type": "code",
   "execution_count": null,
   "metadata": {},
   "outputs": [],
   "source": [
    "# This is the url you will scrape in this exercise\n",
    "url = 'https://www.wikipedia.org/'"
   ]
  },
  {
   "cell_type": "code",
   "execution_count": null,
   "metadata": {},
   "outputs": [],
   "source": [
    "#your code"
   ]
  },
  {
   "cell_type": "markdown",
   "metadata": {},
   "source": [
    "#### A list with the different kind of datasets available in data.gov.uk "
   ]
  },
  {
   "cell_type": "code",
   "execution_count": null,
   "metadata": {},
   "outputs": [],
   "source": [
    "# This is the url you will scrape in this exercise\n",
    "url = 'https://data.gov.uk/'"
   ]
  },
  {
   "cell_type": "code",
   "execution_count": null,
   "metadata": {},
   "outputs": [],
   "source": [
    "#your code "
   ]
  },
  {
   "cell_type": "markdown",
   "metadata": {},
   "source": [
    "#### Top 10 languages by number of native speakers stored in a Pandas Dataframe"
   ]
  },
  {
   "cell_type": "code",
   "execution_count": null,
   "metadata": {},
   "outputs": [],
   "source": [
    "# This is the url you will scrape in this exercise\n",
    "url = 'https://en.wikipedia.org/wiki/List_of_languages_by_number_of_native_speakers'"
   ]
  },
  {
   "cell_type": "code",
   "execution_count": null,
   "metadata": {},
   "outputs": [],
   "source": [
    "#your code"
   ]
  },
  {
   "cell_type": "markdown",
   "metadata": {},
   "source": [
    "### BONUS QUESTIONS"
   ]
  },
  {
   "cell_type": "markdown",
   "metadata": {},
   "source": [
    "#### Scrape a certain number of tweets of a given Twitter account."
   ]
  },
  {
   "cell_type": "code",
   "execution_count": null,
   "metadata": {},
   "outputs": [],
   "source": [
    "# This is the url you will scrape in this exercise \n",
    "# You will need to add the account credentials to this url\n",
    "url = 'https://twitter.com/'"
   ]
  },
  {
   "cell_type": "code",
   "execution_count": null,
   "metadata": {},
   "outputs": [],
   "source": [
    "# your code"
   ]
  },
  {
   "cell_type": "markdown",
   "metadata": {},
   "source": [
    "#### IMDB's Top 250 data (movie name, Initial release, director name and stars) as a pandas dataframe"
   ]
  },
  {
   "cell_type": "code",
   "execution_count": null,
   "metadata": {},
   "outputs": [],
   "source": [
    "# This is the url you will scrape in this exercise \n",
    "url = 'https://www.imdb.com/chart/top'"
   ]
  },
  {
   "cell_type": "code",
   "execution_count": null,
   "metadata": {},
   "outputs": [],
   "source": [
    "# your code"
   ]
  },
  {
   "cell_type": "markdown",
   "metadata": {},
   "source": [
    "#### Movie name, year and a brief summary of the top 10 random movies (IMDB) as a pandas dataframe."
   ]
  },
  {
   "cell_type": "code",
   "execution_count": null,
   "metadata": {},
   "outputs": [],
   "source": [
    "#This is the url you will scrape in this exercise\n",
    "url = 'http://www.imdb.com/chart/top'"
   ]
  },
  {
   "cell_type": "code",
   "execution_count": null,
   "metadata": {},
   "outputs": [],
   "source": [
    "#your code"
   ]
  },
  {
   "cell_type": "markdown",
   "metadata": {},
   "source": [
    "#### Find the live weather report (temperature, wind speed, description and weather) of a given city."
   ]
  },
  {
   "cell_type": "code",
   "execution_count": null,
   "metadata": {},
   "outputs": [],
   "source": [
    "#https://openweathermap.org/current\n",
    "city = city=input('Enter the city:')\n",
    "url = 'http://api.openweathermap.org/data/2.5/weather?'+'q='+city+'&APPID=b35975e18dc93725acb092f7272cc6b8&units=metric'"
   ]
  },
  {
   "cell_type": "code",
   "execution_count": null,
   "metadata": {},
   "outputs": [],
   "source": [
    "# your code"
   ]
  },
  {
   "cell_type": "markdown",
   "metadata": {},
   "source": [
    "#### Book name,price and stock availability as a pandas dataframe."
   ]
  },
  {
   "cell_type": "code",
   "execution_count": null,
   "metadata": {},
   "outputs": [],
   "source": [
    "# This is the url you will scrape in this exercise. \n",
    "# It is a fictional bookstore created to be scraped. \n",
    "url = 'http://books.toscrape.com/'"
   ]
  },
  {
   "cell_type": "code",
   "execution_count": null,
   "metadata": {},
   "outputs": [],
   "source": [
    "#your code"
   ]
  }
 ],
 "metadata": {
  "kernelspec": {
   "display_name": "Python 3",
   "language": "python",
   "name": "python3"
  },
  "language_info": {
   "codemirror_mode": {
    "name": "ipython",
    "version": 3
   },
   "file_extension": ".py",
   "mimetype": "text/x-python",
   "name": "python",
   "nbconvert_exporter": "python",
   "pygments_lexer": "ipython3",
   "version": "3.7.6"
  }
 },
 "nbformat": 4,
 "nbformat_minor": 2
}
