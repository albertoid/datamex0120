{
 "cells": [
  {
   "cell_type": "markdown",
   "metadata": {},
   "source": [
    "# Challenge: Promotions\n",
    "\n",
    "In this challenge, you'll develop codes to parse and analyze data returned from another API on Zalando such as [Promos homme (Men's Promotions)\n",
    "](https://www.zalando.fr/promo-homme/) or [Promos femme (Women's Promotions)](https://www.zalando.fr/promo-femme/). The workflow is almost the same as in the guided lesson but you'll work with different data."
   ]
  },
  {
   "cell_type": "markdown",
   "metadata": {},
   "source": [
    "## Obtaining the link\n",
    "\n",
    "Wrote your codes in the cell below to obtain the data from the API endpoint you choose. A recap of the workflow:\n",
    "\n",
    "1. Examine the webpages and choose one that you want to work with.\n",
    "\n",
    "1. Use Google Chrome's DevTools to inspect the XHR network requests. Find out the API endpoint that serves data to the webpage.\n",
    "\n",
    "1. Test the API endpoint in the browser to verify its data.\n",
    "\n",
    "1. Change the page number offset of the API URL to test if it's working."
   ]
  },
  {
   "cell_type": "code",
   "execution_count": 67,
   "metadata": {},
   "outputs": [],
   "source": [
    "# your code here\n",
    "\n",
    "url='https://datos.cdmx.gob.mx/explore/dataset/ubicacion-acceso-gratuito-internet-wifi-c5/download/?format=json&timezone=America/Mexico_City'"
   ]
  },
  {
   "cell_type": "markdown",
   "metadata": {},
   "source": [
    "## Reading the data\n",
    "\n",
    "In the next cell, use Python to obtain data from the API endpoint you chose in the previous step. Workflow:\n",
    "\n",
    "1. Import libraries.\n",
    "\n",
    "1. Define the initial API endpoint URL.\n",
    "\n",
    "1. Make request to obtain data of the 1st page. Flatten the data and store it in an empty object variable.\n",
    "\n",
    "1. Find out the total page count in the 1st page data.\n",
    "\n",
    "1. Use a FOR loop to make requests for the additional pages from 2 to page count. Append the data of each additional page to the flatterned data object.\n",
    "\n",
    "1. Print and review the data you obtained."
   ]
  },
  {
   "cell_type": "code",
   "execution_count": 68,
   "metadata": {},
   "outputs": [
    {
     "name": "stdout",
     "output_type": "stream",
     "text": [
      "Status URL Request: 200\n"
     ]
    }
   ],
   "source": [
    "# your code here\n",
    "\n",
    "# 1\n",
    "import json\n",
    "import requests\n",
    "import pandas as pd\n",
    "from pandas.io.json import json_normalize\n",
    "\n",
    "#2\n",
    "res=requests.get(url)\n",
    "print('Status URL Request:',res.status_code)\n",
    "\n",
    "response = requests.get(url)\n",
    "results = response.json()\n",
    "\n"
   ]
  },
  {
   "cell_type": "code",
   "execution_count": 15,
   "metadata": {},
   "outputs": [],
   "source": [
    "#results"
   ]
  },
  {
   "cell_type": "code",
   "execution_count": 71,
   "metadata": {},
   "outputs": [
    {
     "name": "stdout",
     "output_type": "stream",
     "text": [
      "(13694, 17)\n"
     ]
    },
    {
     "data": {
      "text/html": [
       "<div>\n",
       "<style scoped>\n",
       "    .dataframe tbody tr th:only-of-type {\n",
       "        vertical-align: middle;\n",
       "    }\n",
       "\n",
       "    .dataframe tbody tr th {\n",
       "        vertical-align: top;\n",
       "    }\n",
       "\n",
       "    .dataframe thead th {\n",
       "        text-align: right;\n",
       "    }\n",
       "</style>\n",
       "<table border=\"1\" class=\"dataframe\">\n",
       "  <thead>\n",
       "    <tr style=\"text-align: right;\">\n",
       "      <th></th>\n",
       "      <th>datasetid</th>\n",
       "      <th>recordid</th>\n",
       "      <th>record_timestamp</th>\n",
       "      <th>fields_latitud</th>\n",
       "      <th>fields_colonia</th>\n",
       "      <th>fields_alcaldia</th>\n",
       "      <th>fields_geopoint</th>\n",
       "      <th>fields_estado_de_conectividad</th>\n",
       "      <th>fields_boton</th>\n",
       "      <th>fields_direccion</th>\n",
       "      <th>fields_esquina</th>\n",
       "      <th>fields_altavoz</th>\n",
       "      <th>fields_tipo_de_poste</th>\n",
       "      <th>fields_longitud</th>\n",
       "      <th>fields_estatus_conectividad</th>\n",
       "      <th>geometry_type</th>\n",
       "      <th>geometry_coordinates</th>\n",
       "    </tr>\n",
       "  </thead>\n",
       "  <tbody>\n",
       "    <tr>\n",
       "      <th>0</th>\n",
       "      <td>ubicacion-acceso-gratuito-internet-wifi-c5</td>\n",
       "      <td>e890909923ca03d6760cac82fdf6b2d26aaf79fc</td>\n",
       "      <td>2020-01-15T13:49:47.260-06:00</td>\n",
       "      <td>19.434374</td>\n",
       "      <td>CENTRO</td>\n",
       "      <td>CUAUHTEMOC</td>\n",
       "      <td>[19.434374, -99.142704]</td>\n",
       "      <td>WIFI GRATUITO_ACTIVO</td>\n",
       "      <td>SIN BOTON</td>\n",
       "      <td>AV. JUAREZ</td>\n",
       "      <td>C. DOLORES</td>\n",
       "      <td>CON ALTAVOZ</td>\n",
       "      <td>9m</td>\n",
       "      <td>-99.142704</td>\n",
       "      <td>WIFI GRATUITO_ACTIVO</td>\n",
       "      <td>Point</td>\n",
       "      <td>[-99.142704, 19.434374]</td>\n",
       "    </tr>\n",
       "    <tr>\n",
       "      <th>1</th>\n",
       "      <td>ubicacion-acceso-gratuito-internet-wifi-c5</td>\n",
       "      <td>4afc78c3cf811ae53692e8c47b4e8d6149fc7bc8</td>\n",
       "      <td>2020-01-15T13:49:47.260-06:00</td>\n",
       "      <td>19.432311</td>\n",
       "      <td>CENTRO</td>\n",
       "      <td>CUAUHTEMOC</td>\n",
       "      <td>[19.432311, -99.12703]</td>\n",
       "      <td>WIFI GRATUITO_ACTIVO</td>\n",
       "      <td>CON BOTON</td>\n",
       "      <td>C. SOLEDAD</td>\n",
       "      <td>ESQ.  C. SANTISIMA</td>\n",
       "      <td>CON ALTAVOZ</td>\n",
       "      <td>9m</td>\n",
       "      <td>-99.127030</td>\n",
       "      <td>WIFI GRATUITO_ACTIVO</td>\n",
       "      <td>Point</td>\n",
       "      <td>[-99.12703, 19.432311]</td>\n",
       "    </tr>\n",
       "    <tr>\n",
       "      <th>2</th>\n",
       "      <td>ubicacion-acceso-gratuito-internet-wifi-c5</td>\n",
       "      <td>b8c2fc560fcd9011a514c9b3e648a5a571dd6efc</td>\n",
       "      <td>2020-01-15T13:49:47.260-06:00</td>\n",
       "      <td>19.434369</td>\n",
       "      <td>CENTRO</td>\n",
       "      <td>CUAUHTEMOC</td>\n",
       "      <td>[19.434369, -99.127634]</td>\n",
       "      <td>WIFI GRATUITO_ACTIVO</td>\n",
       "      <td>CON BOTON</td>\n",
       "      <td>C. REPUBLICA DE GUATEMALA</td>\n",
       "      <td>C. LORETO</td>\n",
       "      <td>CON ALTAVOZ</td>\n",
       "      <td>9m</td>\n",
       "      <td>-99.127634</td>\n",
       "      <td>WIFI GRATUITO_ACTIVO</td>\n",
       "      <td>Point</td>\n",
       "      <td>[-99.127634, 19.434369]</td>\n",
       "    </tr>\n",
       "    <tr>\n",
       "      <th>3</th>\n",
       "      <td>ubicacion-acceso-gratuito-internet-wifi-c5</td>\n",
       "      <td>97ac878e5331e71b54f4d0f955717e67812d9eb3</td>\n",
       "      <td>2020-01-15T13:49:47.260-06:00</td>\n",
       "      <td>19.548879</td>\n",
       "      <td>CHALMA DE GUADALUPE</td>\n",
       "      <td>GUSTAVO A. MADERO</td>\n",
       "      <td>[19.548879, -99.159368]</td>\n",
       "      <td>WIFI GRATUITO_ACTIVO</td>\n",
       "      <td>CON BOTON</td>\n",
       "      <td>C. PUREPECHA</td>\n",
       "      <td>C. RIO DE LA LAJA</td>\n",
       "      <td>CON ALTAVOZ</td>\n",
       "      <td>9m</td>\n",
       "      <td>-99.159368</td>\n",
       "      <td>WIFI GRATUITO_ACTIVO</td>\n",
       "      <td>Point</td>\n",
       "      <td>[-99.159368, 19.548879]</td>\n",
       "    </tr>\n",
       "    <tr>\n",
       "      <th>4</th>\n",
       "      <td>ubicacion-acceso-gratuito-internet-wifi-c5</td>\n",
       "      <td>df6aede81123de2b2951ec02e949e9d665b954d8</td>\n",
       "      <td>2020-01-15T13:49:47.260-06:00</td>\n",
       "      <td>19.544997</td>\n",
       "      <td>TLAPEXCO</td>\n",
       "      <td>GUSTAVO A. MADERO</td>\n",
       "      <td>[19.544997, -99.131155]</td>\n",
       "      <td>WIFI GRATUITO_ACTIVO</td>\n",
       "      <td>CON BOTON</td>\n",
       "      <td>AVENIDA AHUEHUETES</td>\n",
       "      <td>C. AHUEHUETES</td>\n",
       "      <td>CON ALTAVOZ</td>\n",
       "      <td>9m</td>\n",
       "      <td>-99.131155</td>\n",
       "      <td>WIFI GRATUITO_ACTIVO</td>\n",
       "      <td>Point</td>\n",
       "      <td>[-99.131155, 19.544997]</td>\n",
       "    </tr>\n",
       "  </tbody>\n",
       "</table>\n",
       "</div>"
      ],
      "text/plain": [
       "                                    datasetid  \\\n",
       "0  ubicacion-acceso-gratuito-internet-wifi-c5   \n",
       "1  ubicacion-acceso-gratuito-internet-wifi-c5   \n",
       "2  ubicacion-acceso-gratuito-internet-wifi-c5   \n",
       "3  ubicacion-acceso-gratuito-internet-wifi-c5   \n",
       "4  ubicacion-acceso-gratuito-internet-wifi-c5   \n",
       "\n",
       "                                   recordid               record_timestamp  \\\n",
       "0  e890909923ca03d6760cac82fdf6b2d26aaf79fc  2020-01-15T13:49:47.260-06:00   \n",
       "1  4afc78c3cf811ae53692e8c47b4e8d6149fc7bc8  2020-01-15T13:49:47.260-06:00   \n",
       "2  b8c2fc560fcd9011a514c9b3e648a5a571dd6efc  2020-01-15T13:49:47.260-06:00   \n",
       "3  97ac878e5331e71b54f4d0f955717e67812d9eb3  2020-01-15T13:49:47.260-06:00   \n",
       "4  df6aede81123de2b2951ec02e949e9d665b954d8  2020-01-15T13:49:47.260-06:00   \n",
       "\n",
       "   fields_latitud       fields_colonia    fields_alcaldia  \\\n",
       "0       19.434374               CENTRO         CUAUHTEMOC   \n",
       "1       19.432311               CENTRO         CUAUHTEMOC   \n",
       "2       19.434369               CENTRO         CUAUHTEMOC   \n",
       "3       19.548879  CHALMA DE GUADALUPE  GUSTAVO A. MADERO   \n",
       "4       19.544997             TLAPEXCO  GUSTAVO A. MADERO   \n",
       "\n",
       "           fields_geopoint fields_estado_de_conectividad fields_boton  \\\n",
       "0  [19.434374, -99.142704]          WIFI GRATUITO_ACTIVO    SIN BOTON   \n",
       "1   [19.432311, -99.12703]          WIFI GRATUITO_ACTIVO    CON BOTON   \n",
       "2  [19.434369, -99.127634]          WIFI GRATUITO_ACTIVO    CON BOTON   \n",
       "3  [19.548879, -99.159368]          WIFI GRATUITO_ACTIVO    CON BOTON   \n",
       "4  [19.544997, -99.131155]          WIFI GRATUITO_ACTIVO    CON BOTON   \n",
       "\n",
       "            fields_direccion      fields_esquina fields_altavoz  \\\n",
       "0                 AV. JUAREZ          C. DOLORES    CON ALTAVOZ   \n",
       "1                 C. SOLEDAD  ESQ.  C. SANTISIMA    CON ALTAVOZ   \n",
       "2  C. REPUBLICA DE GUATEMALA           C. LORETO    CON ALTAVOZ   \n",
       "3               C. PUREPECHA   C. RIO DE LA LAJA    CON ALTAVOZ   \n",
       "4         AVENIDA AHUEHUETES       C. AHUEHUETES    CON ALTAVOZ   \n",
       "\n",
       "  fields_tipo_de_poste  fields_longitud fields_estatus_conectividad  \\\n",
       "0                   9m       -99.142704        WIFI GRATUITO_ACTIVO   \n",
       "1                   9m       -99.127030        WIFI GRATUITO_ACTIVO   \n",
       "2                   9m       -99.127634        WIFI GRATUITO_ACTIVO   \n",
       "3                   9m       -99.159368        WIFI GRATUITO_ACTIVO   \n",
       "4                   9m       -99.131155        WIFI GRATUITO_ACTIVO   \n",
       "\n",
       "  geometry_type     geometry_coordinates  \n",
       "0         Point  [-99.142704, 19.434374]  \n",
       "1         Point   [-99.12703, 19.432311]  \n",
       "2         Point  [-99.127634, 19.434369]  \n",
       "3         Point  [-99.159368, 19.548879]  \n",
       "4         Point  [-99.131155, 19.544997]  "
      ]
     },
     "execution_count": 71,
     "metadata": {},
     "output_type": "execute_result"
    }
   ],
   "source": [
    "f_data = json_normalize(results,sep='_')\n",
    "\n",
    "print(f_data.shape)\n",
    "f_data.head()"
   ]
  },
  {
   "cell_type": "code",
   "execution_count": 76,
   "metadata": {},
   "outputs": [
    {
     "data": {
      "text/plain": [
       "(10044, 17)"
      ]
     },
     "execution_count": 76,
     "metadata": {},
     "output_type": "execute_result"
    }
   ],
   "source": [
    "boton = f_data['fields_boton'] == 'CON BOTON'\n",
    "f_data[boton].shape"
   ]
  },
  {
   "cell_type": "markdown",
   "metadata": {},
   "source": [
    "## Bonus\n",
    "\n",
    "Extract the following information from the data:\n",
    "\n",
    "* The trending brand.\n",
    "\n",
    "* The product(s) with the highest discount.\n",
    "\n",
    "* The sum of discounts of all goods (sum_discounted_prices divided by sum_original_prices)."
   ]
  },
  {
   "cell_type": "code",
   "execution_count": null,
   "metadata": {},
   "outputs": [],
   "source": []
  },
  {
   "cell_type": "code",
   "execution_count": null,
   "metadata": {},
   "outputs": [],
   "source": [
    "# your code here"
   ]
  }
 ],
 "metadata": {
  "kernelspec": {
   "display_name": "Python 3",
   "language": "python",
   "name": "python3"
  },
  "language_info": {
   "codemirror_mode": {
    "name": "ipython",
    "version": 3
   },
   "file_extension": ".py",
   "mimetype": "text/x-python",
   "name": "python",
   "nbconvert_exporter": "python",
   "pygments_lexer": "ipython3",
   "version": "3.7.6"
  }
 },
 "nbformat": 4,
 "nbformat_minor": 2
}
