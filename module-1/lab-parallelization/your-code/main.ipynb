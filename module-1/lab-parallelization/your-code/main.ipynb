{
 "cells": [
  {
   "cell_type": "markdown",
   "metadata": {},
   "source": [
    "# Parallelization Lab\n",
    "\n",
    "In this lab, you will be leveraging several concepts you have learned to obtain a list of links from a web page and crawl and index the pages referenced by those links - both sequentially and in parallel. Follow the steps below to complete the lab."
   ]
  },
  {
   "cell_type": "markdown",
   "metadata": {},
   "source": [
    "## Step 1: Use the requests library to retrieve the content from the URL below."
   ]
  },
  {
   "cell_type": "code",
   "execution_count": 1,
   "metadata": {},
   "outputs": [],
   "source": [
    "import requests\n",
    "\n",
    "url = 'https://en.wikipedia.org/wiki/Data_science'"
   ]
  },
  {
   "cell_type": "code",
   "execution_count": 14,
   "metadata": {},
   "outputs": [
    {
     "data": {
      "text/plain": [
       "200"
      ]
     },
     "execution_count": 14,
     "metadata": {},
     "output_type": "execute_result"
    }
   ],
   "source": [
    "r = requests.get(url)\n",
    "r.status_code\n",
    "#r.content"
   ]
  },
  {
   "cell_type": "markdown",
   "metadata": {},
   "source": [
    "## Step 2: Use BeautifulSoup to extract a list of all the unique links on the page."
   ]
  },
  {
   "cell_type": "code",
   "execution_count": 127,
   "metadata": {},
   "outputs": [],
   "source": [
    "from bs4 import BeautifulSoup as bs"
   ]
  },
  {
   "cell_type": "code",
   "execution_count": 138,
   "metadata": {},
   "outputs": [
    {
     "name": "stdout",
     "output_type": "stream",
     "text": [
      "Todas las ligas encontradas en las etiquetas a: 470\n",
      "Ligas despùes de eliminar duplicados 414\n"
     ]
    }
   ],
   "source": [
    "#Extraer las etiquetas <a> con href\n",
    "sopa = bs(r.text,'lxml')\n",
    "links=[a for a in sopa.find_all('a', href=True)]\n",
    "print('Todas las ligas encontradas en las etiquetas a:' ,len(links))\n",
    "links = set(links)\n",
    "links = list(links)\n",
    "print('Ligas despùes de eliminar duplicados', len(links))"
   ]
  },
  {
   "cell_type": "markdown",
   "metadata": {},
   "source": [
    "## Step 3: Use list comprehensions with conditions to clean the link list.\n",
    "\n",
    "There are two types of links, absolute and relative. Absolute links have the full URL and begin with http while relative links begin with a forward slash (/) and point to an internal page within the wikipedia.org domain. Clean the respective types of URLs as follows.\n",
    "\n",
    "- Absolute Links: Create a list of these and remove any that contain a percentage sign (%).\n",
    "- Relativel Links: Create a list of these, add the domain to the link so that you have the full URL, and remove any that contain a percentage sign (%).\n",
    "- Combine the list of absolute and relative links and ensure there are no duplicates."
   ]
  },
  {
   "cell_type": "code",
   "execution_count": 213,
   "metadata": {},
   "outputs": [],
   "source": [
    "domain = 'http://wikipedia.org'"
   ]
  },
  {
   "cell_type": "code",
   "execution_count": 214,
   "metadata": {},
   "outputs": [
    {
     "name": "stdout",
     "output_type": "stream",
     "text": [
      "Links extraidos de la sopa: 69\n"
     ]
    }
   ],
   "source": [
    "#Absolute Links  - Extraer las etiquetas \"a\" con class \"external text\"\n",
    "sopa = bs(r.text,'lxml')\n",
    "links_abs=[a for a in sopa.find_all('a', {'class':'external text'})]\n",
    "print('Links extraidos de la sopa:',len(links_abs))\n"
   ]
  },
  {
   "cell_type": "code",
   "execution_count": 215,
   "metadata": {},
   "outputs": [
    {
     "name": "stdout",
     "output_type": "stream",
     "text": [
      "Totalidad de Links absolutos: 69\n",
      "Totalidad de Links absolutos sin %: 60\n",
      "Links absolutos únicos: 58\n"
     ]
    }
   ],
   "source": [
    "#Quitar etiquetas y href y title con su texto\n",
    "for i in range(len(links_abs)):\n",
    "    links_abs[i] = str(links_abs[i])\n",
    "    links_abs[i] = links_abs[i].replace('<a class=\"external text\" href=\"','')\n",
    "    fin = links_abs[i].find('\"')\n",
    "    links_abs[i] = links_abs[i][:fin]\n",
    "print('Totalidad de Links absolutos:',len(links_abs))\n",
    "#Quirar las que tinen %\n",
    "for i in range(len(links_abs)):\n",
    "    if links_abs[i].find('%') >= 0:\n",
    "        links_abs[i] = False\n",
    "\n",
    "for i in range(links_abs.count(False)):\n",
    "    links_abs.remove(False)\n",
    "\n",
    "print('Totalidad de Links absolutos sin %:',len(links_abs))\n",
    "\n",
    "links_abs = set(links_abs)\n",
    "links_abs = list(links_abs)\n",
    "print('Links absolutos únicos:',len(links_abs))    \n"
   ]
  },
  {
   "cell_type": "code",
   "execution_count": 216,
   "metadata": {
    "scrolled": true
   },
   "outputs": [
    {
     "name": "stdout",
     "output_type": "stream",
     "text": [
      "Links extraidos de la sopa: 470\n"
     ]
    }
   ],
   "source": [
    "#Relative - Links: Marcar como false todo lo que no empieze con <a href=\n",
    "sopa = bs(r.text,'lxml')\n",
    "links=[a for a in sopa.find_all('a', href=True)]\n",
    "print('Links extraidos de la sopa:',len(links))"
   ]
  },
  {
   "cell_type": "code",
   "execution_count": 217,
   "metadata": {},
   "outputs": [
    {
     "name": "stdout",
     "output_type": "stream",
     "text": [
      "Despues de quitar los que no son ligas relativas y que tienen % quedan: 205\n"
     ]
    }
   ],
   "source": [
    "#Marcar los que no empiezan con '<a href=\"/wiki/' y que tienen %\n",
    "\n",
    "for i in range(len(links)):\n",
    "    links[i]=str(links[i])\n",
    "    if links[i].find('<a href=\"/wiki/') !=0 or links[i].find('%') >= 0:\n",
    "        links[i]=False\n",
    "\n",
    "#Remover de la lista los False\n",
    "for i in range(links.count(False)):\n",
    "    links.remove(False)\n",
    "print('Despues de quitar los que no son ligas relativas y que tienen % quedan:',len(links))"
   ]
  },
  {
   "cell_type": "code",
   "execution_count": 218,
   "metadata": {},
   "outputs": [],
   "source": [
    "#Quitar etiquetas y href y title con su texto\n",
    "for i in range(len(links)):\n",
    "    links[i]=links[i].replace('<a href=\"/wiki',domain)\n",
    "    fin=links[i].find('\"')\n",
    "    links[i]=links[i][:fin]"
   ]
  },
  {
   "cell_type": "code",
   "execution_count": 219,
   "metadata": {},
   "outputs": [
    {
     "name": "stdout",
     "output_type": "stream",
     "text": [
      "Links relativos extraidos: 205\n",
      "Links relativos unicos: 157\n"
     ]
    }
   ],
   "source": [
    "print('Links relativos extraidos:',len(links))\n",
    "links = set(links)\n",
    "links = list(links)\n",
    "print('Links relativos unicos:',len(links))"
   ]
  },
  {
   "cell_type": "code",
   "execution_count": 220,
   "metadata": {},
   "outputs": [
    {
     "name": "stdout",
     "output_type": "stream",
     "text": [
      "Total de links: 215\n"
     ]
    }
   ],
   "source": [
    "for i in range(len(links_abs)):\n",
    "    links.append(links_abs[i]) \n",
    "print('Total de links:',len(links))\n"
   ]
  },
  {
   "cell_type": "code",
   "execution_count": 221,
   "metadata": {},
   "outputs": [
    {
     "data": {
      "text/plain": [
       "['http://wikipedia.org/Wikipedia:Featured_content',\n",
       " 'http://wikipedia.org/Independent_component_analysis',\n",
       " 'http://wikipedia.org/Autoencoder',\n",
       " 'http://wikipedia.org/Peter_Naur',\n",
       " 'http://wikipedia.org/Association_rule_learning',\n",
       " 'http://wikipedia.org/Data_analysis',\n",
       " 'http://wikipedia.org/National_Institutes_of_Health',\n",
       " 'http://wikipedia.org/Long_short-term_memory',\n",
       " 'http://wikipedia.org/Conditional_random_field',\n",
       " 'http://wikipedia.org/Thomas_H._Davenport',\n",
       " 'http://wikipedia.org/Category:Data_analysis',\n",
       " 'http://wikipedia.org/Convolutional_neural_network',\n",
       " 'http://wikipedia.org/International_Standard_Serial_Number',\n",
       " 'http://wikipedia.org/Prasanta_Chandra_Mahalanobis',\n",
       " 'http://wikipedia.org/Portal:Current_events',\n",
       " 'http://wikipedia.org/Special:BookSources/0-12-241770-4',\n",
       " 'http://wikipedia.org/Machine_learning',\n",
       " 'http://wikipedia.org/Database',\n",
       " 'http://wikipedia.org/Hierarchical_clustering',\n",
       " 'http://wikipedia.org/Information_explosion',\n",
       " 'http://wikipedia.org/Unsupervised_learning',\n",
       " 'http://wikipedia.org/Statistical_learning_theory',\n",
       " 'http://wikipedia.org/Online_machine_learning',\n",
       " 'http://wikipedia.org/DeepDream',\n",
       " 'http://wikipedia.org/Regression_analysis',\n",
       " 'http://wikipedia.org/Discipline_(academia)',\n",
       " 'http://wikipedia.org/Generative_adversarial_network',\n",
       " 'http://wikipedia.org/Factor_analysis',\n",
       " 'http://wikipedia.org/List_of_datasets_for_machine-learning_research',\n",
       " 'http://wikipedia.org/Information_science',\n",
       " 'http://wikipedia.org/Unstructured_data',\n",
       " 'http://wikipedia.org/Help:Contents',\n",
       " 'http://wikipedia.org/U-Net',\n",
       " 'http://wikipedia.org/Journal_of_Machine_Learning_Research',\n",
       " 'http://wikipedia.org/Paradigm',\n",
       " 'http://wikipedia.org/Random_forest',\n",
       " 'http://wikipedia.org/NYU_Stern_Center_for_Business_and_Human_Rights',\n",
       " 'http://wikipedia.org/BIRCH',\n",
       " 'http://wikipedia.org/Support-vector_machine',\n",
       " 'http://wikipedia.org/OPTICS_algorithm',\n",
       " 'http://wikipedia.org/Theory',\n",
       " 'http://wikipedia.org/Jeffrey_T._Leek',\n",
       " 'http://wikipedia.org/Boosting_(machine_learning)',\n",
       " 'http://wikipedia.org/International_Standard_Book_Number',\n",
       " 'http://wikipedia.org/Computing',\n",
       " 'http://wikipedia.org/University_of_Michigan',\n",
       " 'http://wikipedia.org/Hidden_Markov_model',\n",
       " 'http://wikipedia.org/Basic_research',\n",
       " 'http://wikipedia.org/Semi-supervised_learning',\n",
       " 'http://wikipedia.org/Glossary_of_artificial_intelligence',\n",
       " 'http://wikipedia.org/Analytics',\n",
       " 'http://wikipedia.org/New_York_University',\n",
       " 'http://wikipedia.org/Feature_engineering',\n",
       " 'http://wikipedia.org/Graphical_model',\n",
       " 'http://wikipedia.org/Bootstrap_aggregating',\n",
       " 'http://wikipedia.org/Wayback_Machine',\n",
       " 'http://wikipedia.org/Computational_learning_theory',\n",
       " 'http://wikipedia.org/Structured_prediction',\n",
       " 'http://wikipedia.org/Principal_component_analysis',\n",
       " 'http://wikipedia.org/Temporal_difference_learning',\n",
       " 'http://wikipedia.org/Indian_Statistical_Institute',\n",
       " 'http://wikipedia.org/Social_science',\n",
       " 'http://wikipedia.org/Digital_object_identifier',\n",
       " 'http://wikipedia.org/Probably_approximately_correct_learning',\n",
       " 'http://wikipedia.org/Distributed_computing',\n",
       " 'http://wikipedia.org/Ensemble_learning',\n",
       " 'http://wikipedia.org/Non-negative_matrix_factorization',\n",
       " 'http://wikipedia.org/Logistic_regression',\n",
       " 'http://wikipedia.org/Methodology',\n",
       " 'http://wikipedia.org/Knowledge',\n",
       " 'http://wikipedia.org/The_Wall_Street_Journal',\n",
       " 'http://wikipedia.org/Anomaly_detection',\n",
       " 'http://wikipedia.org/Occam_learning',\n",
       " 'http://wikipedia.org/American_Statistical_Association',\n",
       " 'http://wikipedia.org/Montpellier_2_University',\n",
       " 'http://wikipedia.org/Academic_journal',\n",
       " 'http://wikipedia.org/PubMed_Central',\n",
       " 'http://wikipedia.org/Restricted_Boltzmann_machine',\n",
       " 'http://wikipedia.org/Linear_regression',\n",
       " 'http://wikipedia.org/Wikipedia:Community_portal',\n",
       " 'http://wikipedia.org/Empirical_risk_minimization',\n",
       " 'http://wikipedia.org/Data_science',\n",
       " 'http://wikipedia.org/Pattern_recognition',\n",
       " 'http://wikipedia.org/Academy',\n",
       " 'http://wikipedia.org/Decision_tree_learning',\n",
       " 'http://wikipedia.org/Relevance_vector_machine',\n",
       " 'http://wikipedia.org/Linear_discriminant_analysis',\n",
       " 'http://wikipedia.org/Self-organizing_map',\n",
       " 'http://wikipedia.org/Q-learning',\n",
       " 'http://wikipedia.org/Recurrent_neural_network',\n",
       " 'http://wikipedia.org/Machine_Learning_(journal)',\n",
       " 'http://wikipedia.org/Computational_science',\n",
       " 'http://wikipedia.org/Deep_learning',\n",
       " 'http://wikipedia.org/Jeff_Hammerbacher',\n",
       " 'http://wikipedia.org/David_Donoho',\n",
       " 'http://wikipedia.org/Academic_publishing',\n",
       " 'http://wikipedia.org/Conference_on_Neural_Information_Processing_Systems',\n",
       " 'http://wikipedia.org/Open_science',\n",
       " 'http://wikipedia.org/Category:Computational_fields_of_study',\n",
       " 'http://wikipedia.org/Interdisciplinarity',\n",
       " 'http://wikipedia.org/Category:Information_science',\n",
       " 'http://wikipedia.org/Computer_science',\n",
       " 'http://wikipedia.org/K-nearest_neighbors_algorithm',\n",
       " 'http://wikipedia.org/Gated_recurrent_unit',\n",
       " 'http://wikipedia.org/Graduate_school',\n",
       " 'http://wikipedia.org/Dimensionality_reduction',\n",
       " 'http://wikipedia.org/Naive_Bayes_classifier',\n",
       " 'http://wikipedia.org/Grammar_induction',\n",
       " 'http://wikipedia.org/Mathematics',\n",
       " 'http://wikipedia.org/Wikipedia:Citation_needed',\n",
       " 'http://wikipedia.org/Jim_Gray_(computer_scientist)',\n",
       " 'http://wikipedia.org/DJ_Patil',\n",
       " 'http://wikipedia.org/Feature_learning',\n",
       " 'http://wikipedia.org/Statistical_theory',\n",
       " 'http://wikipedia.org/Data_set',\n",
       " 'http://wikipedia.org/Help:Category',\n",
       " 'http://wikipedia.org/Multilayer_perceptron',\n",
       " 'http://wikipedia.org/Reinforcement_learning',\n",
       " 'http://wikipedia.org/Outline_of_machine_learning',\n",
       " 'http://wikipedia.org/Template_talk:Machine_learning_bar',\n",
       " 'http://wikipedia.org/T-distributed_stochastic_neighbor_embedding',\n",
       " 'http://wikipedia.org/K-means_clustering',\n",
       " 'http://wikipedia.org/Predictive_modelling',\n",
       " 'http://wikipedia.org/Category:Computer_occupations',\n",
       " 'http://wikipedia.org/Statistician',\n",
       " 'http://wikipedia.org/Industry',\n",
       " 'http://wikipedia.org/DBSCAN',\n",
       " 'http://wikipedia.org/Learning_to_rank',\n",
       " 'http://wikipedia.org/Big_data',\n",
       " 'http://wikipedia.org/Statistics',\n",
       " 'http://wikipedia.org/Harvard_Business_Review',\n",
       " 'http://wikipedia.org/Category:Articles_with_unsourced_statements_from_April_2018',\n",
       " 'http://wikipedia.org/General_Assembly_(school)',\n",
       " 'http://wikipedia.org/Wikipedia:General_disclaimer',\n",
       " 'http://wikipedia.org/Empirical_research',\n",
       " 'http://wikipedia.org/Special:BookSources/9784431702085',\n",
       " 'http://wikipedia.org/International_Conference_on_Machine_Learning',\n",
       " 'http://wikipedia.org/Bayesian_network',\n",
       " 'http://wikipedia.org/Special:BookSources/978-0-9825442-0-4',\n",
       " 'http://wikipedia.org/Statistical_classification',\n",
       " 'http://wikipedia.org/Category:All_articles_with_unsourced_statements',\n",
       " 'http://wikipedia.org/Perceptron',\n",
       " 'http://wikipedia.org/Template:Machine_learning_bar',\n",
       " 'http://wikipedia.org/Applied_science',\n",
       " 'http://wikipedia.org/Local_outlier_factor',\n",
       " 'http://wikipedia.org/University_of_Essex',\n",
       " 'http://wikipedia.org/Automated_machine_learning',\n",
       " 'http://wikipedia.org/Nate_Silver',\n",
       " 'http://wikipedia.org/Data_mining',\n",
       " 'http://wikipedia.org/Cluster_analysis',\n",
       " 'http://wikipedia.org/Category:Use_dmy_dates_from_December_2012',\n",
       " 'http://wikipedia.org/Wikipedia:Contents',\n",
       " 'http://wikipedia.org/Category:Webarchive_template_wayback_links',\n",
       " 'http://wikipedia.org/Wikipedia:About',\n",
       " 'http://wikipedia.org/Artificial_neural_network',\n",
       " 'http://wikipedia.org/Supervised_learning',\n",
       " 'http://wikipedia.org/The_Data_Incubator',\n",
       " 'https://web.archive.org/web/20180323043716/http://dsaa.co/',\n",
       " 'https://web.archive.org/web/20141109113411/http://cacm.acm.org/magazines/2013/12/169933-data-science-and-prediction/fulltext',\n",
       " '//pubmed.ncbi.nlm.nih.gov/24482835',\n",
       " 'https://web.archive.org/web/20170329172857/http://datamining.it.uts.edu.au/conferences/dsaa14/',\n",
       " 'https://www.springer.com/book/9784431702085',\n",
       " 'https://web.archive.org/web/20130703121219/http://www.nsf.gov/pubs/2005/nsb0540/',\n",
       " 'https://web.archive.org/web/20180619003326/http://courses.csail.mit.edu/18.337/2015/docs/50YearsDataScience.pdf',\n",
       " 'https://web.archive.org/web/20180426153402/https://www.nytimes.com/2009/12/15/science/15books.html',\n",
       " '//www.worldcat.org/issn/0362-4331',\n",
       " 'https://web.archive.org/web/20170205101231/http://magazine.amstat.org/blog/2016/06/01/datascience-2/',\n",
       " 'http://simplystatistics.org/2013/12/12/the-key-word-in-data-science-is-not-data-it-is-science/',\n",
       " 'http://www.statisticsviews.com/details/feature/5133141/Nate-Silver-What-I-need-from-statisticians.html',\n",
       " 'https://web.archive.org/web/20141014022300/http://www2.isye.gatech.edu/~jeffwu/presentations/datascience.pdf',\n",
       " '//www.worldcat.org/issn/1465-4644',\n",
       " 'https://web.archive.org/web/20171124155559/https://blogs.wsj.com/cio/2014/05/02/why-do-we-need-data-science-when-weve-had-statistics-for-centuries/',\n",
       " '//www.worldcat.org/issn/0028-0836',\n",
       " 'https://web.archive.org/web/20131029191813/http://www.isical.ac.in/~statmath/html/pcm/pcm_recent.html',\n",
       " 'https://www.springer.com/41060',\n",
       " 'http://www2.isye.gatech.edu/~jeffwu/presentations/datascience.pdf',\n",
       " '//www.worldcat.org/issn/0036-8075',\n",
       " 'http://www.isical.ac.in/~statmath/html/pcm/pcm_recent.html',\n",
       " 'https://web.archive.org/web/20120822033955/http://www.jds-online.com/v1-1',\n",
       " 'http://www.nsf.gov/pubs/2005/nsb0540/',\n",
       " 'https://blogs.wsj.com/cio/2014/05/02/why-do-we-need-data-science-when-weve-had-statistics-for-centuries/',\n",
       " 'http://www.gfkl.org/welcome/',\n",
       " 'http://courses.csail.mit.edu/18.337/2015/docs/50YearsDataScience.pdf',\n",
       " 'http://www.dsaa.co',\n",
       " 'https://web.archive.org/web/20160215235820/http://venturebeat.com/2014/04/15/ny-gets-new-bootcamp-for-data-scientists-its-free-but-harder-to-get-into-than-harvard/',\n",
       " 'https://web.archive.org/web/20140102194117/http://simplystatistics.org/2013/12/12/the-key-word-in-data-science-is-not-data-it-is-science/',\n",
       " '//pubmed.ncbi.nlm.nih.gov/19535325',\n",
       " 'https://web.archive.org/web/20131029200232/http://ur.umich.edu/9899/Nov09_98/4.htm',\n",
       " 'https://hbr.org/2012/10/data-scientist-the-sexiest-job-of-the-21st-century/',\n",
       " 'https://www.nytimes.com/2009/12/15/science/15books.html',\n",
       " 'http://magazine.amstat.org/blog/2016/06/01/datascience-2/',\n",
       " 'https://web.archive.org/web/20120403153707/http://www.jstage.jst.go.jp/browse/dsj/_vols',\n",
       " 'https://web.archive.org/web/20170911223224/https://www.forbes.com/sites/gilpress/2013/05/28/a-very-short-history-of-data-science/',\n",
       " 'https://web.archive.org/web/20090609022730/http://www.jstage.jst.go.jp/browse/dsj/1/0/_contents',\n",
       " 'https://web.archive.org/web/20170320193019/https://books.google.com/books?id=oGs_AQAAIAAJ',\n",
       " 'https://arxiv.org/list/cs.LG/recent',\n",
       " 'https://web.archive.org/web/20180215023354/https://pdfs.semanticscholar.org/915c/d8e2b39eb02723553913d592b2237d4d9960.pdf',\n",
       " 'http://cacm.acm.org/magazines/2013/12/169933-data-science-and-prediction/fulltext',\n",
       " 'https://web.archive.org/web/20190620184935/https://magazine.amstat.org/blog/2015/10/01/asa-statement-on-the-role-of-statistics-in-data-science/',\n",
       " 'http://datamining.it.uts.edu.au/conferences/dsaa14/',\n",
       " 'https://web.archive.org/web/20080511160948/http://www.codata.org/',\n",
       " 'https://books.google.com/books?id=oGs_AQAAIAAJ',\n",
       " 'https://en.wikipedia.org/w/index.php?title=Template:Machine_learning_bar&amp;action=edit',\n",
       " 'https://web.archive.org/web/20160202061421/https://hbr.org/2012/10/data-scientist-the-sexiest-job-of-the-21st-century/',\n",
       " 'https://venturebeat.com/2014/04/15/ny-gets-new-bootcamp-for-data-scientists-its-free-but-harder-to-get-into-than-harvard/',\n",
       " '//www.ncbi.nlm.nih.gov/pmc/articles/PMC4058759',\n",
       " 'https://magazine.amstat.org/blog/2015/10/01/asa-statement-on-the-role-of-statistics-in-data-science/',\n",
       " 'https://web.archive.org/web/20130823091106/http://www.statisticsviews.com/details/feature/5133141/Nate-Silver-What-I-need-from-statisticians.html',\n",
       " 'https://pdfs.semanticscholar.org/915c/d8e2b39eb02723553913d592b2237d4d9960.pdf',\n",
       " '//www.worldcat.org/issn/0960-3174',\n",
       " '//pubmed.ncbi.nlm.nih.gov/24436391',\n",
       " 'http://ur.umich.edu/9899/Nov09_98/4.htm',\n",
       " '//pubmed.ncbi.nlm.nih.gov/19265007',\n",
       " 'http://euads.org',\n",
       " 'https://www.forbes.com/sites/gilpress/2013/05/28/a-very-short-history-of-data-science/']"
      ]
     },
     "execution_count": 221,
     "metadata": {},
     "output_type": "execute_result"
    }
   ],
   "source": [
    "links"
   ]
  },
  {
   "cell_type": "markdown",
   "metadata": {},
   "source": [
    "## Step 4: Use the os library to create a folder called *wikipedia* and make that the current working directory."
   ]
  },
  {
   "cell_type": "code",
   "execution_count": null,
   "metadata": {},
   "outputs": [],
   "source": [
    "import os"
   ]
  },
  {
   "cell_type": "code",
   "execution_count": null,
   "metadata": {},
   "outputs": [],
   "source": []
  },
  {
   "cell_type": "markdown",
   "metadata": {},
   "source": [
    "## Step 5: Write a function called index_page that accepts a link and does the following.\n",
    "\n",
    "- Tries to request the content of the page referenced by that link.\n",
    "- Slugifies the filename using the `slugify` function from the [python-slugify](https://pypi.org/project/python-slugify/) library and adds a .html file extension.\n",
    "    - If you don't already have the python-slugify library installed, you can pip install it as follows: `$ pip install python-slugify`.\n",
    "    - To import the slugify function, you would do the following: `from slugify import slugify`.\n",
    "    - You can then slugify a link as follows `slugify(link)`.\n",
    "- Creates a file in the wikipedia folder using the slugified filename and writes the contents of the page to the file.\n",
    "- If an exception occurs during the process above, just `pass`."
   ]
  },
  {
   "cell_type": "code",
   "execution_count": null,
   "metadata": {},
   "outputs": [],
   "source": [
    "from slugify import slugify"
   ]
  },
  {
   "cell_type": "code",
   "execution_count": null,
   "metadata": {},
   "outputs": [],
   "source": []
  },
  {
   "cell_type": "markdown",
   "metadata": {},
   "source": [
    "## Step 6: Sequentially loop through the list of links, running the index_page function each time.\n",
    "\n",
    "Remember to include `%%time` at the beginning of the cell so that it measures the time it takes for the cell to run."
   ]
  },
  {
   "cell_type": "code",
   "execution_count": null,
   "metadata": {},
   "outputs": [],
   "source": []
  },
  {
   "cell_type": "markdown",
   "metadata": {},
   "source": [
    "## Step 7: Perform the page indexing in parallel and note the difference in performance.\n",
    "\n",
    "Remember to include `%%time` at the beginning of the cell so that it measures the time it takes for the cell to run."
   ]
  },
  {
   "cell_type": "code",
   "execution_count": null,
   "metadata": {},
   "outputs": [],
   "source": [
    "import multiprocessing"
   ]
  },
  {
   "cell_type": "code",
   "execution_count": null,
   "metadata": {},
   "outputs": [],
   "source": []
  }
 ],
 "metadata": {
  "kernelspec": {
   "display_name": "Python 3",
   "language": "python",
   "name": "python3"
  },
  "language_info": {
   "codemirror_mode": {
    "name": "ipython",
    "version": 3
   },
   "file_extension": ".py",
   "mimetype": "text/x-python",
   "name": "python",
   "nbconvert_exporter": "python",
   "pygments_lexer": "ipython3",
   "version": "3.7.6"
  }
 },
 "nbformat": 4,
 "nbformat_minor": 2
}
