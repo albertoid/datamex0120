{
 "cells": [
  {
   "cell_type": "markdown",
   "metadata": {},
   "source": [
    "# Parallelization Lab\n",
    "\n",
    "In this lab, you will be leveraging several concepts you have learned to obtain a list of links from a web page and crawl and index the pages referenced by those links - both sequentially and in parallel. Follow the steps below to complete the lab."
   ]
  },
  {
   "cell_type": "markdown",
   "metadata": {},
   "source": [
    "## Step 1: Use the requests library to retrieve the content from the URL below."
   ]
  },
  {
   "cell_type": "code",
   "execution_count": 1,
   "metadata": {},
   "outputs": [],
   "source": [
    "import requests\n",
    "\n",
    "url = 'https://en.wikipedia.org/wiki/Data_science'"
   ]
  },
  {
   "cell_type": "code",
   "execution_count": 14,
   "metadata": {},
   "outputs": [
    {
     "data": {
      "text/plain": [
       "200"
      ]
     },
     "execution_count": 14,
     "metadata": {},
     "output_type": "execute_result"
    }
   ],
   "source": [
    "r = requests.get(url)\n",
    "r.status_code\n",
    "#r.content"
   ]
  },
  {
   "cell_type": "markdown",
   "metadata": {},
   "source": [
    "## Step 2: Use BeautifulSoup to extract a list of all the unique links on the page."
   ]
  },
  {
   "cell_type": "code",
   "execution_count": 127,
   "metadata": {},
   "outputs": [],
   "source": [
    "from bs4 import BeautifulSoup as bs"
   ]
  },
  {
   "cell_type": "code",
   "execution_count": 128,
   "metadata": {},
   "outputs": [],
   "source": [
    "sopa = bs(r.text,'lxml')\n",
    "links=[a for a in sopa.find_all('a', href=True)]"
   ]
  },
  {
   "cell_type": "code",
   "execution_count": 129,
   "metadata": {
    "scrolled": true
   },
   "outputs": [],
   "source": [
    "#Marcar como false todo lo que no empieze con <a href=\n",
    "for i in range(len(links)):\n",
    "    links[i]=str(links[i])\n",
    "    if links[i].find('<a href=\"/wiki/') !=0:\n",
    "        links[i]=False\n",
    "#Remover de la lista los False\n",
    "for i in range(links.count(False)):\n",
    "    links.remove(False) \n",
    "#Quitar etiquetas y href y title con su texto\n",
    "for i in range(len(links)):\n",
    "    links[i]=links[i].replace('<a href=\"/wiki','https://en.wikipedia.org/wiki')\n",
    "    fin=links[i].find('\"')\n",
    "    links[i]=links[i][:fin]\n",
    "    \n"
   ]
  },
  {
   "cell_type": "code",
   "execution_count": 130,
   "metadata": {},
   "outputs": [
    {
     "name": "stdout",
     "output_type": "stream",
     "text": [
      "Links extraidos: 208\n",
      "Links unicos: 160\n"
     ]
    }
   ],
   "source": [
    "print('Links extraidos:',len(links))\n",
    "links = set(links)\n",
    "links = list(links)\n",
    "print('Links unicos:',len(links))"
   ]
  },
  {
   "cell_type": "code",
   "execution_count": 133,
   "metadata": {},
   "outputs": [
    {
     "data": {
      "text/plain": [
       "['https://en.wikipedia.org/wiki/Academic_journal',\n",
       " 'https://en.wikipedia.org/wiki/Academic_publishing',\n",
       " 'https://en.wikipedia.org/wiki/Academy',\n",
       " 'https://en.wikipedia.org/wiki/American_Statistical_Association',\n",
       " 'https://en.wikipedia.org/wiki/Analytics',\n",
       " 'https://en.wikipedia.org/wiki/Anomaly_detection',\n",
       " 'https://en.wikipedia.org/wiki/Applied_science',\n",
       " 'https://en.wikipedia.org/wiki/Artificial_neural_network',\n",
       " 'https://en.wikipedia.org/wiki/Association_rule_learning',\n",
       " 'https://en.wikipedia.org/wiki/Autoencoder',\n",
       " 'https://en.wikipedia.org/wiki/Automated_machine_learning',\n",
       " 'https://en.wikipedia.org/wiki/BIRCH',\n",
       " 'https://en.wikipedia.org/wiki/Basic_research',\n",
       " 'https://en.wikipedia.org/wiki/Bayesian_network',\n",
       " 'https://en.wikipedia.org/wiki/Big_data',\n",
       " 'https://en.wikipedia.org/wiki/Boosting_(machine_learning)',\n",
       " 'https://en.wikipedia.org/wiki/Bootstrap_aggregating',\n",
       " 'https://en.wikipedia.org/wiki/Category:All_articles_with_unsourced_statements',\n",
       " 'https://en.wikipedia.org/wiki/Category:Articles_with_unsourced_statements_from_April_2018',\n",
       " 'https://en.wikipedia.org/wiki/Category:Computational_fields_of_study',\n",
       " 'https://en.wikipedia.org/wiki/Category:Computer_occupations',\n",
       " 'https://en.wikipedia.org/wiki/Category:Data_analysis',\n",
       " 'https://en.wikipedia.org/wiki/Category:Information_science',\n",
       " 'https://en.wikipedia.org/wiki/Category:Use_dmy_dates_from_December_2012',\n",
       " 'https://en.wikipedia.org/wiki/Category:Webarchive_template_wayback_links',\n",
       " 'https://en.wikipedia.org/wiki/Cluster_analysis',\n",
       " 'https://en.wikipedia.org/wiki/Computational_learning_theory',\n",
       " 'https://en.wikipedia.org/wiki/Computational_science',\n",
       " 'https://en.wikipedia.org/wiki/Computer_science',\n",
       " 'https://en.wikipedia.org/wiki/Computing',\n",
       " 'https://en.wikipedia.org/wiki/Conditional_random_field',\n",
       " 'https://en.wikipedia.org/wiki/Conference_on_Neural_Information_Processing_Systems',\n",
       " 'https://en.wikipedia.org/wiki/Convolutional_neural_network',\n",
       " 'https://en.wikipedia.org/wiki/DBSCAN',\n",
       " 'https://en.wikipedia.org/wiki/DJ_Patil',\n",
       " 'https://en.wikipedia.org/wiki/Data_analysis',\n",
       " 'https://en.wikipedia.org/wiki/Data_mining',\n",
       " 'https://en.wikipedia.org/wiki/Data_science',\n",
       " 'https://en.wikipedia.org/wiki/Data_set',\n",
       " 'https://en.wikipedia.org/wiki/Database',\n",
       " 'https://en.wikipedia.org/wiki/David_Donoho',\n",
       " 'https://en.wikipedia.org/wiki/Decision_tree_learning',\n",
       " 'https://en.wikipedia.org/wiki/DeepDream',\n",
       " 'https://en.wikipedia.org/wiki/Deep_learning',\n",
       " 'https://en.wikipedia.org/wiki/Digital_object_identifier',\n",
       " 'https://en.wikipedia.org/wiki/Dimensionality_reduction',\n",
       " 'https://en.wikipedia.org/wiki/Discipline_(academia)',\n",
       " 'https://en.wikipedia.org/wiki/Distributed_computing',\n",
       " 'https://en.wikipedia.org/wiki/Empirical_research',\n",
       " 'https://en.wikipedia.org/wiki/Empirical_risk_minimization',\n",
       " 'https://en.wikipedia.org/wiki/Ensemble_learning',\n",
       " 'https://en.wikipedia.org/wiki/Expectation%E2%80%93maximization_algorithm',\n",
       " 'https://en.wikipedia.org/wiki/Factor_analysis',\n",
       " 'https://en.wikipedia.org/wiki/Feature_engineering',\n",
       " 'https://en.wikipedia.org/wiki/Feature_learning',\n",
       " 'https://en.wikipedia.org/wiki/Gated_recurrent_unit',\n",
       " 'https://en.wikipedia.org/wiki/General_Assembly_(school)',\n",
       " 'https://en.wikipedia.org/wiki/Generative_adversarial_network',\n",
       " 'https://en.wikipedia.org/wiki/Glossary_of_artificial_intelligence',\n",
       " 'https://en.wikipedia.org/wiki/Graduate_school',\n",
       " 'https://en.wikipedia.org/wiki/Grammar_induction',\n",
       " 'https://en.wikipedia.org/wiki/Graphical_model',\n",
       " 'https://en.wikipedia.org/wiki/Harvard_Business_Review',\n",
       " 'https://en.wikipedia.org/wiki/Help:Category',\n",
       " 'https://en.wikipedia.org/wiki/Help:Contents',\n",
       " 'https://en.wikipedia.org/wiki/Hidden_Markov_model',\n",
       " 'https://en.wikipedia.org/wiki/Hierarchical_clustering',\n",
       " 'https://en.wikipedia.org/wiki/Independent_component_analysis',\n",
       " 'https://en.wikipedia.org/wiki/Indian_Statistical_Institute',\n",
       " 'https://en.wikipedia.org/wiki/Industry',\n",
       " 'https://en.wikipedia.org/wiki/Information_explosion',\n",
       " 'https://en.wikipedia.org/wiki/Information_science',\n",
       " 'https://en.wikipedia.org/wiki/Interdisciplinarity',\n",
       " 'https://en.wikipedia.org/wiki/International_Conference_on_Machine_Learning',\n",
       " 'https://en.wikipedia.org/wiki/International_Standard_Book_Number',\n",
       " 'https://en.wikipedia.org/wiki/International_Standard_Serial_Number',\n",
       " 'https://en.wikipedia.org/wiki/Jeff_Hammerbacher',\n",
       " 'https://en.wikipedia.org/wiki/Jeffrey_T._Leek',\n",
       " 'https://en.wikipedia.org/wiki/Jim_Gray_(computer_scientist)',\n",
       " 'https://en.wikipedia.org/wiki/Journal_of_Machine_Learning_Research',\n",
       " 'https://en.wikipedia.org/wiki/K-means_clustering',\n",
       " 'https://en.wikipedia.org/wiki/K-nearest_neighbors_algorithm',\n",
       " 'https://en.wikipedia.org/wiki/Knowledge',\n",
       " 'https://en.wikipedia.org/wiki/Learning_to_rank',\n",
       " 'https://en.wikipedia.org/wiki/Linear_discriminant_analysis',\n",
       " 'https://en.wikipedia.org/wiki/Linear_regression',\n",
       " 'https://en.wikipedia.org/wiki/List_of_datasets_for_machine-learning_research',\n",
       " 'https://en.wikipedia.org/wiki/Local_outlier_factor',\n",
       " 'https://en.wikipedia.org/wiki/Logistic_regression',\n",
       " 'https://en.wikipedia.org/wiki/Long_short-term_memory',\n",
       " 'https://en.wikipedia.org/wiki/Machine_Learning_(journal)',\n",
       " 'https://en.wikipedia.org/wiki/Machine_learning',\n",
       " 'https://en.wikipedia.org/wiki/Mathematics',\n",
       " 'https://en.wikipedia.org/wiki/Methodology',\n",
       " 'https://en.wikipedia.org/wiki/Montpellier_2_University',\n",
       " 'https://en.wikipedia.org/wiki/Multilayer_perceptron',\n",
       " 'https://en.wikipedia.org/wiki/NYU_Stern_Center_for_Business_and_Human_Rights',\n",
       " 'https://en.wikipedia.org/wiki/Naive_Bayes_classifier',\n",
       " 'https://en.wikipedia.org/wiki/Nate_Silver',\n",
       " 'https://en.wikipedia.org/wiki/National_Institutes_of_Health',\n",
       " 'https://en.wikipedia.org/wiki/New_York_University',\n",
       " 'https://en.wikipedia.org/wiki/Non-negative_matrix_factorization',\n",
       " 'https://en.wikipedia.org/wiki/OPTICS_algorithm',\n",
       " 'https://en.wikipedia.org/wiki/Occam_learning',\n",
       " 'https://en.wikipedia.org/wiki/Online_machine_learning',\n",
       " 'https://en.wikipedia.org/wiki/Open_science',\n",
       " 'https://en.wikipedia.org/wiki/Outline_of_machine_learning',\n",
       " 'https://en.wikipedia.org/wiki/Paradigm',\n",
       " 'https://en.wikipedia.org/wiki/Pattern_recognition',\n",
       " 'https://en.wikipedia.org/wiki/Perceptron',\n",
       " 'https://en.wikipedia.org/wiki/Peter_Naur',\n",
       " 'https://en.wikipedia.org/wiki/Portal:Current_events',\n",
       " 'https://en.wikipedia.org/wiki/Prasanta_Chandra_Mahalanobis',\n",
       " 'https://en.wikipedia.org/wiki/Predictive_modelling',\n",
       " 'https://en.wikipedia.org/wiki/Principal_component_analysis',\n",
       " 'https://en.wikipedia.org/wiki/Probably_approximately_correct_learning',\n",
       " 'https://en.wikipedia.org/wiki/PubMed_Central',\n",
       " 'https://en.wikipedia.org/wiki/Q-learning',\n",
       " 'https://en.wikipedia.org/wiki/Random_forest',\n",
       " 'https://en.wikipedia.org/wiki/Recurrent_neural_network',\n",
       " 'https://en.wikipedia.org/wiki/Regression_analysis',\n",
       " 'https://en.wikipedia.org/wiki/Reinforcement_learning',\n",
       " 'https://en.wikipedia.org/wiki/Relevance_vector_machine',\n",
       " 'https://en.wikipedia.org/wiki/Restricted_Boltzmann_machine',\n",
       " 'https://en.wikipedia.org/wiki/Self-organizing_map',\n",
       " 'https://en.wikipedia.org/wiki/Semi-supervised_learning',\n",
       " 'https://en.wikipedia.org/wiki/Social_science',\n",
       " 'https://en.wikipedia.org/wiki/Special:BookSources/0-12-241770-4',\n",
       " 'https://en.wikipedia.org/wiki/Special:BookSources/978-0-9825442-0-4',\n",
       " 'https://en.wikipedia.org/wiki/Special:BookSources/9784431702085',\n",
       " 'https://en.wikipedia.org/wiki/State%E2%80%93action%E2%80%93reward%E2%80%93state%E2%80%93action',\n",
       " 'https://en.wikipedia.org/wiki/Statistical_classification',\n",
       " 'https://en.wikipedia.org/wiki/Statistical_learning_theory',\n",
       " 'https://en.wikipedia.org/wiki/Statistical_theory',\n",
       " 'https://en.wikipedia.org/wiki/Statistician',\n",
       " 'https://en.wikipedia.org/wiki/Statistics',\n",
       " 'https://en.wikipedia.org/wiki/Structured_prediction',\n",
       " 'https://en.wikipedia.org/wiki/Supervised_learning',\n",
       " 'https://en.wikipedia.org/wiki/Support-vector_machine',\n",
       " 'https://en.wikipedia.org/wiki/T-distributed_stochastic_neighbor_embedding',\n",
       " 'https://en.wikipedia.org/wiki/Template:Machine_learning_bar',\n",
       " 'https://en.wikipedia.org/wiki/Template_talk:Machine_learning_bar',\n",
       " 'https://en.wikipedia.org/wiki/Temporal_difference_learning',\n",
       " 'https://en.wikipedia.org/wiki/The_Data_Incubator',\n",
       " 'https://en.wikipedia.org/wiki/The_Wall_Street_Journal',\n",
       " 'https://en.wikipedia.org/wiki/Theory',\n",
       " 'https://en.wikipedia.org/wiki/Thomas_H._Davenport',\n",
       " 'https://en.wikipedia.org/wiki/U-Net',\n",
       " 'https://en.wikipedia.org/wiki/University_of_Essex',\n",
       " 'https://en.wikipedia.org/wiki/University_of_Michigan',\n",
       " 'https://en.wikipedia.org/wiki/Unstructured_data',\n",
       " 'https://en.wikipedia.org/wiki/Unsupervised_learning',\n",
       " 'https://en.wikipedia.org/wiki/Vapnik%E2%80%93Chervonenkis_theory',\n",
       " 'https://en.wikipedia.org/wiki/Wayback_Machine',\n",
       " 'https://en.wikipedia.org/wiki/Wikipedia:About',\n",
       " 'https://en.wikipedia.org/wiki/Wikipedia:Citation_needed',\n",
       " 'https://en.wikipedia.org/wiki/Wikipedia:Community_portal',\n",
       " 'https://en.wikipedia.org/wiki/Wikipedia:Contents',\n",
       " 'https://en.wikipedia.org/wiki/Wikipedia:Featured_content',\n",
       " 'https://en.wikipedia.org/wiki/Wikipedia:General_disclaimer']"
      ]
     },
     "execution_count": 133,
     "metadata": {},
     "output_type": "execute_result"
    }
   ],
   "source": [
    "links.sort()\n",
    "links"
   ]
  },
  {
   "cell_type": "code",
   "execution_count": 100,
   "metadata": {},
   "outputs": [
    {
     "data": {
      "text/plain": [
       "329"
      ]
     },
     "execution_count": 100,
     "metadata": {},
     "output_type": "execute_result"
    }
   ],
   "source": [
    "type(links.count(False))\n",
    "len(links)"
   ]
  },
  {
   "cell_type": "markdown",
   "metadata": {},
   "source": [
    "## Step 3: Use list comprehensions with conditions to clean the link list.\n",
    "\n",
    "There are two types of links, absolute and relative. Absolute links have the full URL and begin with http while relative links begin with a forward slash (/) and point to an internal page within the wikipedia.org domain. Clean the respective types of URLs as follows.\n",
    "\n",
    "- Absolute Links: Create a list of these and remove any that contain a percentage sign (%).\n",
    "- Relativel Links: Create a list of these, add the domain to the link so that you have the full URL, and remove any that contain a percentage sign (%).\n",
    "- Combine the list of absolute and relative links and ensure there are no duplicates."
   ]
  },
  {
   "cell_type": "code",
   "execution_count": null,
   "metadata": {},
   "outputs": [],
   "source": [
    "domain = 'http://wikipedia.org'"
   ]
  },
  {
   "cell_type": "code",
   "execution_count": null,
   "metadata": {},
   "outputs": [],
   "source": []
  },
  {
   "cell_type": "markdown",
   "metadata": {},
   "source": [
    "## Step 4: Use the os library to create a folder called *wikipedia* and make that the current working directory."
   ]
  },
  {
   "cell_type": "code",
   "execution_count": null,
   "metadata": {},
   "outputs": [],
   "source": [
    "import os"
   ]
  },
  {
   "cell_type": "code",
   "execution_count": null,
   "metadata": {},
   "outputs": [],
   "source": []
  },
  {
   "cell_type": "markdown",
   "metadata": {},
   "source": [
    "## Step 5: Write a function called index_page that accepts a link and does the following.\n",
    "\n",
    "- Tries to request the content of the page referenced by that link.\n",
    "- Slugifies the filename using the `slugify` function from the [python-slugify](https://pypi.org/project/python-slugify/) library and adds a .html file extension.\n",
    "    - If you don't already have the python-slugify library installed, you can pip install it as follows: `$ pip install python-slugify`.\n",
    "    - To import the slugify function, you would do the following: `from slugify import slugify`.\n",
    "    - You can then slugify a link as follows `slugify(link)`.\n",
    "- Creates a file in the wikipedia folder using the slugified filename and writes the contents of the page to the file.\n",
    "- If an exception occurs during the process above, just `pass`."
   ]
  },
  {
   "cell_type": "code",
   "execution_count": null,
   "metadata": {},
   "outputs": [],
   "source": [
    "from slugify import slugify"
   ]
  },
  {
   "cell_type": "code",
   "execution_count": null,
   "metadata": {},
   "outputs": [],
   "source": []
  },
  {
   "cell_type": "markdown",
   "metadata": {},
   "source": [
    "## Step 6: Sequentially loop through the list of links, running the index_page function each time.\n",
    "\n",
    "Remember to include `%%time` at the beginning of the cell so that it measures the time it takes for the cell to run."
   ]
  },
  {
   "cell_type": "code",
   "execution_count": null,
   "metadata": {},
   "outputs": [],
   "source": []
  },
  {
   "cell_type": "markdown",
   "metadata": {},
   "source": [
    "## Step 7: Perform the page indexing in parallel and note the difference in performance.\n",
    "\n",
    "Remember to include `%%time` at the beginning of the cell so that it measures the time it takes for the cell to run."
   ]
  },
  {
   "cell_type": "code",
   "execution_count": null,
   "metadata": {},
   "outputs": [],
   "source": [
    "import multiprocessing"
   ]
  },
  {
   "cell_type": "code",
   "execution_count": null,
   "metadata": {},
   "outputs": [],
   "source": []
  }
 ],
 "metadata": {
  "kernelspec": {
   "display_name": "Python 3",
   "language": "python",
   "name": "python3"
  },
  "language_info": {
   "codemirror_mode": {
    "name": "ipython",
    "version": 3
   },
   "file_extension": ".py",
   "mimetype": "text/x-python",
   "name": "python",
   "nbconvert_exporter": "python",
   "pygments_lexer": "ipython3",
   "version": "3.7.6"
  }
 },
 "nbformat": 4,
 "nbformat_minor": 2
}
