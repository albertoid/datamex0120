{
 "cells": [
  {
   "cell_type": "code",
   "execution_count": 116,
   "metadata": {},
   "outputs": [],
   "source": [
    "import json\n",
    "import requests\n",
    "import pandas as pd\n",
    "from pandas.io.json import json_normalize\n",
    "import base64"
   ]
  },
  {
   "cell_type": "code",
   "execution_count": 25,
   "metadata": {},
   "outputs": [],
   "source": [
    "get_repo='http://api.github.com/repos/{}/git/trees/master?recursive=1'.format(repo)\n",
    "\n",
    "get_repo=requests.get(get_repo, auth=(user, key))\n",
    "res=get_repo.json()\n",
    "#res['tree']"
   ]
  },
  {
   "cell_type": "code",
   "execution_count": 78,
   "metadata": {},
   "outputs": [],
   "source": [
    "res_flat=json_normalize(res)"
   ]
  },
  {
   "cell_type": "code",
   "execution_count": 79,
   "metadata": {},
   "outputs": [
    {
     "data": {
      "text/plain": [
       "0    [{'path': '.gitignore', 'mode': '100644', 'typ...\n",
       "Name: tree, dtype: object"
      ]
     },
     "execution_count": 79,
     "metadata": {},
     "output_type": "execute_result"
    }
   ],
   "source": [
    "res_flat['tree']"
   ]
  },
  {
   "cell_type": "code",
   "execution_count": 80,
   "metadata": {},
   "outputs": [],
   "source": [
    "res_flat_tree_flat=json_normalize(res_flat['tree'][0])"
   ]
  },
  {
   "cell_type": "code",
   "execution_count": 81,
   "metadata": {},
   "outputs": [
    {
     "data": {
      "text/html": [
       "<div>\n",
       "<style scoped>\n",
       "    .dataframe tbody tr th:only-of-type {\n",
       "        vertical-align: middle;\n",
       "    }\n",
       "\n",
       "    .dataframe tbody tr th {\n",
       "        vertical-align: top;\n",
       "    }\n",
       "\n",
       "    .dataframe thead th {\n",
       "        text-align: right;\n",
       "    }\n",
       "</style>\n",
       "<table border=\"1\" class=\"dataframe\">\n",
       "  <thead>\n",
       "    <tr style=\"text-align: right;\">\n",
       "      <th></th>\n",
       "      <th>path</th>\n",
       "      <th>mode</th>\n",
       "      <th>type</th>\n",
       "      <th>sha</th>\n",
       "      <th>size</th>\n",
       "      <th>url</th>\n",
       "    </tr>\n",
       "  </thead>\n",
       "  <tbody>\n",
       "    <tr>\n",
       "      <th>0</th>\n",
       "      <td>.gitignore</td>\n",
       "      <td>100644</td>\n",
       "      <td>blob</td>\n",
       "      <td>e43b0f988953ae3a84b00331d0ccf5f7d51cb3cf</td>\n",
       "      <td>10.0</td>\n",
       "      <td>https://api.github.com/repos/ironhack-datalabs...</td>\n",
       "    </tr>\n",
       "    <tr>\n",
       "      <th>1</th>\n",
       "      <td>15024</td>\n",
       "      <td>040000</td>\n",
       "      <td>tree</td>\n",
       "      <td>2945e51c87ad5da893c954afcf092f06343bbb7d</td>\n",
       "      <td>NaN</td>\n",
       "      <td>https://api.github.com/repos/ironhack-datalabs...</td>\n",
       "    </tr>\n",
       "    <tr>\n",
       "      <th>2</th>\n",
       "      <td>15024/.0006.scavengerhunt</td>\n",
       "      <td>100644</td>\n",
       "      <td>blob</td>\n",
       "      <td>1c9064284a24b3486015eafdb391b141c27ada2b</td>\n",
       "      <td>3.0</td>\n",
       "      <td>https://api.github.com/repos/ironhack-datalabs...</td>\n",
       "    </tr>\n",
       "    <tr>\n",
       "      <th>3</th>\n",
       "      <td>15024/40</td>\n",
       "      <td>100644</td>\n",
       "      <td>blob</td>\n",
       "      <td>e69de29bb2d1d6434b8b29ae775ad8c2e48c5391</td>\n",
       "      <td>0.0</td>\n",
       "      <td>https://api.github.com/repos/ironhack-datalabs...</td>\n",
       "    </tr>\n",
       "    <tr>\n",
       "      <th>4</th>\n",
       "      <td>15024/74</td>\n",
       "      <td>100644</td>\n",
       "      <td>blob</td>\n",
       "      <td>e69de29bb2d1d6434b8b29ae775ad8c2e48c5391</td>\n",
       "      <td>0.0</td>\n",
       "      <td>https://api.github.com/repos/ironhack-datalabs...</td>\n",
       "    </tr>\n",
       "    <tr>\n",
       "      <th>...</th>\n",
       "      <td>...</td>\n",
       "      <td>...</td>\n",
       "      <td>...</td>\n",
       "      <td>...</td>\n",
       "      <td>...</td>\n",
       "      <td>...</td>\n",
       "    </tr>\n",
       "    <tr>\n",
       "      <th>104</th>\n",
       "      <td>97881/71</td>\n",
       "      <td>100644</td>\n",
       "      <td>blob</td>\n",
       "      <td>e69de29bb2d1d6434b8b29ae775ad8c2e48c5391</td>\n",
       "      <td>0.0</td>\n",
       "      <td>https://api.github.com/repos/ironhack-datalabs...</td>\n",
       "    </tr>\n",
       "    <tr>\n",
       "      <th>105</th>\n",
       "      <td>98750</td>\n",
       "      <td>040000</td>\n",
       "      <td>tree</td>\n",
       "      <td>cdc23915e0a5179127458431986ba3750840a924</td>\n",
       "      <td>NaN</td>\n",
       "      <td>https://api.github.com/repos/ironhack-datalabs...</td>\n",
       "    </tr>\n",
       "    <tr>\n",
       "      <th>106</th>\n",
       "      <td>98750/.0001.scavengerhunt</td>\n",
       "      <td>100644</td>\n",
       "      <td>blob</td>\n",
       "      <td>2add7632f1323136324efbf38ec66db1838b6173</td>\n",
       "      <td>3.0</td>\n",
       "      <td>https://api.github.com/repos/ironhack-datalabs...</td>\n",
       "    </tr>\n",
       "    <tr>\n",
       "      <th>107</th>\n",
       "      <td>98750/20</td>\n",
       "      <td>100644</td>\n",
       "      <td>blob</td>\n",
       "      <td>e69de29bb2d1d6434b8b29ae775ad8c2e48c5391</td>\n",
       "      <td>0.0</td>\n",
       "      <td>https://api.github.com/repos/ironhack-datalabs...</td>\n",
       "    </tr>\n",
       "    <tr>\n",
       "      <th>108</th>\n",
       "      <td>98750/62</td>\n",
       "      <td>100644</td>\n",
       "      <td>blob</td>\n",
       "      <td>e69de29bb2d1d6434b8b29ae775ad8c2e48c5391</td>\n",
       "      <td>0.0</td>\n",
       "      <td>https://api.github.com/repos/ironhack-datalabs...</td>\n",
       "    </tr>\n",
       "  </tbody>\n",
       "</table>\n",
       "<p>109 rows × 6 columns</p>\n",
       "</div>"
      ],
      "text/plain": [
       "                          path    mode  type  \\\n",
       "0                   .gitignore  100644  blob   \n",
       "1                        15024  040000  tree   \n",
       "2    15024/.0006.scavengerhunt  100644  blob   \n",
       "3                     15024/40  100644  blob   \n",
       "4                     15024/74  100644  blob   \n",
       "..                         ...     ...   ...   \n",
       "104                   97881/71  100644  blob   \n",
       "105                      98750  040000  tree   \n",
       "106  98750/.0001.scavengerhunt  100644  blob   \n",
       "107                   98750/20  100644  blob   \n",
       "108                   98750/62  100644  blob   \n",
       "\n",
       "                                          sha  size  \\\n",
       "0    e43b0f988953ae3a84b00331d0ccf5f7d51cb3cf  10.0   \n",
       "1    2945e51c87ad5da893c954afcf092f06343bbb7d   NaN   \n",
       "2    1c9064284a24b3486015eafdb391b141c27ada2b   3.0   \n",
       "3    e69de29bb2d1d6434b8b29ae775ad8c2e48c5391   0.0   \n",
       "4    e69de29bb2d1d6434b8b29ae775ad8c2e48c5391   0.0   \n",
       "..                                        ...   ...   \n",
       "104  e69de29bb2d1d6434b8b29ae775ad8c2e48c5391   0.0   \n",
       "105  cdc23915e0a5179127458431986ba3750840a924   NaN   \n",
       "106  2add7632f1323136324efbf38ec66db1838b6173   3.0   \n",
       "107  e69de29bb2d1d6434b8b29ae775ad8c2e48c5391   0.0   \n",
       "108  e69de29bb2d1d6434b8b29ae775ad8c2e48c5391   0.0   \n",
       "\n",
       "                                                   url  \n",
       "0    https://api.github.com/repos/ironhack-datalabs...  \n",
       "1    https://api.github.com/repos/ironhack-datalabs...  \n",
       "2    https://api.github.com/repos/ironhack-datalabs...  \n",
       "3    https://api.github.com/repos/ironhack-datalabs...  \n",
       "4    https://api.github.com/repos/ironhack-datalabs...  \n",
       "..                                                 ...  \n",
       "104  https://api.github.com/repos/ironhack-datalabs...  \n",
       "105  https://api.github.com/repos/ironhack-datalabs...  \n",
       "106  https://api.github.com/repos/ironhack-datalabs...  \n",
       "107  https://api.github.com/repos/ironhack-datalabs...  \n",
       "108  https://api.github.com/repos/ironhack-datalabs...  \n",
       "\n",
       "[109 rows x 6 columns]"
      ]
     },
     "execution_count": 81,
     "metadata": {},
     "output_type": "execute_result"
    }
   ],
   "source": [
    "res_flat_tree_flat #Flat de flats sobre el elemento tree"
   ]
  },
  {
   "cell_type": "code",
   "execution_count": 82,
   "metadata": {},
   "outputs": [
    {
     "data": {
      "text/plain": [
       "Index(['path', 'mode', 'type', 'sha', 'size', 'url'], dtype='object')"
      ]
     },
     "execution_count": 82,
     "metadata": {},
     "output_type": "execute_result"
    }
   ],
   "source": [
    "res_flat_tree_flat['url'][2]\n",
    "res_flat_tree_flat.columns"
   ]
  },
  {
   "cell_type": "code",
   "execution_count": 83,
   "metadata": {},
   "outputs": [
    {
     "data": {
      "text/plain": [
       "[['15024/.0006.scavengerhunt',\n",
       "  'https://api.github.com/repos/ironhack-datalabs/scavenger/git/blobs/1c9064284a24b3486015eafdb391b141c27ada2b'],\n",
       " ['15534/.0008.scavengerhunt',\n",
       "  'https://api.github.com/repos/ironhack-datalabs/scavenger/git/blobs/e351fb73264581ce26504b97ef07daea35116f32'],\n",
       " ['15534/.0012.scavengerhunt',\n",
       "  'https://api.github.com/repos/ironhack-datalabs/scavenger/git/blobs/209e3ef4b6247ce746048d5711befda46206d235'],\n",
       " ['17020/.0007.scavengerhunt',\n",
       "  'https://api.github.com/repos/ironhack-datalabs/scavenger/git/blobs/6abb415e0ae3450be0f323113bcca2af195ebbff'],\n",
       " ['30351/.0021.scavengerhunt',\n",
       "  'https://api.github.com/repos/ironhack-datalabs/scavenger/git/blobs/fb828e4a926b0a84fc16111fc0ee3eeec41f0ce7'],\n",
       " ['40303/.0022.scavengerhunt',\n",
       "  'https://api.github.com/repos/ironhack-datalabs/scavenger/git/blobs/bf3efa02f721c40c03a613824e345243a35f6812'],\n",
       " ['44639/.0005.scavengerhunt',\n",
       "  'https://api.github.com/repos/ironhack-datalabs/scavenger/git/blobs/3aaf448b40f878cf3067e2323616143bdde600de'],\n",
       " ['45525/.0018.scavengerhunt',\n",
       "  'https://api.github.com/repos/ironhack-datalabs/scavenger/git/blobs/397b22b2dc371e8db59ed327f0b75321e4c0d0f2'],\n",
       " ['47222/.0016.scavengerhunt',\n",
       "  'https://api.github.com/repos/ironhack-datalabs/scavenger/git/blobs/f5cb13223fdc1b11f4cfbbe1694f533b3c579fa0'],\n",
       " ['47222/.0024.scavengerhunt',\n",
       "  'https://api.github.com/repos/ironhack-datalabs/scavenger/git/blobs/47eb4306e5fec9e051dacabc7039348109784b94'],\n",
       " ['47830/.0010.scavengerhunt',\n",
       "  'https://api.github.com/repos/ironhack-datalabs/scavenger/git/blobs/c1187c4badc9be6990570cef850fc87dcf3523b0'],\n",
       " ['49418/.0014.scavengerhunt',\n",
       "  'https://api.github.com/repos/ironhack-datalabs/scavenger/git/blobs/1c9064284a24b3486015eafdb391b141c27ada2b'],\n",
       " ['50896/.0011.scavengerhunt',\n",
       "  'https://api.github.com/repos/ironhack-datalabs/scavenger/git/blobs/1a00a70b240d8947af0aaa04f1a93a52c72f7420'],\n",
       " ['55417/.0023.scavengerhunt',\n",
       "  'https://api.github.com/repos/ironhack-datalabs/scavenger/git/blobs/04d0ffb8d895a9e3ee244493e829a24468bd1f60'],\n",
       " ['55685/.0020.scavengerhunt',\n",
       "  'https://api.github.com/repos/ironhack-datalabs/scavenger/git/blobs/41d25f51c301c5eee3737998b0d86573e4e91b90'],\n",
       " ['60224/.0003.scavengerhunt',\n",
       "  'https://api.github.com/repos/ironhack-datalabs/scavenger/git/blobs/ba524d7abc4b3a0c0995eb85c9eef470e9e7172f'],\n",
       " ['68848/.0004.scavengerhunt',\n",
       "  'https://api.github.com/repos/ironhack-datalabs/scavenger/git/blobs/d15a2cc44e31b14c65264271b81072e5ba0e1634'],\n",
       " ['70751/.0019.scavengerhunt',\n",
       "  'https://api.github.com/repos/ironhack-datalabs/scavenger/git/blobs/09e16f36b3c4993ba924b1074629283a49869be9'],\n",
       " ['70985/.0017.scavengerhunt',\n",
       "  'https://api.github.com/repos/ironhack-datalabs/scavenger/git/blobs/e351fb73264581ce26504b97ef07daea35116f32'],\n",
       " ['88596/.0002.scavengerhunt',\n",
       "  'https://api.github.com/repos/ironhack-datalabs/scavenger/git/blobs/1269488f7fb1f4b56a8c0e5eb48cecbfadfa9219'],\n",
       " ['89338/.0013.scavengerhunt',\n",
       "  'https://api.github.com/repos/ironhack-datalabs/scavenger/git/blobs/3aaf448b40f878cf3067e2323616143bdde600de'],\n",
       " ['91701/.0015.scavengerhunt',\n",
       "  'https://api.github.com/repos/ironhack-datalabs/scavenger/git/blobs/6abb415e0ae3450be0f323113bcca2af195ebbff'],\n",
       " ['97881/.0009.scavengerhunt',\n",
       "  'https://api.github.com/repos/ironhack-datalabs/scavenger/git/blobs/f5cb13223fdc1b11f4cfbbe1694f533b3c579fa0'],\n",
       " ['98750/.0001.scavengerhunt',\n",
       "  'https://api.github.com/repos/ironhack-datalabs/scavenger/git/blobs/2add7632f1323136324efbf38ec66db1838b6173']]"
      ]
     },
     "execution_count": 83,
     "metadata": {},
     "output_type": "execute_result"
    }
   ],
   "source": [
    "list_paths=[]\n",
    "for i in range(len(res_flat_tree_flat)):\n",
    "    if res_flat_tree_flat['path'][i].find('scavengerhunt') >= 0:\n",
    "        list_paths.append([res_flat_tree_flat['path'][i],res_flat_tree_flat['url'][i]])\n",
    "\n",
    "list_paths\n"
   ]
  },
  {
   "cell_type": "code",
   "execution_count": 84,
   "metadata": {},
   "outputs": [],
   "source": [
    "#extraccion de los caracteres 9 y 10 que tiene el indice del orden de los archivos\n",
    "for i in range(len(list_paths)):\n",
    "    list_paths[i][0]=list_paths[i][0][9]+list_paths[i][0][10]\n",
    "    "
   ]
  },
  {
   "cell_type": "code",
   "execution_count": 85,
   "metadata": {},
   "outputs": [],
   "source": [
    "#transformacion a entero del numero extraido\n",
    "for i in range(len(list_paths)):\n",
    "    list_paths[i][0]=int(list_paths[i][0])"
   ]
  },
  {
   "cell_type": "code",
   "execution_count": 86,
   "metadata": {},
   "outputs": [
    {
     "data": {
      "text/plain": [
       "[[6,\n",
       "  'https://api.github.com/repos/ironhack-datalabs/scavenger/git/blobs/1c9064284a24b3486015eafdb391b141c27ada2b'],\n",
       " [8,\n",
       "  'https://api.github.com/repos/ironhack-datalabs/scavenger/git/blobs/e351fb73264581ce26504b97ef07daea35116f32'],\n",
       " [12,\n",
       "  'https://api.github.com/repos/ironhack-datalabs/scavenger/git/blobs/209e3ef4b6247ce746048d5711befda46206d235'],\n",
       " [7,\n",
       "  'https://api.github.com/repos/ironhack-datalabs/scavenger/git/blobs/6abb415e0ae3450be0f323113bcca2af195ebbff'],\n",
       " [21,\n",
       "  'https://api.github.com/repos/ironhack-datalabs/scavenger/git/blobs/fb828e4a926b0a84fc16111fc0ee3eeec41f0ce7'],\n",
       " [22,\n",
       "  'https://api.github.com/repos/ironhack-datalabs/scavenger/git/blobs/bf3efa02f721c40c03a613824e345243a35f6812'],\n",
       " [5,\n",
       "  'https://api.github.com/repos/ironhack-datalabs/scavenger/git/blobs/3aaf448b40f878cf3067e2323616143bdde600de'],\n",
       " [18,\n",
       "  'https://api.github.com/repos/ironhack-datalabs/scavenger/git/blobs/397b22b2dc371e8db59ed327f0b75321e4c0d0f2'],\n",
       " [16,\n",
       "  'https://api.github.com/repos/ironhack-datalabs/scavenger/git/blobs/f5cb13223fdc1b11f4cfbbe1694f533b3c579fa0'],\n",
       " [24,\n",
       "  'https://api.github.com/repos/ironhack-datalabs/scavenger/git/blobs/47eb4306e5fec9e051dacabc7039348109784b94'],\n",
       " [10,\n",
       "  'https://api.github.com/repos/ironhack-datalabs/scavenger/git/blobs/c1187c4badc9be6990570cef850fc87dcf3523b0'],\n",
       " [14,\n",
       "  'https://api.github.com/repos/ironhack-datalabs/scavenger/git/blobs/1c9064284a24b3486015eafdb391b141c27ada2b'],\n",
       " [11,\n",
       "  'https://api.github.com/repos/ironhack-datalabs/scavenger/git/blobs/1a00a70b240d8947af0aaa04f1a93a52c72f7420'],\n",
       " [23,\n",
       "  'https://api.github.com/repos/ironhack-datalabs/scavenger/git/blobs/04d0ffb8d895a9e3ee244493e829a24468bd1f60'],\n",
       " [20,\n",
       "  'https://api.github.com/repos/ironhack-datalabs/scavenger/git/blobs/41d25f51c301c5eee3737998b0d86573e4e91b90'],\n",
       " [3,\n",
       "  'https://api.github.com/repos/ironhack-datalabs/scavenger/git/blobs/ba524d7abc4b3a0c0995eb85c9eef470e9e7172f'],\n",
       " [4,\n",
       "  'https://api.github.com/repos/ironhack-datalabs/scavenger/git/blobs/d15a2cc44e31b14c65264271b81072e5ba0e1634'],\n",
       " [19,\n",
       "  'https://api.github.com/repos/ironhack-datalabs/scavenger/git/blobs/09e16f36b3c4993ba924b1074629283a49869be9'],\n",
       " [17,\n",
       "  'https://api.github.com/repos/ironhack-datalabs/scavenger/git/blobs/e351fb73264581ce26504b97ef07daea35116f32'],\n",
       " [2,\n",
       "  'https://api.github.com/repos/ironhack-datalabs/scavenger/git/blobs/1269488f7fb1f4b56a8c0e5eb48cecbfadfa9219'],\n",
       " [13,\n",
       "  'https://api.github.com/repos/ironhack-datalabs/scavenger/git/blobs/3aaf448b40f878cf3067e2323616143bdde600de'],\n",
       " [15,\n",
       "  'https://api.github.com/repos/ironhack-datalabs/scavenger/git/blobs/6abb415e0ae3450be0f323113bcca2af195ebbff'],\n",
       " [9,\n",
       "  'https://api.github.com/repos/ironhack-datalabs/scavenger/git/blobs/f5cb13223fdc1b11f4cfbbe1694f533b3c579fa0'],\n",
       " [1,\n",
       "  'https://api.github.com/repos/ironhack-datalabs/scavenger/git/blobs/2add7632f1323136324efbf38ec66db1838b6173']]"
      ]
     },
     "execution_count": 86,
     "metadata": {},
     "output_type": "execute_result"
    }
   ],
   "source": [
    "list_paths"
   ]
  },
  {
   "cell_type": "code",
   "execution_count": 103,
   "metadata": {},
   "outputs": [
    {
     "data": {
      "text/plain": [
       "[[1,\n",
       "  'https://api.github.com/repos/ironhack-datalabs/scavenger/git/blobs/2add7632f1323136324efbf38ec66db1838b6173'],\n",
       " [2,\n",
       "  'https://api.github.com/repos/ironhack-datalabs/scavenger/git/blobs/1269488f7fb1f4b56a8c0e5eb48cecbfadfa9219'],\n",
       " [3,\n",
       "  'https://api.github.com/repos/ironhack-datalabs/scavenger/git/blobs/ba524d7abc4b3a0c0995eb85c9eef470e9e7172f'],\n",
       " [4,\n",
       "  'https://api.github.com/repos/ironhack-datalabs/scavenger/git/blobs/d15a2cc44e31b14c65264271b81072e5ba0e1634'],\n",
       " [5,\n",
       "  'https://api.github.com/repos/ironhack-datalabs/scavenger/git/blobs/3aaf448b40f878cf3067e2323616143bdde600de'],\n",
       " [6,\n",
       "  'https://api.github.com/repos/ironhack-datalabs/scavenger/git/blobs/1c9064284a24b3486015eafdb391b141c27ada2b'],\n",
       " [7,\n",
       "  'https://api.github.com/repos/ironhack-datalabs/scavenger/git/blobs/6abb415e0ae3450be0f323113bcca2af195ebbff'],\n",
       " [8,\n",
       "  'https://api.github.com/repos/ironhack-datalabs/scavenger/git/blobs/e351fb73264581ce26504b97ef07daea35116f32'],\n",
       " [9,\n",
       "  'https://api.github.com/repos/ironhack-datalabs/scavenger/git/blobs/f5cb13223fdc1b11f4cfbbe1694f533b3c579fa0'],\n",
       " [10,\n",
       "  'https://api.github.com/repos/ironhack-datalabs/scavenger/git/blobs/c1187c4badc9be6990570cef850fc87dcf3523b0'],\n",
       " [11,\n",
       "  'https://api.github.com/repos/ironhack-datalabs/scavenger/git/blobs/1a00a70b240d8947af0aaa04f1a93a52c72f7420'],\n",
       " [12,\n",
       "  'https://api.github.com/repos/ironhack-datalabs/scavenger/git/blobs/209e3ef4b6247ce746048d5711befda46206d235'],\n",
       " [13,\n",
       "  'https://api.github.com/repos/ironhack-datalabs/scavenger/git/blobs/3aaf448b40f878cf3067e2323616143bdde600de'],\n",
       " [14,\n",
       "  'https://api.github.com/repos/ironhack-datalabs/scavenger/git/blobs/1c9064284a24b3486015eafdb391b141c27ada2b'],\n",
       " [15,\n",
       "  'https://api.github.com/repos/ironhack-datalabs/scavenger/git/blobs/6abb415e0ae3450be0f323113bcca2af195ebbff'],\n",
       " [16,\n",
       "  'https://api.github.com/repos/ironhack-datalabs/scavenger/git/blobs/f5cb13223fdc1b11f4cfbbe1694f533b3c579fa0'],\n",
       " [17,\n",
       "  'https://api.github.com/repos/ironhack-datalabs/scavenger/git/blobs/e351fb73264581ce26504b97ef07daea35116f32'],\n",
       " [18,\n",
       "  'https://api.github.com/repos/ironhack-datalabs/scavenger/git/blobs/397b22b2dc371e8db59ed327f0b75321e4c0d0f2'],\n",
       " [19,\n",
       "  'https://api.github.com/repos/ironhack-datalabs/scavenger/git/blobs/09e16f36b3c4993ba924b1074629283a49869be9'],\n",
       " [20,\n",
       "  'https://api.github.com/repos/ironhack-datalabs/scavenger/git/blobs/41d25f51c301c5eee3737998b0d86573e4e91b90'],\n",
       " [21,\n",
       "  'https://api.github.com/repos/ironhack-datalabs/scavenger/git/blobs/fb828e4a926b0a84fc16111fc0ee3eeec41f0ce7'],\n",
       " [22,\n",
       "  'https://api.github.com/repos/ironhack-datalabs/scavenger/git/blobs/bf3efa02f721c40c03a613824e345243a35f6812'],\n",
       " [23,\n",
       "  'https://api.github.com/repos/ironhack-datalabs/scavenger/git/blobs/04d0ffb8d895a9e3ee244493e829a24468bd1f60'],\n",
       " [24,\n",
       "  'https://api.github.com/repos/ironhack-datalabs/scavenger/git/blobs/47eb4306e5fec9e051dacabc7039348109784b94']]"
      ]
     },
     "execution_count": 103,
     "metadata": {},
     "output_type": "execute_result"
    }
   ],
   "source": [
    "#ordenamiento de las listas por el elemento 0 (indice de orden)\n",
    "list_paths_sorted=[]\n",
    "\n",
    "for i in range(len(list_paths)):\n",
    "    for j in range(len(list_paths)):\n",
    "        if list_paths[j][0] == i+1:\n",
    "            list_paths_sorted.append(list_paths[j])\n",
    "\n",
    "list_paths_sorted        "
   ]
  },
  {
   "cell_type": "code",
   "execution_count": 132,
   "metadata": {},
   "outputs": [
    {
     "name": "stdout",
     "output_type": "stream",
     "text": [
      " In data science, 80 percent of time spent is preparing data, 20 percent of time is spent complaining about the need to prepare data.\n"
     ]
    }
   ],
   "source": [
    "msg_ok=''\n",
    "for i in range(len(list_paths_sorted)):\n",
    "    p=list_paths_sorted[i][1]\n",
    "    get=requests.get(p, auth=(user, key))\n",
    "    msg=get.json()\n",
    "    msg_ok= msg_ok + ' ' +base64.b64decode(msg['content']).decode().replace('\\n','')\n",
    "\n",
    "print(msg_ok)"
   ]
  }
 ],
 "metadata": {
  "kernelspec": {
   "display_name": "Python 3",
   "language": "python",
   "name": "python3"
  },
  "language_info": {
   "codemirror_mode": {
    "name": "ipython",
    "version": 3
   },
   "file_extension": ".py",
   "mimetype": "text/x-python",
   "name": "python",
   "nbconvert_exporter": "python",
   "pygments_lexer": "ipython3",
   "version": "3.7.6"
  }
 },
 "nbformat": 4,
 "nbformat_minor": 4
}
