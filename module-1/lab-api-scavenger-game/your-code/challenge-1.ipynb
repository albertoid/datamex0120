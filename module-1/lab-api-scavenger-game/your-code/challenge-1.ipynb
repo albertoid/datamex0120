{
 "cells": [
  {
   "cell_type": "code",
   "execution_count": 5,
   "metadata": {},
   "outputs": [],
   "source": [
    "import json\n",
    "import requests\n",
    "import pandas as pd\n",
    "from pandas.io.json import json_normalize"
   ]
  },
  {
   "cell_type": "code",
   "execution_count": 6,
   "metadata": {},
   "outputs": [],
   "source": [
    "#Asignacion de token para acceso\n",
    "\n",
    "with open('token.txt', 'r') as f:\n",
    "    acceso=f.readlines()[0].split('=')\n",
    "\n",
    "user=acceso[0].lstrip('\\ufeff')\n",
    "key=acceso[1].rstrip('\\n')"
   ]
  },
  {
   "cell_type": "code",
   "execution_count": 7,
   "metadata": {},
   "outputs": [
    {
     "name": "stdout",
     "output_type": "stream",
     "text": [
      "Status servidor: 401\n"
     ]
    }
   ],
   "source": [
    "#Conexion y descarga de la informacion desde el API de Github\n",
    "\n",
    "repo='ironhack-datalabs/datamex0120'\n",
    "url_forks = 'http://api.github.com/repos/'+ repo +'/forks'\n",
    "\n",
    "res_fork = requests.get(url_forks, auth=(user, key))\n",
    "res=res_fork.json()\n",
    "\n",
    "print('Status servidor:',res_fork.status_code)\n"
   ]
  },
  {
   "cell_type": "code",
   "execution_count": 8,
   "metadata": {},
   "outputs": [],
   "source": [
    "#1. Obtain the full list of forks created from the main lab repo via Github API.\n"
   ]
  },
  {
   "cell_type": "code",
   "execution_count": null,
   "metadata": {},
   "outputs": [],
   "source": [
    "lista_forks = []\n",
    "data_forks_list =[]\n",
    "for i in range(len(data_forks_flat)):\n",
    "    lista_forks.append(data_forks_flat['full_name'][i])\n",
    "\n",
    "for i in range(len(data_forks_flat)):\n",
    "    reqx = requests.get(url+'/forks/'+lista_forks[i])\n",
    "    \n",
    "    data_forks_list.append(reqx.jason())"
   ]
  },
  {
   "cell_type": "code",
   "execution_count": null,
   "metadata": {},
   "outputs": [],
   "source": [
    "#2. Loop the JSON response to find out the language attribute of each fork. \n",
    "#Use an array to store the language attributes of each fork.\n",
    "#Hint: Each language should appear only once in your array.\n",
    "#Print the language array. It should be something like:\n",
    "#[\"Python\", \"Jupyter Notebook\", \"HTML\"]\n"
   ]
  },
  {
   "cell_type": "code",
   "execution_count": null,
   "metadata": {},
   "outputs": [],
   "source": [
    "#res = requests.get('https://github.com/ironhack-datalabs/scavenger?client_id=albertoid&client_secret=Al18028!')\n",
    "#print(res.status_code)\n",
    "#data = pd.DataFrame(response.json())\n",
    "#data.head()\n",
    "\n"
   ]
  },
  {
   "cell_type": "code",
   "execution_count": null,
   "metadata": {},
   "outputs": [],
   "source": []
  },
  {
   "cell_type": "code",
   "execution_count": null,
   "metadata": {},
   "outputs": [],
   "source": []
  }
 ],
 "metadata": {
  "kernelspec": {
   "display_name": "Python 3",
   "language": "python",
   "name": "python3"
  },
  "language_info": {
   "codemirror_mode": {
    "name": "ipython",
    "version": 3
   },
   "file_extension": ".py",
   "mimetype": "text/x-python",
   "name": "python",
   "nbconvert_exporter": "python",
   "pygments_lexer": "ipython3",
   "version": "3.7.6"
  }
 },
 "nbformat": 4,
 "nbformat_minor": 4
}
