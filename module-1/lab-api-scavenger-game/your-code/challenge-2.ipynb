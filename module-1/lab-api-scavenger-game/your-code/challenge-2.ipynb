{
 "cells": [
  {
   "cell_type": "code",
   "execution_count": 1,
   "metadata": {},
   "outputs": [],
   "source": [
    "import json\n",
    "import requests\n",
    "import pandas as pd\n",
    "from pandas.io.json import json_normalize\n",
    "from datetime import datetime"
   ]
  },
  {
   "cell_type": "code",
   "execution_count": 2,
   "metadata": {},
   "outputs": [],
   "source": [
    "#Asignacion de token para acceso\n",
    "\n",
    "with open('token.txt', 'r') as f:\n",
    "    acceso=f.readlines()[0].split('=')\n",
    "\n",
    "user=acceso[0].lstrip('\\ufeff')\n",
    "key=acceso[1].rstrip('\\n')"
   ]
  },
  {
   "cell_type": "code",
   "execution_count": 3,
   "metadata": {},
   "outputs": [],
   "source": [
    "repo='ironhack-datalabs/datamex0120'\n",
    "\n",
    "now = datetime.now()\n",
    "current_time = now.strftime(\"%Y-%m-%dT%H:%M:%SZ\")\n",
    "\n",
    "since='2020-01-01T00:00:00Z'\n",
    "until= current_time\n",
    "\n",
    "url_commits = get_commits='http://api.github.com/repos/'+repo+'/commits?since='+since+'&until='+until"
   ]
  },
  {
   "cell_type": "code",
   "execution_count": 5,
   "metadata": {},
   "outputs": [
    {
     "name": "stdout",
     "output_type": "stream",
     "text": [
      "Status servidor: 200\n"
     ]
    }
   ],
   "source": [
    "#Conexion y descarga de la informacion desde el API de Github\n",
    "\n",
    "res_commits= requests.get(url_commits, auth=(user, key))\n",
    "res=res_commits.json()\n",
    "\n",
    "print('Status servidor:',res_commits.status_code)"
   ]
  },
  {
   "cell_type": "code",
   "execution_count": 14,
   "metadata": {},
   "outputs": [
    {
     "name": "stdout",
     "output_type": "stream",
     "text": [
      "Commits del 2020-01-01T00:00:00Z al 2020-01-21T16:34:08Z = 1\n"
     ]
    }
   ],
   "source": [
    "commits=[]\n",
    "\n",
    "for i in range(len(res)):\n",
    "    commits.append(res[i]['committer'])\n",
    "\n",
    "print('Commits del {} al {} ='.format(since, until),len(commits))"
   ]
  }
 ],
 "metadata": {
  "kernelspec": {
   "display_name": "Python 3",
   "language": "python",
   "name": "python3"
  },
  "language_info": {
   "codemirror_mode": {
    "name": "ipython",
    "version": 3
   },
   "file_extension": ".py",
   "mimetype": "text/x-python",
   "name": "python",
   "nbconvert_exporter": "python",
   "pygments_lexer": "ipython3",
   "version": "3.7.6"
  }
 },
 "nbformat": 4,
 "nbformat_minor": 4
}
