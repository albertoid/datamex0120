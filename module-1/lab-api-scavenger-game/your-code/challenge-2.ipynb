{
 "cells": [
  {
   "cell_type": "code",
   "execution_count": 6,
   "metadata": {},
   "outputs": [],
   "source": [
    "import json\n",
    "import requests\n",
    "import pandas as pd\n",
    "from pandas.io.json import json_normalize\n",
    "from datetime import datetime"
   ]
  },
  {
   "cell_type": "code",
   "execution_count": 4,
   "metadata": {},
   "outputs": [],
   "source": [
    "#Asignacion de token para acceso\n",
    "\n",
    "with open('token.txt', 'r') as f:\n",
    "    acceso=f.readlines()[0].split('=')\n",
    "\n",
    "user=acceso[0].lstrip('\\ufeff')\n",
    "key=acceso[1].rstrip('\\n')"
   ]
  },
  {
   "cell_type": "code",
   "execution_count": 5,
   "metadata": {},
   "outputs": [
    {
     "name": "stdout",
     "output_type": "stream",
     "text": [
      "Status servidor: 200\n"
     ]
    }
   ],
   "source": [
    "#Conexion y descarga de la informacion desde el API de Github\n",
    "\n",
    "repo='ironhack-datalabs/datamex0120'\n",
    "url_forks = 'http://api.github.com/repos/'+ repo +'/forks'\n",
    "\n",
    "res_fork = requests.get(url_forks, auth=(user, key))\n",
    "res=res_fork.json()\n",
    "\n",
    "print('Status servidor:',res_fork.status_code)"
   ]
  },
  {
   "cell_type": "code",
   "execution_count": 19,
   "metadata": {},
   "outputs": [],
   "source": [
    "res_flat=json_normalize(res)\n",
    "df_res_flat=pd.DataFrame(res_flat)\n",
    "#df_res_flat.columns"
   ]
  },
  {
   "cell_type": "code",
   "execution_count": 32,
   "metadata": {},
   "outputs": [],
   "source": [
    "repo='ironhack-datalabs/datamex0120'\n",
    "\n",
    "now = datetime.now()\n",
    "current_time = now.strftime(\"%Y-%m-%dT%H:%M:%SZ\")\n",
    "\n",
    "since='2020-01-01T00:00:00Z'\n",
    "until= current_time"
   ]
  },
  {
   "cell_type": "code",
   "execution_count": 33,
   "metadata": {},
   "outputs": [],
   "source": [
    "get_commits='http://api.github.com/repos/'+repo+'/commits?since='+since+'&until='+until\n",
    "\n",
    "res_commit=requests.get(get_commits, auth=(user, key))\n",
    "results_commit=res_commit.json()"
   ]
  },
  {
   "cell_type": "code",
   "execution_count": null,
   "metadata": {},
   "outputs": [],
   "source": []
  },
  {
   "cell_type": "code",
   "execution_count": 40,
   "metadata": {},
   "outputs": [
    {
     "name": "stdout",
     "output_type": "stream",
     "text": [
      "Commits del 2020-01-01T00:00:00Z al 2020-01-21T16:22:11Z = 1\n"
     ]
    }
   ],
   "source": [
    "commits=[]\n",
    "\n",
    "for i in range(len(results_commit)):\n",
    "    commits.append(results_commit[i]['committer'])\n",
    "\n",
    "print('Commits del {} al {} ='.format(since, until),len(commits))"
   ]
  },
  {
   "cell_type": "code",
   "execution_count": null,
   "metadata": {},
   "outputs": [],
   "source": []
  }
 ],
 "metadata": {
  "kernelspec": {
   "display_name": "Python 3",
   "language": "python",
   "name": "python3"
  },
  "language_info": {
   "codemirror_mode": {
    "name": "ipython",
    "version": 3
   },
   "file_extension": ".py",
   "mimetype": "text/x-python",
   "name": "python",
   "nbconvert_exporter": "python",
   "pygments_lexer": "ipython3",
   "version": "3.7.6"
  }
 },
 "nbformat": 4,
 "nbformat_minor": 4
}
